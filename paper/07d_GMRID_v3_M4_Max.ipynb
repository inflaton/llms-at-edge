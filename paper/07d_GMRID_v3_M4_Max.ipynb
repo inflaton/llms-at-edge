{
 "cells": [
  {
   "cell_type": "markdown",
   "id": "9e9c5119",
   "metadata": {},
   "source": [
    "## Set up"
   ]
  },
  {
   "cell_type": "code",
   "execution_count": 1,
   "id": "3ddf645f",
   "metadata": {},
   "outputs": [],
   "source": [
    "%load_ext autoreload\n",
    "%autoreload 2"
   ]
  },
  {
   "cell_type": "code",
   "execution_count": 2,
   "id": "42801c6a",
   "metadata": {},
   "outputs": [
    {
     "name": "stdout",
     "output_type": "stream",
     "text": [
      "workding dir: /Users/inflaton/code/papers/maritime-incidents-ai-agents\n",
      "loading env vars from: /Users/inflaton/code/papers/maritime-incidents-ai-agents/.env.example\n"
     ]
    },
    {
     "data": {
      "text/plain": [
       "True"
      ]
     },
     "execution_count": 2,
     "metadata": {},
     "output_type": "execute_result"
    }
   ],
   "source": [
    "import os\n",
    "import sys\n",
    "from pathlib import Path\n",
    "\n",
    "if \"workding_dir\" not in globals():\n",
    "    workding_dir = str(Path.cwd().parent)\n",
    "\n",
    "os.chdir(workding_dir)\n",
    "sys.path.append(workding_dir)\n",
    "print(\"workding dir:\", workding_dir)\n",
    "\n",
    "from dotenv import find_dotenv, load_dotenv\n",
    "\n",
    "found_dotenv = find_dotenv(\".env\")\n",
    "\n",
    "if len(found_dotenv) == 0:\n",
    "    found_dotenv = find_dotenv(\".env.example\")\n",
    "print(f\"loading env vars from: {found_dotenv}\")\n",
    "load_dotenv(found_dotenv, override=True)"
   ]
  },
  {
   "cell_type": "code",
   "execution_count": 3,
   "id": "e81300af",
   "metadata": {},
   "outputs": [
    {
     "name": "stdout",
     "output_type": "stream",
     "text": [
      "loading env vars from: /Users/inflaton/code/papers/maritime-incidents-ai-agents/.env.example\n",
      "Adding /Users/inflaton/code/papers/maritime-incidents-ai-agents to sys.path\n",
      "loading /Users/inflaton/code/papers/maritime-incidents-ai-agents/llm_toolkit/data_utils.py\n",
      "CPU times: user 2.09 s, sys: 3.87 s, total: 5.96 s\n",
      "Wall time: 1min 20s\n"
     ]
    },
    {
     "data": {
      "text/plain": [
       "('dataset/GMRID_v3.csv',\n",
       " 'paper/data/ollama_model_results_v3-M4_Max.csv',\n",
       " '8192')"
      ]
     },
     "execution_count": 3,
     "metadata": {},
     "output_type": "execute_result"
    }
   ],
   "source": [
    "%%time\n",
    "\n",
    "from llm_toolkit.eval_openai import *\n",
    "from tqdm.notebook import tqdm\n",
    "\n",
    "tqdm.pandas()\n",
    "\n",
    "data_path = os.getenv(\"DATA_PATH\")\n",
    "results_path = \"paper/data/ollama_model_results_v3-M4_Max.csv\"\n",
    "num_ctx = os.getenv(\"NUM_CTX\")\n",
    "data_path, results_path, num_ctx"
   ]
  },
  {
   "cell_type": "code",
   "execution_count": 4,
   "id": "6ece954d",
   "metadata": {},
   "outputs": [],
   "source": [
    "# run cells above before running anything below"
   ]
  },
  {
   "cell_type": "markdown",
   "id": "8fa708cc",
   "metadata": {},
   "source": [
    "## Creating GMRID_v3.csv"
   ]
  },
  {
   "cell_type": "code",
   "execution_count": 4,
   "id": "ddf1e32e-7751-43db-9b5a-22cb08e35c6c",
   "metadata": {},
   "outputs": [
    {
     "data": {
      "text/plain": [
       "(5780, 17)"
      ]
     },
     "execution_count": 4,
     "metadata": {},
     "output_type": "execute_result"
    }
   ],
   "source": [
    "import pandas as pd\n",
    "\n",
    "df = pd.read_csv(\"dataset/cleaned_data.csv\")\n",
    "df.shape"
   ]
  },
  {
   "cell_type": "code",
   "execution_count": 5,
   "id": "5ab579f5",
   "metadata": {},
   "outputs": [
    {
     "data": {
      "text/plain": [
       "(5750, 17)"
      ]
     },
     "execution_count": 5,
     "metadata": {},
     "output_type": "execute_result"
    }
   ],
   "source": [
    "df.drop_duplicates(subset=[\"Details\"], inplace=True, keep=\"first\")\n",
    "df.shape"
   ]
  },
  {
   "cell_type": "code",
   "execution_count": 6,
   "id": "a9c6ed07-a7d0-4aaa-b571-038919c75e05",
   "metadata": {},
   "outputs": [
    {
     "name": "stdout",
     "output_type": "stream",
     "text": [
      "<class 'pandas.core.frame.DataFrame'>\n",
      "Index: 5750 entries, 0 to 5779\n",
      "Data columns (total 17 columns):\n",
      " #   Column              Non-Null Count  Dtype  \n",
      "---  ------              --------------  -----  \n",
      " 0   id                  5750 non-null   int64  \n",
      " 1   Headline            5750 non-null   object \n",
      " 2   Details             5750 non-null   object \n",
      " 3   Severity            5750 non-null   object \n",
      " 4   Category            5750 non-null   object \n",
      " 5   Region              5750 non-null   object \n",
      " 6   Datetime            5750 non-null   object \n",
      " 7   Year                5750 non-null   int64  \n",
      " 8   lat                 3861 non-null   float64\n",
      " 9   lon                 3861 non-null   float64\n",
      " 10  maritime_label      5750 non-null   bool   \n",
      " 11  found_ports         5748 non-null   object \n",
      " 12  contains_port_info  5748 non-null   float64\n",
      " 13  if_labeled          5748 non-null   object \n",
      " 14  Month               5748 non-null   float64\n",
      " 15  Week                5748 non-null   float64\n",
      " 16  Headline_Details    5748 non-null   object \n",
      "dtypes: bool(1), float64(5), int64(2), object(9)\n",
      "memory usage: 769.3+ KB\n"
     ]
    }
   ],
   "source": [
    "df.info()"
   ]
  },
  {
   "cell_type": "code",
   "execution_count": 7,
   "id": "851ad098",
   "metadata": {},
   "outputs": [
    {
     "name": "stdout",
     "output_type": "stream",
     "text": [
      "<class 'pandas.core.frame.DataFrame'>\n",
      "Index: 5750 entries, 0 to 5779\n",
      "Data columns (total 17 columns):\n",
      " #   Column              Non-Null Count  Dtype         \n",
      "---  ------              --------------  -----         \n",
      " 0   id                  5750 non-null   int64         \n",
      " 1   Headline            5750 non-null   object        \n",
      " 2   Details             5750 non-null   object        \n",
      " 3   Severity            5750 non-null   object        \n",
      " 4   Category            5750 non-null   object        \n",
      " 5   Region              5750 non-null   object        \n",
      " 6   Datetime            5750 non-null   datetime64[ns]\n",
      " 7   Year                5750 non-null   int64         \n",
      " 8   lat                 3861 non-null   float64       \n",
      " 9   lon                 3861 non-null   float64       \n",
      " 10  maritime_label      5750 non-null   bool          \n",
      " 11  found_ports         5750 non-null   object        \n",
      " 12  contains_port_info  5750 non-null   bool          \n",
      " 13  if_labeled          5748 non-null   object        \n",
      " 14  Month               5748 non-null   float64       \n",
      " 15  Week                5748 non-null   float64       \n",
      " 16  Headline_Details    5748 non-null   object        \n",
      "dtypes: bool(2), datetime64[ns](1), float64(4), int64(2), object(8)\n",
      "memory usage: 730.0+ KB\n"
     ]
    },
    {
     "name": "stderr",
     "output_type": "stream",
     "text": [
      "/var/folders/7x/56svhln929zdh2xhr3mwqg4r0000gn/T/ipykernel_70203/1689747020.py:6: UserWarning: Could not infer format, so each element will be parsed individually, falling back to `dateutil`. To ensure parsing is consistent and as-expected, please specify a format.\n",
      "  df[\"Datetime\"] = pd.to_datetime(df[\"Datetime\"])\n"
     ]
    }
   ],
   "source": [
    "# convert Headline, Details to string\n",
    "df[\"Headline\"] = df[\"Headline\"].astype(str)\n",
    "df[\"Details\"] = df[\"Details\"].astype(str)\n",
    "\n",
    "# convert Datetime to datetime\n",
    "df[\"Datetime\"] = pd.to_datetime(df[\"Datetime\"])\n",
    "\n",
    "# convert maritime_label, if_labeled to bool\n",
    "df[\"maritime_label\"] = df[\"maritime_label\"].astype(bool)\n",
    "df[\"contains_port_info\"] = df[\"contains_port_info\"].astype(bool)\n",
    "\n",
    "# convert found_ports to list\n",
    "df[\"found_ports\"] = df[\"found_ports\"].apply(\n",
    "    lambda x: eval(x) if isinstance(x, str) else []\n",
    ")\n",
    "\n",
    "# convert id to int\n",
    "df[\"id\"] = df[\"id\"].astype(int)\n",
    "\n",
    "df.info()"
   ]
  },
  {
   "cell_type": "code",
   "execution_count": 8,
   "id": "b74f8543",
   "metadata": {},
   "outputs": [],
   "source": [
    "# find rows with datatime does not match the Year and Month\n",
    "df[\"year\"] = df[\"Datetime\"].dt.year.astype(\"int64\")\n",
    "df[\"month\"] = df[\"Datetime\"].dt.month.astype(\"int64\")\n",
    "df[\"week\"] = df[\"Datetime\"].dt.isocalendar().week.astype(\"int64\")"
   ]
  },
  {
   "cell_type": "code",
   "execution_count": 9,
   "id": "93c38089",
   "metadata": {},
   "outputs": [
    {
     "name": "stdout",
     "output_type": "stream",
     "text": [
      "<class 'pandas.core.series.Series'>\n",
      "Index: 5750 entries, 0 to 5779\n",
      "Series name: Year\n",
      "Non-Null Count  Dtype\n",
      "--------------  -----\n",
      "5750 non-null   int64\n",
      "dtypes: int64(1)\n",
      "memory usage: 89.8 KB\n"
     ]
    }
   ],
   "source": [
    "df[\"Year\"].info()"
   ]
  },
  {
   "cell_type": "code",
   "execution_count": 10,
   "id": "5382d3bf",
   "metadata": {},
   "outputs": [
    {
     "name": "stdout",
     "output_type": "stream",
     "text": [
      "<class 'pandas.core.series.Series'>\n",
      "Index: 5750 entries, 0 to 5779\n",
      "Series name: Month\n",
      "Non-Null Count  Dtype  \n",
      "--------------  -----  \n",
      "5748 non-null   float64\n",
      "dtypes: float64(1)\n",
      "memory usage: 89.8 KB\n"
     ]
    }
   ],
   "source": [
    "df[\"Month\"].info()"
   ]
  },
  {
   "cell_type": "code",
   "execution_count": 11,
   "id": "f9a67cd2",
   "metadata": {},
   "outputs": [
    {
     "name": "stdout",
     "output_type": "stream",
     "text": [
      "<class 'pandas.core.series.Series'>\n",
      "Index: 5750 entries, 0 to 5779\n",
      "Series name: Week\n",
      "Non-Null Count  Dtype  \n",
      "--------------  -----  \n",
      "5748 non-null   float64\n",
      "dtypes: float64(1)\n",
      "memory usage: 89.8 KB\n"
     ]
    }
   ],
   "source": [
    "df[\"Week\"].info()"
   ]
  },
  {
   "cell_type": "code",
   "execution_count": 12,
   "id": "e58bf43f",
   "metadata": {},
   "outputs": [
    {
     "data": {
      "text/plain": [
       "(True, False)"
      ]
     },
     "execution_count": 12,
     "metadata": {},
     "output_type": "execute_result"
    }
   ],
   "source": [
    "df[\"Year\"].equals(df[\"year\"]), df[\"Month\"].equals(df[\"month\"])"
   ]
  },
  {
   "cell_type": "code",
   "execution_count": 13,
   "id": "f67ea3e0",
   "metadata": {},
   "outputs": [
    {
     "data": {
      "text/html": [
       "<div>\n",
       "<style scoped>\n",
       "    .dataframe tbody tr th:only-of-type {\n",
       "        vertical-align: middle;\n",
       "    }\n",
       "\n",
       "    .dataframe tbody tr th {\n",
       "        vertical-align: top;\n",
       "    }\n",
       "\n",
       "    .dataframe thead th {\n",
       "        text-align: right;\n",
       "    }\n",
       "</style>\n",
       "<table border=\"1\" class=\"dataframe\">\n",
       "  <thead>\n",
       "    <tr style=\"text-align: right;\">\n",
       "      <th></th>\n",
       "      <th>id</th>\n",
       "      <th>Headline</th>\n",
       "      <th>Details</th>\n",
       "      <th>Severity</th>\n",
       "      <th>Category</th>\n",
       "      <th>Region</th>\n",
       "      <th>Datetime</th>\n",
       "      <th>Year</th>\n",
       "      <th>lat</th>\n",
       "      <th>lon</th>\n",
       "      <th>maritime_label</th>\n",
       "      <th>found_ports</th>\n",
       "      <th>contains_port_info</th>\n",
       "      <th>if_labeled</th>\n",
       "      <th>Month</th>\n",
       "      <th>Week</th>\n",
       "      <th>Headline_Details</th>\n",
       "      <th>year</th>\n",
       "      <th>month</th>\n",
       "      <th>week</th>\n",
       "    </tr>\n",
       "  </thead>\n",
       "  <tbody>\n",
       "  </tbody>\n",
       "</table>\n",
       "</div>"
      ],
      "text/plain": [
       "Empty DataFrame\n",
       "Columns: [id, Headline, Details, Severity, Category, Region, Datetime, Year, lat, lon, maritime_label, found_ports, contains_port_info, if_labeled, Month, Week, Headline_Details, year, month, week]\n",
       "Index: []"
      ]
     },
     "execution_count": 13,
     "metadata": {},
     "output_type": "execute_result"
    }
   ],
   "source": [
    "df[df[\"Year\"] != df[\"year\"]]"
   ]
  },
  {
   "cell_type": "code",
   "execution_count": 14,
   "id": "f6f2822d",
   "metadata": {},
   "outputs": [
    {
     "data": {
      "text/html": [
       "<div>\n",
       "<style scoped>\n",
       "    .dataframe tbody tr th:only-of-type {\n",
       "        vertical-align: middle;\n",
       "    }\n",
       "\n",
       "    .dataframe tbody tr th {\n",
       "        vertical-align: top;\n",
       "    }\n",
       "\n",
       "    .dataframe thead th {\n",
       "        text-align: right;\n",
       "    }\n",
       "</style>\n",
       "<table border=\"1\" class=\"dataframe\">\n",
       "  <thead>\n",
       "    <tr style=\"text-align: right;\">\n",
       "      <th></th>\n",
       "      <th>id</th>\n",
       "      <th>Headline</th>\n",
       "      <th>Details</th>\n",
       "      <th>Severity</th>\n",
       "      <th>Category</th>\n",
       "      <th>Region</th>\n",
       "      <th>Datetime</th>\n",
       "      <th>Year</th>\n",
       "      <th>lat</th>\n",
       "      <th>lon</th>\n",
       "      <th>maritime_label</th>\n",
       "      <th>found_ports</th>\n",
       "      <th>contains_port_info</th>\n",
       "      <th>if_labeled</th>\n",
       "      <th>Month</th>\n",
       "      <th>Week</th>\n",
       "      <th>Headline_Details</th>\n",
       "      <th>year</th>\n",
       "      <th>month</th>\n",
       "      <th>week</th>\n",
       "    </tr>\n",
       "  </thead>\n",
       "  <tbody>\n",
       "    <tr>\n",
       "      <th>5078</th>\n",
       "      <td>5079</td>\n",
       "      <td>Daily COVID-19 roundup: Serum Institute sets p...</td>\n",
       "      <td>IHS Markit perspectiveImplicationsBahrain has ...</td>\n",
       "      <td>Minor</td>\n",
       "      <td>Regulatory Advisory</td>\n",
       "      <td>Bahrain</td>\n",
       "      <td>2020-07-12 14:44:00</td>\n",
       "      <td>2020</td>\n",
       "      <td>26.06670</td>\n",
       "      <td>50.55770</td>\n",
       "      <td>False</td>\n",
       "      <td>[]</td>\n",
       "      <td>True</td>\n",
       "      <td>NaN</td>\n",
       "      <td>NaN</td>\n",
       "      <td>NaN</td>\n",
       "      <td>NaN</td>\n",
       "      <td>2020</td>\n",
       "      <td>7</td>\n",
       "      <td>28</td>\n",
       "    </tr>\n",
       "    <tr>\n",
       "      <th>5079</th>\n",
       "      <td>5080</td>\n",
       "      <td>Daily COVID-19 roundup: US’s COVAXX enters USD...</td>\n",
       "      <td>IHS Markit perspectiveImplicationsThe number o...</td>\n",
       "      <td>Minor</td>\n",
       "      <td>Regulatory Advisory</td>\n",
       "      <td>Argentina</td>\n",
       "      <td>2020-11-26 14:03:00</td>\n",
       "      <td>2020</td>\n",
       "      <td>52.13263</td>\n",
       "      <td>5.29127</td>\n",
       "      <td>False</td>\n",
       "      <td>[]</td>\n",
       "      <td>True</td>\n",
       "      <td>NaN</td>\n",
       "      <td>NaN</td>\n",
       "      <td>NaN</td>\n",
       "      <td>NaN</td>\n",
       "      <td>2020</td>\n",
       "      <td>11</td>\n",
       "      <td>48</td>\n",
       "    </tr>\n",
       "  </tbody>\n",
       "</table>\n",
       "</div>"
      ],
      "text/plain": [
       "        id                                           Headline  \\\n",
       "5078  5079  Daily COVID-19 roundup: Serum Institute sets p...   \n",
       "5079  5080  Daily COVID-19 roundup: US’s COVAXX enters USD...   \n",
       "\n",
       "                                                Details Severity  \\\n",
       "5078  IHS Markit perspectiveImplicationsBahrain has ...    Minor   \n",
       "5079  IHS Markit perspectiveImplicationsThe number o...    Minor   \n",
       "\n",
       "                 Category     Region            Datetime  Year       lat  \\\n",
       "5078  Regulatory Advisory    Bahrain 2020-07-12 14:44:00  2020  26.06670   \n",
       "5079  Regulatory Advisory  Argentina 2020-11-26 14:03:00  2020  52.13263   \n",
       "\n",
       "           lon  maritime_label found_ports  contains_port_info if_labeled  \\\n",
       "5078  50.55770           False          []                True        NaN   \n",
       "5079   5.29127           False          []                True        NaN   \n",
       "\n",
       "      Month  Week Headline_Details  year  month  week  \n",
       "5078    NaN   NaN              NaN  2020      7    28  \n",
       "5079    NaN   NaN              NaN  2020     11    48  "
      ]
     },
     "execution_count": 14,
     "metadata": {},
     "output_type": "execute_result"
    }
   ],
   "source": [
    "df[df[\"Week\"] != df[\"week\"]]"
   ]
  },
  {
   "cell_type": "code",
   "execution_count": 15,
   "id": "437f740f",
   "metadata": {},
   "outputs": [
    {
     "data": {
      "text/html": [
       "<div>\n",
       "<style scoped>\n",
       "    .dataframe tbody tr th:only-of-type {\n",
       "        vertical-align: middle;\n",
       "    }\n",
       "\n",
       "    .dataframe tbody tr th {\n",
       "        vertical-align: top;\n",
       "    }\n",
       "\n",
       "    .dataframe thead th {\n",
       "        text-align: right;\n",
       "    }\n",
       "</style>\n",
       "<table border=\"1\" class=\"dataframe\">\n",
       "  <thead>\n",
       "    <tr style=\"text-align: right;\">\n",
       "      <th></th>\n",
       "      <th>id</th>\n",
       "      <th>Headline</th>\n",
       "      <th>Details</th>\n",
       "      <th>Severity</th>\n",
       "      <th>Category</th>\n",
       "      <th>Region</th>\n",
       "      <th>Datetime</th>\n",
       "      <th>Year</th>\n",
       "      <th>lat</th>\n",
       "      <th>lon</th>\n",
       "      <th>maritime_label</th>\n",
       "      <th>found_ports</th>\n",
       "      <th>contains_port_info</th>\n",
       "      <th>if_labeled</th>\n",
       "      <th>Month</th>\n",
       "      <th>Week</th>\n",
       "      <th>Headline_Details</th>\n",
       "      <th>year</th>\n",
       "      <th>month</th>\n",
       "      <th>week</th>\n",
       "    </tr>\n",
       "  </thead>\n",
       "  <tbody>\n",
       "    <tr>\n",
       "      <th>5078</th>\n",
       "      <td>5079</td>\n",
       "      <td>Daily COVID-19 roundup: Serum Institute sets p...</td>\n",
       "      <td>IHS Markit perspectiveImplicationsBahrain has ...</td>\n",
       "      <td>Minor</td>\n",
       "      <td>Regulatory Advisory</td>\n",
       "      <td>Bahrain</td>\n",
       "      <td>2020-07-12 14:44:00</td>\n",
       "      <td>2020</td>\n",
       "      <td>26.06670</td>\n",
       "      <td>50.55770</td>\n",
       "      <td>False</td>\n",
       "      <td>[]</td>\n",
       "      <td>True</td>\n",
       "      <td>NaN</td>\n",
       "      <td>NaN</td>\n",
       "      <td>NaN</td>\n",
       "      <td>NaN</td>\n",
       "      <td>2020</td>\n",
       "      <td>7</td>\n",
       "      <td>28</td>\n",
       "    </tr>\n",
       "    <tr>\n",
       "      <th>5079</th>\n",
       "      <td>5080</td>\n",
       "      <td>Daily COVID-19 roundup: US’s COVAXX enters USD...</td>\n",
       "      <td>IHS Markit perspectiveImplicationsThe number o...</td>\n",
       "      <td>Minor</td>\n",
       "      <td>Regulatory Advisory</td>\n",
       "      <td>Argentina</td>\n",
       "      <td>2020-11-26 14:03:00</td>\n",
       "      <td>2020</td>\n",
       "      <td>52.13263</td>\n",
       "      <td>5.29127</td>\n",
       "      <td>False</td>\n",
       "      <td>[]</td>\n",
       "      <td>True</td>\n",
       "      <td>NaN</td>\n",
       "      <td>NaN</td>\n",
       "      <td>NaN</td>\n",
       "      <td>NaN</td>\n",
       "      <td>2020</td>\n",
       "      <td>11</td>\n",
       "      <td>48</td>\n",
       "    </tr>\n",
       "  </tbody>\n",
       "</table>\n",
       "</div>"
      ],
      "text/plain": [
       "        id                                           Headline  \\\n",
       "5078  5079  Daily COVID-19 roundup: Serum Institute sets p...   \n",
       "5079  5080  Daily COVID-19 roundup: US’s COVAXX enters USD...   \n",
       "\n",
       "                                                Details Severity  \\\n",
       "5078  IHS Markit perspectiveImplicationsBahrain has ...    Minor   \n",
       "5079  IHS Markit perspectiveImplicationsThe number o...    Minor   \n",
       "\n",
       "                 Category     Region            Datetime  Year       lat  \\\n",
       "5078  Regulatory Advisory    Bahrain 2020-07-12 14:44:00  2020  26.06670   \n",
       "5079  Regulatory Advisory  Argentina 2020-11-26 14:03:00  2020  52.13263   \n",
       "\n",
       "           lon  maritime_label found_ports  contains_port_info if_labeled  \\\n",
       "5078  50.55770           False          []                True        NaN   \n",
       "5079   5.29127           False          []                True        NaN   \n",
       "\n",
       "      Month  Week Headline_Details  year  month  week  \n",
       "5078    NaN   NaN              NaN  2020      7    28  \n",
       "5079    NaN   NaN              NaN  2020     11    48  "
      ]
     },
     "execution_count": 15,
     "metadata": {},
     "output_type": "execute_result"
    }
   ],
   "source": [
    "df[df[\"Month\"] != df[\"month\"]]"
   ]
  },
  {
   "cell_type": "code",
   "execution_count": 16,
   "id": "c90bb515",
   "metadata": {},
   "outputs": [
    {
     "name": "stdout",
     "output_type": "stream",
     "text": [
      "--------------------------------------------------\n",
      "id: 5079\n",
      "--------------------------------------------------\n",
      "Headline: Daily COVID-19 roundup: Serum Institute sets price for Oxford COVID-19 vaccine at USD8 for private market, Bahrain grants regulatory approval to Pfizer’s COVID-19 vaccine\n",
      "--------------------------------------------------\n",
      "Details: IHS Markit perspectiveImplicationsBahrain has become the second country after the UK to grant emergency use authorisation for Pfizer (US) and BioNTech (Germany)’s coronavirus disease 2019 (COVID-19) vaccine. Pfizer also became the first pharmaceutical firm to seek emergency approval of a COVID-19 vaccine by the Drugs Controller General of India (DCGI); this was quickly followed by the Serum Institute of India (SII) that has also filed for emergency use authorisation in India of its domestically produced version of AstraZeneca (UK) and Oxford University’s COVID-19 vaccine, Covishield. World Health Organization (WHO) representatives have confirmed that the agency anticipates receiving 500 million doses of COVID-19 vaccines for distribution via the COVAX initiative during the first quarter of 2021. Indonesia received 1.2 million doses of Sinovac (China)’s CoronaVac vaccine candidate on 6 December 2020, with a further 1.8 million doses scheduled to arrive in early January 2021. Israel’s Ministry of Health has expanded an advanced purchase agreement (APA) order for the supply of Moderna (US)’s mRNA-1273 vaccine candidate to procure an additional 4 million doses of the COVID-19 vaccine candidate. The Canadian government has doubled its APA order for mRNA-1273 for a total order of 40 million doses to be supplied in 2021.OutlookAs the Russian COVID-19 vaccine mass vaccination campaign for Sputnik V is now under way, the Ministry of Health has revealed the maximum selling price of the vaccine at about USD26.10 for a pack of two doses. The CEO of the SII has announced that Covishield will be sold in the private market as early as March 2021 for about USD8 per dose. This suggests that 20–30 million doses of Covishield will be directed towards the private sector prior to the Indian government’s need for vaccines being met. This increases the chances of a secondary market for vaccines where people unable to access vaccines locally or from other countries could pay to purchase the vaccine, potentially delaying access to those most in need globally. With vaccine supplies not meeting demand, corruption and the emergence of a black market are also a possibility.Update on COVID-19 infectionsTotal confirmed cases of coronavirus disease 2019 (COVID-19) globally had reached 67,143,905 at the time of writing on 7 December, according to data compiled by Johns Hopkins University, compared with 65,235,456 on 4 December. The number of cases in the US, the country with the largest number of confirmed cases, rose to 14,761,577 compared with 14,143,801 on 4 December. Confirmed case numbers in India, the country with the second-highest confirmed case numbers, reached 9,677,203 compared with 9,571,559 on 4 December. India was followed by Brazil, with 6,603,540 cases (compared with 6,487,084 on 4 December), Russia (2,466,961 cases), and France (2,345,648 cases).Total deaths worldwide reported as resulting from COVID-19 had reached 1,537,260 at the time of writing, compared with 1,506,601 on the previous day. The number of deaths in the US, which is the highest of any country globally, had reached 282,324 compared with 276,366 on 4 December. In terms of fatality numbers, the US was followed by Brazil (176,941, up from 175,270 on 4 December), India (140,573), Mexico (109,717), and the United Kingdom (61,342).France: Local media sources have reported the head of infectious diseases at Paris hospital La Pitié-Salpêtrière as saying that the current modelling shows that the downtrend in the number of new COVID-19 infections may have plateaued. Based on current projections, the rate of new infections is unlikely to fall below the government’s target of less than 5,000 cases per day by 15 December. The target has been declared a prerequisite for easing certain restrictions from mid-December. The findings have increased concerns among policy-makers and healthcare authorities that the country should be bracing for a further “third wave” of new infection cases from around mid-January 2021 onwards. The latest data reveal that France reported 11,022 new COVID-19 cases on 6 December 2020. Vaccines, treatments, and diagnostics development updateVaccinesBahrain: Bahrain granted emergency use authorisation (EUA) for Pfizer (US) and BioNTech (Germany)’s COVID-19 vaccine on 4 December, according to the country’s National Health Regulatory Authority (NHRA). Bahrain has become the second country after the UK to approve the vaccine, and this follows Bahrain’s approval of Sinopharm (China)’s COVID-19 vaccine for emergency use in frontline workers. According to CEO of Bahrain’s NHRA Mariam Al-Jalahma, “The approval of the Pfizer/BioNTech vaccine will add a further important layer to the Kingdom’s [referring to Bahrain] national COVID-19 response.” The vaccine will be prioritised to high-risk groups, including the elderly, those with chronic diseases, and other vulnerable people identified by the health ministry. As cited in Arab News, head of Pfizer in the Gulf Lindsey Dietschi has commended Bahrain for “its ability to conduct an accurate assessment and take action in time to help protect citizens and residents in the Kingdom”.India: Pfizer filed for emergency approval to import and distribute its COVID-19 vaccine in India on 4 December, according to health officials. Pfizer is the first pharmaceutical firm to seek emergency approval of a COVID-19 vaccine by the Drugs Controller General of India (DCGI). According to a Pfizer spokesperson cited by Reuters, “We remain committed to engaging with the Government of India and explore opportunities to make this vaccine available for use in the country.” Pfizer’s COVID-19 vaccine was granted emergency approval in Bahrain and the UK. India: The Serum Institute of India (SII) on 6 December filed for EUA in India of its domestically produced version of AstraZeneca (UK) and Oxford University’s COVID-19 vaccine, Covishield, according to SII CEO Adar Poonawalla. The SII filed for authorisation with the DCGI based on data from four clinical trials, including two in the UK, one in Brazil, and one in India, citing unmet medical need for vaccines because of the pandemic, according to Reuters. Poonawalla has stated that the vaccine “will save countless lives” and comes soon after Pfizer’s emergency submission for approval of its COVID-19 vaccine in India. According to the Indian Council of Medical Research (ICMR), the SII has already manufactured 40 million doses of Covishield under the at-risk manufacturing and stockpiling licence that it has been granted from the DCGI. Although initial doses will be supplied to the Indian government and distributed shortly after authorisation potentially around January 2021, Poonawalla anticipates that 20–30 million doses will be sold to private facilities starting from March 2021, the Financial Times reported. The retail price for the vaccine is expected to be about INR600 (USD8.00) in the private market in India, while the “philanthropic price” for purchase by the Indian government will be USD3.00, according to the source.Turkey: Turkey’s leading domestically developed COVID-19 vaccine candidate, ERUCOV-VAC, will be advancing to Phase II human trials in weeks, according to MENAFN, citing officials. The candidate, developed by Erciyes University researchers, will conclude Phase I clinical trials in 44 participants on 14 December, with Phase II testing commencing two days later, according to the source. About 200 volunteers will be enrolled in the Phase II study, with more than 100 volunteer applications already received by the university research centre. Since the human trials for ERUCOV-VAC began in November, no serious side effects have been reported, according to the source. Ahmet Inal, deputy director of the university’s research centre, called on the public to “break their prejudice” against vaccinations and volunteer to participate in the trial. Inal added, “The higher the number of inoculations, the higher the immunity among people will be.” Turkey has already received a shipment of the Chinese COVID-19 vaccine developed by Sinovac, CoronaVac, to help tackle the pandemic, with mass vaccination of the population anticipated to begin 11 December, prioritising healthcare workers and senior citizens. Inal stated that they expect the vaccine to provide immunity for 6–8 months, which would require millions of doses (328 million if immunity lasts six months), highlighting the need for domestic production of COVID-19 vaccines to help meet this large demand and address concerns regarding safety that are often tied to imported vaccines.TreatmentsUnited States: Researchers from the University of Pennsylvania are collaborating with Regeneron (US) to investigate intranasal administration of Regeneron’s COVID-19 antibody cocktail treatment – casirivimab and imdevimab – via adeno-associated virus (AAV) vectors. The research collaboration, led by the laboratory of gene therapy pioneer and professor of medicine James Wilson, will assess the safety and efficacy of using AAV vectors to introduce a sequence of the neutralising antibodies directly to nasal epithelial cells. The use of gene therapy in this setting could help achieve a sustained expression of antibodies in the nasal mucosa, the site of SARS-CoV-2 infection, with a single administration. The AAV genome that codes for the antibody remains stable in the nucleus of transduced cells, according to a statement from the university, although there were no details on how long antibody production will be sustained by the nasal epithelial cells. The first stage of the research will include validations of the effectiveness of antibodies delivered via AAV in animal challenge trials; if successful, the team will complete studies required for an investigational new drug (IND) application with the US FDA, required to begin clinical testing. Unlike vaccines, the gene therapy would elicit immediate antibody development without the need for an immune system response. This might be particularly useful in individuals with weakened immune systems, including the elderly.United States: Eli Lilly (US) and UnitedHealth (US) have announced a partnership to evaluate the safety and efficacy of bamlanivimab versus a propensity-matched control in UnitedHealthcare Medicare Advantage members who meet the EUA criteria for the antibody – patients with mild-to-moderate COVID-19 who are at high risk of progressing to severe COVID-19 or hospitalisation. The “pragmatic” study will leverage UnitedHealth’s health benefit and Optum health businesses for daily symptom tracking via an app, self-administered in-home SARS-CoV-2 testing, as well as in-home infusion services to identify and treat a large and diverse population of COVID-19 in patients ahead of hospitalisation under real world conditions. The innovative design of the trial allows patients to remain quarantined and minimises further spread of the disease, while reducing the burden on hospitals. The trial will enrol up to 500,000 people, with at least 5,000 anticipated to receive bamlanivimab, according to Eli Lilly.DiagnosticsUnited States: The US FDA has approved Quest Diagnostics (US)’ COVID-19 + Flu RT-PCR Test, the first diagnostic test for at-home collection of samples to detect COVID-19 and influenza A and B to garner an EUA in the US. The test can be provided to patients under a healthcare provider’s order to perform at-home sample collection, and subsequently shipped to a Quest Diagnostics laboratory for analysis. According to FDA Commissioner Stephen Hahn, the tests can provide answers to patients and their healthcare providers in an expedited manner, and “this efficiency can go a long way to providing timely information for those sick with an unknown respiratory ailment”.Other developmentsAustralia – Canada – Singapore – Switzerland – United Kingdom: Pharmaceutical regulators in Australia, Canada, Singapore, Switzerland, and the United Kingdom – under the umbrella of the Access Consortium organisation – issued a joint statement on 4 December discussing the regulatory evidence requirement for COVID-19 vaccine approvals and post-market pharmacovigilance. The statement essentially repeats a previous pledge to co-operate in the area of COVID-19 vaccines regulation that was issued in May 2020, but this has been expanded to include the UK Medicines and Healthcare Products Regulatory Agency (MHRA) as the Access Consortium’s newest member. Canada: The Canadian government has doubled its advanced purchase agreement (APA) order for Moderna (US)’s mRNA-1273 COVID-19 vaccine candidate. Canadian Minister of Procurement Anita Anand announced on 4 December that the government plans to purchase an additional 20 million doses. This will take the total APA order for mRNA-1273 to 40 million doses to be supplied in 2021. IHS Markit’s COVID-19 vaccines APAs tracker previously recorded that Canadian authorities had ordered 20 million doses of mRNA-1273 (with option to expand to 56 million). A rolling regulatory submission for mRNA-1273 was started in mid-October 2020 (see World: 15 October 2020: Daily COVID-19 roundup: Moderna announces initiation of rolling submission to Health Canada for mRNA-1273, vaccine supply capacity for LMICs ramps up). The approval decision is expected in January 2021. China: Sinovac Biotech (mainland China) has reported that the company has secured USD515 million in additional funding from the Hong Kong SAR-based generics company Sino Biopharmaceutical. The cash injection will see Sino Biopharmaceutical acquire a 15% in Sinovac Life Sciences, a subsidiary of Sinovac Biotech. The new funding is intended to allow Sinovac to double manufacturing capacity for its COVID-19 vaccine candidate, CoronaVac, and prepare global distribution supply lines, primarily in the Asian region, but also in Brazil and Turkey, among other countries. Efficacy data for the COVID-19 candidate are due to be published later in December, according to IHS Markit’s weekly R&amp;D tracker. The Chinese company anticipates that manufacturing capacity will potentially reach 300 million doses of the vaccine per year, after the construction of a second manufacturing facility is completed by late 2020.France: Members of the French government’s vaccine steering committee have provided further details of the planned strategy for the deployment and administration of COVID-19 vaccines. Acknowledging the high levels of vaccine scepticism that exist in France, committee member Alain Fischer said on 6 December that healthcare authorities would proceed cautiously. The plans currently on the table call for the vaccination campaign to launch in nursing homes from 1 January 2021. Global: Pfizer and BioNTech are reportedly in closing stages of negotiations with the World Health Organization (WHO) to join the COVAX alliance for the equitable distribution of COVID-19 vaccines globally. WHO chief scientist Soumya Swaminathan has reportedly said that “discussions are going on with Pfizer and it should be finalised in two days”. Details regarding the number of potential doses of Pfizer/BioNTech’s BNT162b2 that could be secured for the COVAX Facility and the pricing arrangements are not available at the time of writing. The purpose of COVAX is to secure about 20% of a signatory country’s vaccine supply requirements over the long term, with the WHO setting a target for 2 billion doses to be delivered internationally by the end of 2021. The initiative is co-led by an international vaccine alliance known as Gavi and the Coalition for Epidemic Preparedness Innovations (CEPI). A total of 180 countries have signed up, including low- and medium-income countries as well as well-resourced nations such as Canada and the UK. Global: WHO representatives have confirmed that the agency anticipates receiving 500 million doses of COVID-19 vaccines for distribution via the COVAX initiative during the first quarter of 2021. WHO chief scientist Swaminathan has reportedly said, “Countries can start expecting doses toward the end of the first quarter of 2021. A few countries may start earlier, it's likely, possible, that we may have some learnings by going early into a few countries.” Indonesia: Health Minister Terawan Agus Putranto has issued a decree on potential EUAs of COVID-19 vaccine candidates under development, including AstaZeneca’s AZD1222 (ChAdOx1-S), Pfizer/BioNTech’s BNT162b2, Sinopharm’s candidates, Sinovac Biotech’s CoronaVac, and Moderna’s mRNA-1273. The Indonesian Food and Drug Monitoring Agency (BPOM) previously ruled against granting an EUA to the Sinovac vaccine candidate because of what regulators said was a lack of data on its effectiveness. The first regulatory approval decision by Indonesian authorities is now expected to be made in late January 2021. Indonesia: State-run news sources in Indonesia have reported that 1.2 million doses of Sinovac’s CoronaVac vaccine candidate arrived in the country on 6 December. A further 1.8 million doses are scheduled to arrive in early January 2021, according to local authorities. Israel: Israel’s Ministry of Health has expanded an APA order for the supply of Moderna’s mRNA-1273 vaccine candidate. According to a statement, the ministry has agreed to procure an additional 4 million doses of the COVID-19 vaccine candidate. This will bring Israel’s total APA order for mRNA-1273 to 6 million overall. The Jerusalem Post news source reported that a previous APA deal, struck between the Ministry of Health and Moderna in June 2020, was valued at an estimated USD73 million, meaning that each dose unit cost about USD12. The financial details of the expanded APA remain confidential, and it is unclear whether the unit cost has increased.Netherlands: Prime Minister Mark Rutte has indicated that healthcare authorities in the Netherlands are preparing to receive and distribute about 1 million doses of Pfizer/BioNTech’s BNT162b2, potentially allowing a vaccination programme to start from 4 January onwards. This is set to be followed by the planned arrival of 400,000 doses of Moderna’s mRNA-1273 over the first quarter of 2021. Poland: The first deliveries of COVID-19 vaccines will potentially arrive in Poland from early January 2021, according to the Polish prime minister’s chief of staff, Michal Dworczyk. Healthcare authorities expect to receive about 45 million doses, including through the EU joint procurement programme. Russia: Head of the Russian Direct Investment Fund (RDIF) Kirill Dmitriev has been quoted as saying that authorities are gearing up to administer the Sputnik V vaccine to 2 million Russians in December. Russia: The Russian Ministry of Health has registered the manufacturer maximum selling price for Gamaleya Institute’s Sputnik V vaccine for COVID-19 at RUB1,942 (USD26.10) for the two components together, or RUB9,710 for a pack of five two-component kits, according to reports in Pharmvestnik and Vademecum. No price limit was set for the EpiVacCorona vaccine (from Vektor, Russia). Both vaccines already have Russian interim approval, are included in the vital and essential drugs list (EDL or ZHNVLP), and are to be made available free to the Russian population. In addition, in response to an order last week from President Vladimir Putin, a major expansion of public vaccination was formally rolled out on 5 December in Moscow, prioritising workers with high-risk occupations in healthcare, education, social services, and law enforcement. According to Deputy Prime Minister Tatyana Golikova, quoted from a government briefing reported in Pharmvestnik, voluntary mass vaccination will be rolled out to all regions of Russia by the end of next week. According to Golikova, 168,000 doses of Sputnik V had been introduced into civil circulation as of 1 December, and introduction of EpiVacCorona vaccinations will begin later this month. An electronic registry for vaccinations has been opened in Moscow, and eligible workers will be required to submit evidence confirming their occupation.  South Africa: South Africa’s Ministry of Health issued a public statement on 4 December indicating that it expects to receive COVID-19 vaccine deliveries via the WHO’s COVAX global vaccine distribution scheme from around the second quarter of 2021 onwards.  United Kingdom: UK healthcare authorities are reportedly preparing to administer the first doses to patients of the recently approved Pfizer/BioNTech COVID-19 vaccine from 8 December. A prioritisation schedule calls for the first vaccine doses to be administered to individuals aged over 80 and frontline healthcare workers, followed by nursing home staff and residents. IHS Markit has previously reported that about 800,000 doses of the vaccine will be available in the country in the first week of the vaccination campaign.  United States: President-elect Joe Biden has nominated California Attorney-General Xavier Becerra as his appointment to be the next secretary of health and human services. In addition, Biden will reportedly nominate the current head of infectious diseases at the Massachusetts General Hospital, Rochelle Walensky, as the administration’s choice to lead the US Centers for Disease Control and Prevention. More of today’s IHS Markit COVID-19 analysisRussia: Russian MoH prices Sputnik V COVID-19 vaccine at RUB1,942 for two doses and rolls out public vaccination expansion (here)United Kingdom: UK government and MHRA prepare contingency plans to avoid Brexit-related disruptions in delivery of Pfizer/BioNTech COVID-19 vaccine (here)Outlook and implicationsAs the Russian COVID-19 vaccine mass vaccination campaign for Sputnik V is now under way, the Ministry of Health has revealed the maximum selling price of the vaccine at about USD26.10 for a pack of two doses, a relatively higher price compared with those of other vaccines being purchased under APAs globally at cost, including AstraZeneca’s AZD1222. Russia has not set a retail price for Sputnik V, however, and the Gamaleya Institute has confirmed that the vaccine will not be available in the private sector in Russia. Meanwhile, the CEO of the SII has announced that its version of the AstraZeneca vaccine, Covishield, which is being produced in India, will be sold in the private market as early as March 2021 for about USD8 per dose. The CEO confirmed that initial doses will go to the Indian government at a much lower price of USD3 per dose; however, Prime Minister Narendra Modi has already suggested that the country will need 300 million doses of a COVID-19 vaccine before July 2021 to be distributed to frontline health workers and priority groups. The government has not yet made a pre-order for the vaccine, and is waiting for regulatory approval that could come soon after the UK approval of AstraZeneca’s AZD1222, according to the CEO. This suggests that 20–30 million doses of Covishield will be directed towards the private sector prior to the Indian government’s need for vaccines being met. The country has a major challenge in vaccinating 1.4 billion individuals while battling one of the worst outbreaks of COVID-19 that has led to 9.5 million infections and 139,000 deaths. Several other lower- and middle-income countries waiting to purchase Covishield could encounter further delays in access if the Indian government prevents exports before its own population has been immunised. According to the Financial Times, this increases the chances of a secondary market for vaccines where people unable to access vaccines locally or from other countries could pay to purchase the vaccine, potentially delaying access to those most in need globally. With vaccine supplies not meeting demand, corruption and the emergence of a black market are also a possibility. In a statement to the Financial Times, AstraZeneca has noted, “The agreements with our partners around the world, including the Serum Institute of India, prioritise the supply to all governments and multilateral organisations in order to honour our commitment to broad and equitable access at no profit during the pandemic.”&copy; 2020, IHS Markit Inc. All rights reserved. Reproduction in whole or in part without permission is prohibited.\n",
      "--------------------------------------------------\n",
      "Severity: Minor\n",
      "--------------------------------------------------\n",
      "Category: Regulatory Advisory\n",
      "--------------------------------------------------\n",
      "Region: Bahrain\n",
      "--------------------------------------------------\n",
      "Datetime: 2020-07-12 14:44:00\n",
      "--------------------------------------------------\n",
      "Year: 2020\n",
      "--------------------------------------------------\n",
      "lat: 26.0667\n",
      "--------------------------------------------------\n",
      "lon: 50.5577\n",
      "--------------------------------------------------\n",
      "maritime_label: False\n",
      "--------------------------------------------------\n",
      "found_ports: []\n",
      "--------------------------------------------------\n",
      "contains_port_info: True\n",
      "--------------------------------------------------\n",
      "if_labeled: nan\n",
      "--------------------------------------------------\n",
      "Month: nan\n",
      "--------------------------------------------------\n",
      "Week: nan\n",
      "--------------------------------------------------\n",
      "Headline_Details: nan\n",
      "--------------------------------------------------\n",
      "year: 2020\n",
      "--------------------------------------------------\n",
      "month: 7\n",
      "--------------------------------------------------\n",
      "week: 28\n",
      "==================================================\n"
     ]
    }
   ],
   "source": [
    "print_row_details(df, [5053])"
   ]
  },
  {
   "cell_type": "code",
   "execution_count": 17,
   "id": "fa06ac97",
   "metadata": {},
   "outputs": [
    {
     "data": {
      "text/plain": [
       "(5744, 4)"
      ]
     },
     "execution_count": 17,
     "metadata": {},
     "output_type": "execute_result"
    }
   ],
   "source": [
    "df_v2 = pd.read_csv(\"dataset/global_incidents_v2.csv\")\n",
    "df_v2.shape"
   ]
  },
  {
   "cell_type": "code",
   "execution_count": 18,
   "id": "bca85923",
   "metadata": {},
   "outputs": [
    {
     "data": {
      "text/plain": [
       "(5744, 4)"
      ]
     },
     "execution_count": 18,
     "metadata": {},
     "output_type": "execute_result"
    }
   ],
   "source": [
    "df_v2.drop_duplicates(subset=[\"Details\"], inplace=True)\n",
    "df_v2.shape"
   ]
  },
  {
   "cell_type": "code",
   "execution_count": 19,
   "id": "c80740e2",
   "metadata": {},
   "outputs": [
    {
     "name": "stdout",
     "output_type": "stream",
     "text": [
      "<class 'pandas.core.frame.DataFrame'>\n",
      "RangeIndex: 5744 entries, 0 to 5743\n",
      "Data columns (total 4 columns):\n",
      " #   Column            Non-Null Count  Dtype \n",
      "---  ------            --------------  ----- \n",
      " 0   Details           5744 non-null   object\n",
      " 1   Details_cleaned   5744 non-null   object\n",
      " 2   Category          5744 non-null   object\n",
      " 3   Summarized_label  5744 non-null   object\n",
      "dtypes: object(4)\n",
      "memory usage: 179.6+ KB\n"
     ]
    }
   ],
   "source": [
    "df_v2.info()"
   ]
  },
  {
   "cell_type": "code",
   "execution_count": 20,
   "id": "0acaf899-cd96-4424-b825-c71bf042355a",
   "metadata": {
    "scrolled": true
   },
   "outputs": [
    {
     "data": {
      "text/plain": [
       "(5744, 23)"
      ]
     },
     "execution_count": 20,
     "metadata": {},
     "output_type": "execute_result"
    }
   ],
   "source": [
    "# Combine DataFrames on 'Details'\n",
    "combined_df = pd.merge(df, df_v2, on=\"Details\", how=\"inner\")\n",
    "\n",
    "# Display the combined DataFrame\n",
    "combined_df.shape"
   ]
  },
  {
   "cell_type": "code",
   "execution_count": 21,
   "id": "465acb47-5f57-4d90-a272-7972d56e002b",
   "metadata": {},
   "outputs": [
    {
     "name": "stdout",
     "output_type": "stream",
     "text": [
      "<class 'pandas.core.frame.DataFrame'>\n",
      "RangeIndex: 5744 entries, 0 to 5743\n",
      "Data columns (total 23 columns):\n",
      " #   Column              Non-Null Count  Dtype         \n",
      "---  ------              --------------  -----         \n",
      " 0   id                  5744 non-null   int64         \n",
      " 1   Headline            5744 non-null   object        \n",
      " 2   Details             5744 non-null   object        \n",
      " 3   Severity            5744 non-null   object        \n",
      " 4   Category_x          5744 non-null   object        \n",
      " 5   Region              5744 non-null   object        \n",
      " 6   Datetime            5744 non-null   datetime64[ns]\n",
      " 7   Year                5744 non-null   int64         \n",
      " 8   lat                 3856 non-null   float64       \n",
      " 9   lon                 3856 non-null   float64       \n",
      " 10  maritime_label      5744 non-null   bool          \n",
      " 11  found_ports         5744 non-null   object        \n",
      " 12  contains_port_info  5744 non-null   bool          \n",
      " 13  if_labeled          5742 non-null   object        \n",
      " 14  Month               5742 non-null   float64       \n",
      " 15  Week                5742 non-null   float64       \n",
      " 16  Headline_Details    5742 non-null   object        \n",
      " 17  year                5744 non-null   int64         \n",
      " 18  month               5744 non-null   int64         \n",
      " 19  week                5744 non-null   int64         \n",
      " 20  Details_cleaned     5744 non-null   object        \n",
      " 21  Category_y          5744 non-null   object        \n",
      " 22  Summarized_label    5744 non-null   object        \n",
      "dtypes: bool(2), datetime64[ns](1), float64(4), int64(5), object(11)\n",
      "memory usage: 953.7+ KB\n"
     ]
    }
   ],
   "source": [
    "combined_df.info()"
   ]
  },
  {
   "cell_type": "code",
   "execution_count": 22,
   "id": "9596807f",
   "metadata": {},
   "outputs": [
    {
     "name": "stdout",
     "output_type": "stream",
     "text": [
      "<class 'pandas.core.series.Series'>\n",
      "RangeIndex: 5744 entries, 0 to 5743\n",
      "Series name: week\n",
      "Non-Null Count  Dtype\n",
      "--------------  -----\n",
      "5744 non-null   int64\n",
      "dtypes: int64(1)\n",
      "memory usage: 45.0 KB\n"
     ]
    }
   ],
   "source": [
    "combined_df[\"week\"].info()"
   ]
  },
  {
   "cell_type": "code",
   "execution_count": 23,
   "id": "6972f722",
   "metadata": {},
   "outputs": [
    {
     "name": "stdout",
     "output_type": "stream",
     "text": [
      "<class 'pandas.core.frame.DataFrame'>\n",
      "RangeIndex: 5744 entries, 0 to 5743\n",
      "Data columns (total 19 columns):\n",
      " #   Column              Non-Null Count  Dtype         \n",
      "---  ------              --------------  -----         \n",
      " 0   id                  5744 non-null   int64         \n",
      " 1   Headline            5744 non-null   object        \n",
      " 2   Details             5744 non-null   object        \n",
      " 3   Severity            5744 non-null   object        \n",
      " 4   Region              5744 non-null   object        \n",
      " 5   Datetime            5744 non-null   datetime64[ns]\n",
      " 6   lat                 3856 non-null   float64       \n",
      " 7   lon                 3856 non-null   float64       \n",
      " 8   maritime_label      5744 non-null   bool          \n",
      " 9   found_ports         5744 non-null   object        \n",
      " 10  contains_port_info  5744 non-null   bool          \n",
      " 11  if_labeled          5742 non-null   object        \n",
      " 12  Headline_Details    5742 non-null   object        \n",
      " 13  Year                5744 non-null   int64         \n",
      " 14  Month               5744 non-null   int64         \n",
      " 15  Week                5744 non-null   int64         \n",
      " 16  Details_cleaned     5744 non-null   object        \n",
      " 17  Category            5744 non-null   object        \n",
      " 18  Summarized_label    5744 non-null   object        \n",
      "dtypes: bool(2), datetime64[ns](1), float64(2), int64(4), object(10)\n",
      "memory usage: 774.2+ KB\n"
     ]
    }
   ],
   "source": [
    "combined_df.drop(columns=[\"Category_x\", \"Year\", \"Month\", \"Week\"], inplace=True)\n",
    "combined_df.rename(\n",
    "    columns={\n",
    "        \"Category_y\": \"Category\",\n",
    "        \"year\": \"Year\",\n",
    "        \"month\": \"Month\",\n",
    "        \"week\": \"Week\",\n",
    "    },\n",
    "    inplace=True,\n",
    ")\n",
    "\n",
    "combined_df.info()"
   ]
  },
  {
   "cell_type": "code",
   "execution_count": 24,
   "id": "0a46e061",
   "metadata": {},
   "outputs": [],
   "source": [
    "combined_df.to_csv(data_path, index=False)"
   ]
  },
  {
   "cell_type": "code",
   "execution_count": 25,
   "id": "2b0f19fc",
   "metadata": {},
   "outputs": [
    {
     "data": {
      "text/html": [
       "<div>\n",
       "<style scoped>\n",
       "    .dataframe tbody tr th:only-of-type {\n",
       "        vertical-align: middle;\n",
       "    }\n",
       "\n",
       "    .dataframe tbody tr th {\n",
       "        vertical-align: top;\n",
       "    }\n",
       "\n",
       "    .dataframe thead th {\n",
       "        text-align: right;\n",
       "    }\n",
       "</style>\n",
       "<table border=\"1\" class=\"dataframe\">\n",
       "  <thead>\n",
       "    <tr style=\"text-align: right;\">\n",
       "      <th></th>\n",
       "      <th>id</th>\n",
       "      <th>Headline</th>\n",
       "      <th>Details</th>\n",
       "      <th>Severity</th>\n",
       "      <th>Region</th>\n",
       "      <th>Datetime</th>\n",
       "      <th>lat</th>\n",
       "      <th>lon</th>\n",
       "      <th>maritime_label</th>\n",
       "      <th>found_ports</th>\n",
       "      <th>contains_port_info</th>\n",
       "      <th>if_labeled</th>\n",
       "      <th>Headline_Details</th>\n",
       "      <th>Year</th>\n",
       "      <th>Month</th>\n",
       "      <th>Week</th>\n",
       "      <th>Details_cleaned</th>\n",
       "      <th>Category</th>\n",
       "      <th>Summarized_label</th>\n",
       "    </tr>\n",
       "  </thead>\n",
       "  <tbody>\n",
       "    <tr>\n",
       "      <th>0</th>\n",
       "      <td>1</td>\n",
       "      <td>Grasberg Mine- Grasberg mine workers extend st...</td>\n",
       "      <td>Media sources indicate that workers at the Gra...</td>\n",
       "      <td>Moderate</td>\n",
       "      <td>Indonesia</td>\n",
       "      <td>2017-05-28 17:08:00</td>\n",
       "      <td>-4.05608</td>\n",
       "      <td>137.11302</td>\n",
       "      <td>False</td>\n",
       "      <td>[freeport]</td>\n",
       "      <td>True</td>\n",
       "      <td>False</td>\n",
       "      <td>Grasberg Mine- Grasberg mine workers extend st...</td>\n",
       "      <td>2017</td>\n",
       "      <td>5</td>\n",
       "      <td>21</td>\n",
       "      <td>medium source indicate worker grasberg mine ex...</td>\n",
       "      <td>Mine Workers Strike</td>\n",
       "      <td>Worker Strike</td>\n",
       "    </tr>\n",
       "    <tr>\n",
       "      <th>1</th>\n",
       "      <td>2</td>\n",
       "      <td>Indonesia: Undersea internet cables damaged by...</td>\n",
       "      <td>News sources are stating that recent typhoons ...</td>\n",
       "      <td>Minor</td>\n",
       "      <td>Indonesia</td>\n",
       "      <td>2017-04-09 14:30:00</td>\n",
       "      <td>NaN</td>\n",
       "      <td>NaN</td>\n",
       "      <td>False</td>\n",
       "      <td>[hong kong]</td>\n",
       "      <td>True</td>\n",
       "      <td>False</td>\n",
       "      <td>Indonesia: Undersea internet cables damaged by...</td>\n",
       "      <td>2017</td>\n",
       "      <td>4</td>\n",
       "      <td>14</td>\n",
       "      <td>news source stating recent typhoon impact hong...</td>\n",
       "      <td>Travel Warning</td>\n",
       "      <td>Weather</td>\n",
       "    </tr>\n",
       "    <tr>\n",
       "      <th>2</th>\n",
       "      <td>3</td>\n",
       "      <td>Shanghai port congestion impacts terminals in ...</td>\n",
       "      <td>The persisting port congestion at Shanghai’s Y...</td>\n",
       "      <td>Minor</td>\n",
       "      <td>China</td>\n",
       "      <td>2017-04-27 09:16:00</td>\n",
       "      <td>29.52000</td>\n",
       "      <td>121.33190</td>\n",
       "      <td>True</td>\n",
       "      <td>[ningbo, qingdao, shanghai]</td>\n",
       "      <td>True</td>\n",
       "      <td>False</td>\n",
       "      <td>Shanghai port congestion impacts terminals in ...</td>\n",
       "      <td>2017</td>\n",
       "      <td>4</td>\n",
       "      <td>17</td>\n",
       "      <td>persisting port congestion shanghai ’ yangshan...</td>\n",
       "      <td>Port Congestion</td>\n",
       "      <td>Administrative Issue</td>\n",
       "    </tr>\n",
       "    <tr>\n",
       "      <th>3</th>\n",
       "      <td>4</td>\n",
       "      <td>UPDATE - Indonesia: Explosion at KP Terminal i...</td>\n",
       "      <td>Updated local media sources from Jakarta indic...</td>\n",
       "      <td>Extreme</td>\n",
       "      <td>Indonesia</td>\n",
       "      <td>2017-05-24 15:15:00</td>\n",
       "      <td>-6.22465</td>\n",
       "      <td>106.86700</td>\n",
       "      <td>True</td>\n",
       "      <td>[jakarta]</td>\n",
       "      <td>True</td>\n",
       "      <td>False</td>\n",
       "      <td>UPDATE - Indonesia: Explosion at KP Terminal i...</td>\n",
       "      <td>2017</td>\n",
       "      <td>5</td>\n",
       "      <td>21</td>\n",
       "      <td>updated local medium source jakarta indicate e...</td>\n",
       "      <td>Bombing, Police Operations</td>\n",
       "      <td>Terrorism</td>\n",
       "    </tr>\n",
       "    <tr>\n",
       "      <th>4</th>\n",
       "      <td>5</td>\n",
       "      <td>UPDATE - Indonesia: Police confirm two explosi...</td>\n",
       "      <td>According to local police in Jakarta, two expl...</td>\n",
       "      <td>Extreme</td>\n",
       "      <td>Indonesia</td>\n",
       "      <td>2017-05-24 16:20:00</td>\n",
       "      <td>NaN</td>\n",
       "      <td>NaN</td>\n",
       "      <td>True</td>\n",
       "      <td>[jakarta]</td>\n",
       "      <td>True</td>\n",
       "      <td>True</td>\n",
       "      <td>UPDATE - Indonesia: Police confirm two explosi...</td>\n",
       "      <td>2017</td>\n",
       "      <td>5</td>\n",
       "      <td>21</td>\n",
       "      <td>according local police jakarta two explosion c...</td>\n",
       "      <td>Bombing, Police Operations</td>\n",
       "      <td>Terrorism</td>\n",
       "    </tr>\n",
       "    <tr>\n",
       "      <th>...</th>\n",
       "      <td>...</td>\n",
       "      <td>...</td>\n",
       "      <td>...</td>\n",
       "      <td>...</td>\n",
       "      <td>...</td>\n",
       "      <td>...</td>\n",
       "      <td>...</td>\n",
       "      <td>...</td>\n",
       "      <td>...</td>\n",
       "      <td>...</td>\n",
       "      <td>...</td>\n",
       "      <td>...</td>\n",
       "      <td>...</td>\n",
       "      <td>...</td>\n",
       "      <td>...</td>\n",
       "      <td>...</td>\n",
       "      <td>...</td>\n",
       "      <td>...</td>\n",
       "      <td>...</td>\n",
       "    </tr>\n",
       "    <tr>\n",
       "      <th>5739</th>\n",
       "      <td>5776</td>\n",
       "      <td>Winter storm may bring inclement weather condi...</td>\n",
       "      <td>Intelligence received by Everstream Analytics ...</td>\n",
       "      <td>Moderate</td>\n",
       "      <td>United States</td>\n",
       "      <td>2020-12-16 02:47:00</td>\n",
       "      <td>38.90072</td>\n",
       "      <td>-77.05440</td>\n",
       "      <td>False</td>\n",
       "      <td>[new york]</td>\n",
       "      <td>True</td>\n",
       "      <td>False</td>\n",
       "      <td>Winter storm may bring inclement weather condi...</td>\n",
       "      <td>2020</td>\n",
       "      <td>12</td>\n",
       "      <td>51</td>\n",
       "      <td>intelligence received everstream analytics ind...</td>\n",
       "      <td>Ice Storm</td>\n",
       "      <td>Weather</td>\n",
       "    </tr>\n",
       "    <tr>\n",
       "      <th>5740</th>\n",
       "      <td>5777</td>\n",
       "      <td>Winter weather expected to continue to impact ...</td>\n",
       "      <td>Meteorological sources indicate that a series ...</td>\n",
       "      <td>Minor</td>\n",
       "      <td>United States</td>\n",
       "      <td>2020-12-31 18:15:00</td>\n",
       "      <td>41.30357</td>\n",
       "      <td>-72.90561</td>\n",
       "      <td>False</td>\n",
       "      <td>[new york, virginia]</td>\n",
       "      <td>True</td>\n",
       "      <td>True</td>\n",
       "      <td>Winter weather expected to continue to impact ...</td>\n",
       "      <td>2020</td>\n",
       "      <td>12</td>\n",
       "      <td>53</td>\n",
       "      <td>meteorological source indicate series winter s...</td>\n",
       "      <td>Roadway Closure / Disruption, Ground Transport...</td>\n",
       "      <td>Weather</td>\n",
       "    </tr>\n",
       "    <tr>\n",
       "      <th>5741</th>\n",
       "      <td>5778</td>\n",
       "      <td>Workers of Svitzer Australia plan to strike on...</td>\n",
       "      <td>Industry sources report on December 7 that Svi...</td>\n",
       "      <td>Moderate</td>\n",
       "      <td>Australia</td>\n",
       "      <td>2020-07-12 06:16:00</td>\n",
       "      <td>-38.35169</td>\n",
       "      <td>145.25050</td>\n",
       "      <td>False</td>\n",
       "      <td>[geelong, melbourne]</td>\n",
       "      <td>True</td>\n",
       "      <td>False</td>\n",
       "      <td>Workers of Svitzer Australia plan to strike on...</td>\n",
       "      <td>2020</td>\n",
       "      <td>7</td>\n",
       "      <td>28</td>\n",
       "      <td>industry source report december 7 svitzer aust...</td>\n",
       "      <td>Industrial Action</td>\n",
       "      <td>Worker Strike</td>\n",
       "    </tr>\n",
       "    <tr>\n",
       "      <th>5742</th>\n",
       "      <td>5779</td>\n",
       "      <td>Workers stage 24-hour stoppage at DP World Ter...</td>\n",
       "      <td>Industry sources indicate on December 14 that ...</td>\n",
       "      <td>Moderate</td>\n",
       "      <td>Australia</td>\n",
       "      <td>2020-12-14 16:52:00</td>\n",
       "      <td>NaN</td>\n",
       "      <td>NaN</td>\n",
       "      <td>True</td>\n",
       "      <td>[fremantle]</td>\n",
       "      <td>True</td>\n",
       "      <td>True</td>\n",
       "      <td>Workers stage 24-hour stoppage at DP World Ter...</td>\n",
       "      <td>2020</td>\n",
       "      <td>12</td>\n",
       "      <td>51</td>\n",
       "      <td>industry source indicate december 14 worker dp...</td>\n",
       "      <td>Port Strike</td>\n",
       "      <td>Worker Strike</td>\n",
       "    </tr>\n",
       "    <tr>\n",
       "      <th>5743</th>\n",
       "      <td>5780</td>\n",
       "      <td>Workers with Ertsoverslagbedrijf Europoort C.V...</td>\n",
       "      <td>On November 17, Dutch media sources reported t...</td>\n",
       "      <td>Minor</td>\n",
       "      <td>Netherlands</td>\n",
       "      <td>2020-11-18 17:55:00</td>\n",
       "      <td>51.96121</td>\n",
       "      <td>4.10550</td>\n",
       "      <td>False</td>\n",
       "      <td>[rotterdam]</td>\n",
       "      <td>True</td>\n",
       "      <td>True</td>\n",
       "      <td>Workers with Ertsoverslagbedrijf Europoort C.V...</td>\n",
       "      <td>2020</td>\n",
       "      <td>11</td>\n",
       "      <td>47</td>\n",
       "      <td>november 17 dutch medium source reported worke...</td>\n",
       "      <td>Port Strike</td>\n",
       "      <td>Worker Strike</td>\n",
       "    </tr>\n",
       "  </tbody>\n",
       "</table>\n",
       "<p>5744 rows × 19 columns</p>\n",
       "</div>"
      ],
      "text/plain": [
       "        id                                           Headline  \\\n",
       "0        1  Grasberg Mine- Grasberg mine workers extend st...   \n",
       "1        2  Indonesia: Undersea internet cables damaged by...   \n",
       "2        3  Shanghai port congestion impacts terminals in ...   \n",
       "3        4  UPDATE - Indonesia: Explosion at KP Terminal i...   \n",
       "4        5  UPDATE - Indonesia: Police confirm two explosi...   \n",
       "...    ...                                                ...   \n",
       "5739  5776  Winter storm may bring inclement weather condi...   \n",
       "5740  5777  Winter weather expected to continue to impact ...   \n",
       "5741  5778  Workers of Svitzer Australia plan to strike on...   \n",
       "5742  5779  Workers stage 24-hour stoppage at DP World Ter...   \n",
       "5743  5780  Workers with Ertsoverslagbedrijf Europoort C.V...   \n",
       "\n",
       "                                                Details  Severity  \\\n",
       "0     Media sources indicate that workers at the Gra...  Moderate   \n",
       "1     News sources are stating that recent typhoons ...     Minor   \n",
       "2     The persisting port congestion at Shanghai’s Y...     Minor   \n",
       "3     Updated local media sources from Jakarta indic...   Extreme   \n",
       "4     According to local police in Jakarta, two expl...   Extreme   \n",
       "...                                                 ...       ...   \n",
       "5739  Intelligence received by Everstream Analytics ...  Moderate   \n",
       "5740  Meteorological sources indicate that a series ...     Minor   \n",
       "5741  Industry sources report on December 7 that Svi...  Moderate   \n",
       "5742  Industry sources indicate on December 14 that ...  Moderate   \n",
       "5743  On November 17, Dutch media sources reported t...     Minor   \n",
       "\n",
       "             Region            Datetime       lat        lon  maritime_label  \\\n",
       "0         Indonesia 2017-05-28 17:08:00  -4.05608  137.11302           False   \n",
       "1         Indonesia 2017-04-09 14:30:00       NaN        NaN           False   \n",
       "2             China 2017-04-27 09:16:00  29.52000  121.33190            True   \n",
       "3         Indonesia 2017-05-24 15:15:00  -6.22465  106.86700            True   \n",
       "4         Indonesia 2017-05-24 16:20:00       NaN        NaN            True   \n",
       "...             ...                 ...       ...        ...             ...   \n",
       "5739  United States 2020-12-16 02:47:00  38.90072  -77.05440           False   \n",
       "5740  United States 2020-12-31 18:15:00  41.30357  -72.90561           False   \n",
       "5741      Australia 2020-07-12 06:16:00 -38.35169  145.25050           False   \n",
       "5742      Australia 2020-12-14 16:52:00       NaN        NaN            True   \n",
       "5743    Netherlands 2020-11-18 17:55:00  51.96121    4.10550           False   \n",
       "\n",
       "                      found_ports  contains_port_info if_labeled  \\\n",
       "0                      [freeport]                True      False   \n",
       "1                     [hong kong]                True      False   \n",
       "2     [ningbo, qingdao, shanghai]                True      False   \n",
       "3                       [jakarta]                True      False   \n",
       "4                       [jakarta]                True       True   \n",
       "...                           ...                 ...        ...   \n",
       "5739                   [new york]                True      False   \n",
       "5740         [new york, virginia]                True       True   \n",
       "5741         [geelong, melbourne]                True      False   \n",
       "5742                  [fremantle]                True       True   \n",
       "5743                  [rotterdam]                True       True   \n",
       "\n",
       "                                       Headline_Details  Year  Month  Week  \\\n",
       "0     Grasberg Mine- Grasberg mine workers extend st...  2017      5    21   \n",
       "1     Indonesia: Undersea internet cables damaged by...  2017      4    14   \n",
       "2     Shanghai port congestion impacts terminals in ...  2017      4    17   \n",
       "3     UPDATE - Indonesia: Explosion at KP Terminal i...  2017      5    21   \n",
       "4     UPDATE - Indonesia: Police confirm two explosi...  2017      5    21   \n",
       "...                                                 ...   ...    ...   ...   \n",
       "5739  Winter storm may bring inclement weather condi...  2020     12    51   \n",
       "5740  Winter weather expected to continue to impact ...  2020     12    53   \n",
       "5741  Workers of Svitzer Australia plan to strike on...  2020      7    28   \n",
       "5742  Workers stage 24-hour stoppage at DP World Ter...  2020     12    51   \n",
       "5743  Workers with Ertsoverslagbedrijf Europoort C.V...  2020     11    47   \n",
       "\n",
       "                                        Details_cleaned  \\\n",
       "0     medium source indicate worker grasberg mine ex...   \n",
       "1     news source stating recent typhoon impact hong...   \n",
       "2     persisting port congestion shanghai ’ yangshan...   \n",
       "3     updated local medium source jakarta indicate e...   \n",
       "4     according local police jakarta two explosion c...   \n",
       "...                                                 ...   \n",
       "5739  intelligence received everstream analytics ind...   \n",
       "5740  meteorological source indicate series winter s...   \n",
       "5741  industry source report december 7 svitzer aust...   \n",
       "5742  industry source indicate december 14 worker dp...   \n",
       "5743  november 17 dutch medium source reported worke...   \n",
       "\n",
       "                                               Category      Summarized_label  \n",
       "0                                   Mine Workers Strike         Worker Strike  \n",
       "1                                        Travel Warning               Weather  \n",
       "2                                       Port Congestion  Administrative Issue  \n",
       "3                            Bombing, Police Operations             Terrorism  \n",
       "4                            Bombing, Police Operations             Terrorism  \n",
       "...                                                 ...                   ...  \n",
       "5739                                          Ice Storm               Weather  \n",
       "5740  Roadway Closure / Disruption, Ground Transport...               Weather  \n",
       "5741                                  Industrial Action         Worker Strike  \n",
       "5742                                        Port Strike         Worker Strike  \n",
       "5743                                        Port Strike         Worker Strike  \n",
       "\n",
       "[5744 rows x 19 columns]"
      ]
     },
     "execution_count": 25,
     "metadata": {},
     "output_type": "execute_result"
    }
   ],
   "source": [
    "df_v3 = combined_df\n",
    "df_v3"
   ]
  },
  {
   "cell_type": "code",
   "execution_count": 26,
   "id": "2e495918",
   "metadata": {},
   "outputs": [
    {
     "data": {
      "text/plain": [
       "Index(['Details', 'Details_cleaned', 'Category', 'Summarized_label'], dtype='object')"
      ]
     },
     "execution_count": 26,
     "metadata": {},
     "output_type": "execute_result"
    }
   ],
   "source": [
    "df_v2.columns"
   ]
  },
  {
   "cell_type": "code",
   "execution_count": 27,
   "id": "66577a87",
   "metadata": {},
   "outputs": [
    {
     "data": {
      "text/plain": [
       "True"
      ]
     },
     "execution_count": 27,
     "metadata": {},
     "output_type": "execute_result"
    }
   ],
   "source": [
    "df_v3[df_v2.columns].equals(df_v2)"
   ]
  },
  {
   "cell_type": "code",
   "execution_count": 28,
   "id": "8dc7ee8c",
   "metadata": {},
   "outputs": [
    {
     "name": "stdout",
     "output_type": "stream",
     "text": [
      "lat: 1888\n",
      "lon: 1888\n",
      "if_labeled: 2\n",
      "Headline_Details: 2\n"
     ]
    }
   ],
   "source": [
    "for col in df_v3.columns:\n",
    "    nan_count = df_v3[col].isna().sum()\n",
    "    if nan_count > 0:\n",
    "        print(f\"{col}: {nan_count}\")"
   ]
  },
  {
   "cell_type": "code",
   "execution_count": 29,
   "id": "46fc9fc1",
   "metadata": {},
   "outputs": [
    {
     "data": {
      "text/html": [
       "<div>\n",
       "<style scoped>\n",
       "    .dataframe tbody tr th:only-of-type {\n",
       "        vertical-align: middle;\n",
       "    }\n",
       "\n",
       "    .dataframe tbody tr th {\n",
       "        vertical-align: top;\n",
       "    }\n",
       "\n",
       "    .dataframe thead th {\n",
       "        text-align: right;\n",
       "    }\n",
       "</style>\n",
       "<table border=\"1\" class=\"dataframe\">\n",
       "  <thead>\n",
       "    <tr style=\"text-align: right;\">\n",
       "      <th></th>\n",
       "      <th>Headline</th>\n",
       "      <th>contains_port_info</th>\n",
       "      <th>lat</th>\n",
       "      <th>lon</th>\n",
       "      <th>found_ports</th>\n",
       "      <th>Region</th>\n",
       "      <th>Datetime</th>\n",
       "      <th>Summarized_label</th>\n",
       "    </tr>\n",
       "  </thead>\n",
       "  <tbody>\n",
       "    <tr>\n",
       "      <th>0</th>\n",
       "      <td>Grasberg Mine- Grasberg mine workers extend st...</td>\n",
       "      <td>True</td>\n",
       "      <td>-4.05608</td>\n",
       "      <td>137.11302</td>\n",
       "      <td>[freeport]</td>\n",
       "      <td>Indonesia</td>\n",
       "      <td>2017-05-28 17:08:00</td>\n",
       "      <td>Worker Strike</td>\n",
       "    </tr>\n",
       "    <tr>\n",
       "      <th>1</th>\n",
       "      <td>Indonesia: Undersea internet cables damaged by...</td>\n",
       "      <td>True</td>\n",
       "      <td>NaN</td>\n",
       "      <td>NaN</td>\n",
       "      <td>[hong kong]</td>\n",
       "      <td>Indonesia</td>\n",
       "      <td>2017-04-09 14:30:00</td>\n",
       "      <td>Weather</td>\n",
       "    </tr>\n",
       "    <tr>\n",
       "      <th>2</th>\n",
       "      <td>Shanghai port congestion impacts terminals in ...</td>\n",
       "      <td>True</td>\n",
       "      <td>29.52000</td>\n",
       "      <td>121.33190</td>\n",
       "      <td>[ningbo, qingdao, shanghai]</td>\n",
       "      <td>China</td>\n",
       "      <td>2017-04-27 09:16:00</td>\n",
       "      <td>Administrative Issue</td>\n",
       "    </tr>\n",
       "    <tr>\n",
       "      <th>3</th>\n",
       "      <td>UPDATE - Indonesia: Explosion at KP Terminal i...</td>\n",
       "      <td>True</td>\n",
       "      <td>-6.22465</td>\n",
       "      <td>106.86700</td>\n",
       "      <td>[jakarta]</td>\n",
       "      <td>Indonesia</td>\n",
       "      <td>2017-05-24 15:15:00</td>\n",
       "      <td>Terrorism</td>\n",
       "    </tr>\n",
       "    <tr>\n",
       "      <th>4</th>\n",
       "      <td>UPDATE - Indonesia: Police confirm two explosi...</td>\n",
       "      <td>True</td>\n",
       "      <td>NaN</td>\n",
       "      <td>NaN</td>\n",
       "      <td>[jakarta]</td>\n",
       "      <td>Indonesia</td>\n",
       "      <td>2017-05-24 16:20:00</td>\n",
       "      <td>Terrorism</td>\n",
       "    </tr>\n",
       "    <tr>\n",
       "      <th>...</th>\n",
       "      <td>...</td>\n",
       "      <td>...</td>\n",
       "      <td>...</td>\n",
       "      <td>...</td>\n",
       "      <td>...</td>\n",
       "      <td>...</td>\n",
       "      <td>...</td>\n",
       "      <td>...</td>\n",
       "    </tr>\n",
       "    <tr>\n",
       "      <th>5739</th>\n",
       "      <td>Winter storm may bring inclement weather condi...</td>\n",
       "      <td>True</td>\n",
       "      <td>38.90072</td>\n",
       "      <td>-77.05440</td>\n",
       "      <td>[new york]</td>\n",
       "      <td>United States</td>\n",
       "      <td>2020-12-16 02:47:00</td>\n",
       "      <td>Weather</td>\n",
       "    </tr>\n",
       "    <tr>\n",
       "      <th>5740</th>\n",
       "      <td>Winter weather expected to continue to impact ...</td>\n",
       "      <td>True</td>\n",
       "      <td>41.30357</td>\n",
       "      <td>-72.90561</td>\n",
       "      <td>[new york, virginia]</td>\n",
       "      <td>United States</td>\n",
       "      <td>2020-12-31 18:15:00</td>\n",
       "      <td>Weather</td>\n",
       "    </tr>\n",
       "    <tr>\n",
       "      <th>5741</th>\n",
       "      <td>Workers of Svitzer Australia plan to strike on...</td>\n",
       "      <td>True</td>\n",
       "      <td>-38.35169</td>\n",
       "      <td>145.25050</td>\n",
       "      <td>[geelong, melbourne]</td>\n",
       "      <td>Australia</td>\n",
       "      <td>2020-07-12 06:16:00</td>\n",
       "      <td>Worker Strike</td>\n",
       "    </tr>\n",
       "    <tr>\n",
       "      <th>5742</th>\n",
       "      <td>Workers stage 24-hour stoppage at DP World Ter...</td>\n",
       "      <td>True</td>\n",
       "      <td>NaN</td>\n",
       "      <td>NaN</td>\n",
       "      <td>[fremantle]</td>\n",
       "      <td>Australia</td>\n",
       "      <td>2020-12-14 16:52:00</td>\n",
       "      <td>Worker Strike</td>\n",
       "    </tr>\n",
       "    <tr>\n",
       "      <th>5743</th>\n",
       "      <td>Workers with Ertsoverslagbedrijf Europoort C.V...</td>\n",
       "      <td>True</td>\n",
       "      <td>51.96121</td>\n",
       "      <td>4.10550</td>\n",
       "      <td>[rotterdam]</td>\n",
       "      <td>Netherlands</td>\n",
       "      <td>2020-11-18 17:55:00</td>\n",
       "      <td>Worker Strike</td>\n",
       "    </tr>\n",
       "  </tbody>\n",
       "</table>\n",
       "<p>5744 rows × 8 columns</p>\n",
       "</div>"
      ],
      "text/plain": [
       "                                               Headline  contains_port_info  \\\n",
       "0     Grasberg Mine- Grasberg mine workers extend st...                True   \n",
       "1     Indonesia: Undersea internet cables damaged by...                True   \n",
       "2     Shanghai port congestion impacts terminals in ...                True   \n",
       "3     UPDATE - Indonesia: Explosion at KP Terminal i...                True   \n",
       "4     UPDATE - Indonesia: Police confirm two explosi...                True   \n",
       "...                                                 ...                 ...   \n",
       "5739  Winter storm may bring inclement weather condi...                True   \n",
       "5740  Winter weather expected to continue to impact ...                True   \n",
       "5741  Workers of Svitzer Australia plan to strike on...                True   \n",
       "5742  Workers stage 24-hour stoppage at DP World Ter...                True   \n",
       "5743  Workers with Ertsoverslagbedrijf Europoort C.V...                True   \n",
       "\n",
       "           lat        lon                  found_ports         Region  \\\n",
       "0     -4.05608  137.11302                   [freeport]      Indonesia   \n",
       "1          NaN        NaN                  [hong kong]      Indonesia   \n",
       "2     29.52000  121.33190  [ningbo, qingdao, shanghai]          China   \n",
       "3     -6.22465  106.86700                    [jakarta]      Indonesia   \n",
       "4          NaN        NaN                    [jakarta]      Indonesia   \n",
       "...        ...        ...                          ...            ...   \n",
       "5739  38.90072  -77.05440                   [new york]  United States   \n",
       "5740  41.30357  -72.90561         [new york, virginia]  United States   \n",
       "5741 -38.35169  145.25050         [geelong, melbourne]      Australia   \n",
       "5742       NaN        NaN                  [fremantle]      Australia   \n",
       "5743  51.96121    4.10550                  [rotterdam]    Netherlands   \n",
       "\n",
       "                Datetime      Summarized_label  \n",
       "0    2017-05-28 17:08:00         Worker Strike  \n",
       "1    2017-04-09 14:30:00               Weather  \n",
       "2    2017-04-27 09:16:00  Administrative Issue  \n",
       "3    2017-05-24 15:15:00             Terrorism  \n",
       "4    2017-05-24 16:20:00             Terrorism  \n",
       "...                  ...                   ...  \n",
       "5739 2020-12-16 02:47:00               Weather  \n",
       "5740 2020-12-31 18:15:00               Weather  \n",
       "5741 2020-07-12 06:16:00         Worker Strike  \n",
       "5742 2020-12-14 16:52:00         Worker Strike  \n",
       "5743 2020-11-18 17:55:00         Worker Strike  \n",
       "\n",
       "[5744 rows x 8 columns]"
      ]
     },
     "execution_count": 29,
     "metadata": {},
     "output_type": "execute_result"
    }
   ],
   "source": [
    "df_v3[\n",
    "    [\n",
    "        \"Headline\",\n",
    "        \"contains_port_info\",\n",
    "        \"lat\",\n",
    "        \"lon\",\n",
    "        \"found_ports\",\n",
    "        \"Region\",\n",
    "        \"Datetime\",\n",
    "        \"Summarized_label\",\n",
    "    ]\n",
    "]"
   ]
  },
  {
   "cell_type": "code",
   "execution_count": 30,
   "id": "c17ae076",
   "metadata": {},
   "outputs": [],
   "source": [
    "v2_dfs = {}\n",
    "for type in [\"train\", \"test\"]:\n",
    "    df_v2_test = pd.read_csv(f\"dataset/global_incidents_v2-{type}.csv\")\n",
    "    v2_dfs[type] = df_v2_test\n",
    "\n",
    "    combined_df = pd.merge(df_v2_test, df_v3, on=\"Details\", how=\"inner\")\n",
    "    combined_df.rename(\n",
    "        columns={\n",
    "            \"Category_y\": \"Category\",\n",
    "            \"Details_cleaned_y\": \"Details_cleaned\",\n",
    "            \"Summarized_label_y\": \"Summarized_label\",\n",
    "        },\n",
    "        inplace=True,\n",
    "    )\n",
    "    df_v3_test = combined_df[df_v3.columns]\n",
    "    df_v3_test.to_csv(data_path.replace(\".csv\", f\"-{type}.csv\"), index=False)"
   ]
  },
  {
   "cell_type": "code",
   "execution_count": 31,
   "id": "fafa151e",
   "metadata": {},
   "outputs": [
    {
     "data": {
      "text/plain": [
       "True"
      ]
     },
     "execution_count": 31,
     "metadata": {},
     "output_type": "execute_result"
    }
   ],
   "source": [
    "df_v3_test = pd.read_csv(data_path.replace(\".csv\", \"-test.csv\"))\n",
    "df_v3_test[v2_dfs[\"test\"].columns].equals(v2_dfs[\"test\"])"
   ]
  },
  {
   "cell_type": "code",
   "execution_count": 32,
   "id": "983d5f64",
   "metadata": {},
   "outputs": [
    {
     "data": {
      "text/plain": [
       "False"
      ]
     },
     "execution_count": 32,
     "metadata": {},
     "output_type": "execute_result"
    }
   ],
   "source": [
    "df_v3_train = pd.read_csv(data_path.replace(\".csv\", \"-train.csv\"))\n",
    "df_v3_train[v2_dfs[\"train\"].columns].equals(v2_dfs[\"train\"])"
   ]
  },
  {
   "cell_type": "code",
   "execution_count": 33,
   "id": "0330d4d2",
   "metadata": {},
   "outputs": [
    {
     "data": {
      "text/plain": [
       "((4594, 19), (1147, 19))"
      ]
     },
     "execution_count": 33,
     "metadata": {},
     "output_type": "execute_result"
    }
   ],
   "source": [
    "df_v3_train.shape, df_v3_test.shape"
   ]
  },
  {
   "cell_type": "code",
   "execution_count": 34,
   "id": "4a351995",
   "metadata": {},
   "outputs": [
    {
     "data": {
      "text/plain": [
       "((4597, 4), (1147, 4))"
      ]
     },
     "execution_count": 34,
     "metadata": {},
     "output_type": "execute_result"
    }
   ],
   "source": [
    "v2_dfs[\"train\"].shape, v2_dfs[\"test\"].shape"
   ]
  },
  {
   "cell_type": "code",
   "execution_count": 35,
   "id": "009c5fa3",
   "metadata": {},
   "outputs": [
    {
     "data": {
      "text/html": [
       "<div>\n",
       "<style scoped>\n",
       "    .dataframe tbody tr th:only-of-type {\n",
       "        vertical-align: middle;\n",
       "    }\n",
       "\n",
       "    .dataframe tbody tr th {\n",
       "        vertical-align: top;\n",
       "    }\n",
       "\n",
       "    .dataframe thead th {\n",
       "        text-align: right;\n",
       "    }\n",
       "</style>\n",
       "<table border=\"1\" class=\"dataframe\">\n",
       "  <thead>\n",
       "    <tr style=\"text-align: right;\">\n",
       "      <th></th>\n",
       "      <th>Details</th>\n",
       "      <th>Details_cleaned</th>\n",
       "      <th>Category</th>\n",
       "      <th>Summarized_label</th>\n",
       "    </tr>\n",
       "  </thead>\n",
       "  <tbody>\n",
       "    <tr>\n",
       "      <th>465</th>\n",
       "      <td>Local media sources indicate on September 13 t...</td>\n",
       "      <td>local medium source indicate september 13 hurr...</td>\n",
       "      <td>Weather Advisory</td>\n",
       "      <td>Weather</td>\n",
       "    </tr>\n",
       "    <tr>\n",
       "      <th>1277</th>\n",
       "      <td>In the Yellow Sea, north of the island of Taiw...</td>\n",
       "      <td>yellow sea north island taiwan people 's liber...</td>\n",
       "      <td>Miscellaneous Events, Political Info / Event, ...</td>\n",
       "      <td>Human Error</td>\n",
       "    </tr>\n",
       "    <tr>\n",
       "      <th>1669</th>\n",
       "      <td>Shipping sources on April 25 indicate that adv...</td>\n",
       "      <td>shipping source april 25 indicate adverse weat...</td>\n",
       "      <td>Port Congestion</td>\n",
       "      <td>Weather</td>\n",
       "    </tr>\n",
       "  </tbody>\n",
       "</table>\n",
       "</div>"
      ],
      "text/plain": [
       "                                                Details  \\\n",
       "465   Local media sources indicate on September 13 t...   \n",
       "1277  In the Yellow Sea, north of the island of Taiw...   \n",
       "1669  Shipping sources on April 25 indicate that adv...   \n",
       "\n",
       "                                        Details_cleaned  \\\n",
       "465   local medium source indicate september 13 hurr...   \n",
       "1277  yellow sea north island taiwan people 's liber...   \n",
       "1669  shipping source april 25 indicate adverse weat...   \n",
       "\n",
       "                                               Category Summarized_label  \n",
       "465                                    Weather Advisory          Weather  \n",
       "1277  Miscellaneous Events, Political Info / Event, ...      Human Error  \n",
       "1669                                    Port Congestion          Weather  "
      ]
     },
     "execution_count": 35,
     "metadata": {},
     "output_type": "execute_result"
    }
   ],
   "source": [
    "v2_dfs[\"train\"][~v2_dfs[\"train\"].Details.isin(df_v3_train.Details)]"
   ]
  },
  {
   "cell_type": "code",
   "execution_count": 36,
   "id": "156c445e",
   "metadata": {},
   "outputs": [
    {
     "data": {
      "text/html": [
       "<div>\n",
       "<style scoped>\n",
       "    .dataframe tbody tr th:only-of-type {\n",
       "        vertical-align: middle;\n",
       "    }\n",
       "\n",
       "    .dataframe tbody tr th {\n",
       "        vertical-align: top;\n",
       "    }\n",
       "\n",
       "    .dataframe thead th {\n",
       "        text-align: right;\n",
       "    }\n",
       "</style>\n",
       "<table border=\"1\" class=\"dataframe\">\n",
       "  <thead>\n",
       "    <tr style=\"text-align: right;\">\n",
       "      <th></th>\n",
       "      <th>Details</th>\n",
       "      <th>Details_cleaned</th>\n",
       "      <th>Category</th>\n",
       "      <th>Summarized_label</th>\n",
       "    </tr>\n",
       "  </thead>\n",
       "  <tbody>\n",
       "    <tr>\n",
       "      <th>465</th>\n",
       "      <td>Local media sources indicate on September 13 t...</td>\n",
       "      <td>local medium source indicate september 13 hurr...</td>\n",
       "      <td>Weather Advisory</td>\n",
       "      <td>Weather</td>\n",
       "    </tr>\n",
       "    <tr>\n",
       "      <th>1277</th>\n",
       "      <td>In the Yellow Sea, north of the island of Taiw...</td>\n",
       "      <td>yellow sea north island taiwan people 's liber...</td>\n",
       "      <td>Miscellaneous Events, Political Info / Event, ...</td>\n",
       "      <td>Human Error</td>\n",
       "    </tr>\n",
       "    <tr>\n",
       "      <th>1669</th>\n",
       "      <td>Shipping sources on April 25 indicate that adv...</td>\n",
       "      <td>shipping source april 25 indicate adverse weat...</td>\n",
       "      <td>Port Congestion</td>\n",
       "      <td>Weather</td>\n",
       "    </tr>\n",
       "  </tbody>\n",
       "</table>\n",
       "</div>"
      ],
      "text/plain": [
       "                                                Details  \\\n",
       "465   Local media sources indicate on September 13 t...   \n",
       "1277  In the Yellow Sea, north of the island of Taiw...   \n",
       "1669  Shipping sources on April 25 indicate that adv...   \n",
       "\n",
       "                                        Details_cleaned  \\\n",
       "465   local medium source indicate september 13 hurr...   \n",
       "1277  yellow sea north island taiwan people 's liber...   \n",
       "1669  shipping source april 25 indicate adverse weat...   \n",
       "\n",
       "                                               Category Summarized_label  \n",
       "465                                    Weather Advisory          Weather  \n",
       "1277  Miscellaneous Events, Political Info / Event, ...      Human Error  \n",
       "1669                                    Port Congestion          Weather  "
      ]
     },
     "execution_count": 36,
     "metadata": {},
     "output_type": "execute_result"
    }
   ],
   "source": [
    "v2_dfs[\"train\"][~v2_dfs[\"train\"].Details.isin(df_v2.Details)]"
   ]
  },
  {
   "cell_type": "code",
   "execution_count": 37,
   "id": "881d9845",
   "metadata": {},
   "outputs": [
    {
     "data": {
      "text/html": [
       "<div>\n",
       "<style scoped>\n",
       "    .dataframe tbody tr th:only-of-type {\n",
       "        vertical-align: middle;\n",
       "    }\n",
       "\n",
       "    .dataframe tbody tr th {\n",
       "        vertical-align: top;\n",
       "    }\n",
       "\n",
       "    .dataframe thead th {\n",
       "        text-align: right;\n",
       "    }\n",
       "</style>\n",
       "<table border=\"1\" class=\"dataframe\">\n",
       "  <thead>\n",
       "    <tr style=\"text-align: right;\">\n",
       "      <th></th>\n",
       "      <th>id</th>\n",
       "      <th>Headline</th>\n",
       "      <th>Details</th>\n",
       "      <th>Severity</th>\n",
       "      <th>Region</th>\n",
       "      <th>Datetime</th>\n",
       "      <th>lat</th>\n",
       "      <th>lon</th>\n",
       "      <th>maritime_label</th>\n",
       "      <th>found_ports</th>\n",
       "      <th>contains_port_info</th>\n",
       "      <th>if_labeled</th>\n",
       "      <th>Headline_Details</th>\n",
       "      <th>Year</th>\n",
       "      <th>Month</th>\n",
       "      <th>Week</th>\n",
       "      <th>Details_cleaned</th>\n",
       "      <th>Category</th>\n",
       "      <th>Summarized_label</th>\n",
       "    </tr>\n",
       "  </thead>\n",
       "  <tbody>\n",
       "  </tbody>\n",
       "</table>\n",
       "</div>"
      ],
      "text/plain": [
       "Empty DataFrame\n",
       "Columns: [id, Headline, Details, Severity, Region, Datetime, lat, lon, maritime_label, found_ports, contains_port_info, if_labeled, Headline_Details, Year, Month, Week, Details_cleaned, Category, Summarized_label]\n",
       "Index: []"
      ]
     },
     "execution_count": 37,
     "metadata": {},
     "output_type": "execute_result"
    }
   ],
   "source": [
    "# find id in [465, 1277, 1669]\n",
    "df_v3_train[df_v3_train.id.isin([465, 1277, 1669])]"
   ]
  },
  {
   "cell_type": "code",
   "execution_count": 38,
   "id": "e9f3578f",
   "metadata": {},
   "outputs": [
    {
     "data": {
      "text/html": [
       "<div>\n",
       "<style scoped>\n",
       "    .dataframe tbody tr th:only-of-type {\n",
       "        vertical-align: middle;\n",
       "    }\n",
       "\n",
       "    .dataframe tbody tr th {\n",
       "        vertical-align: top;\n",
       "    }\n",
       "\n",
       "    .dataframe thead th {\n",
       "        text-align: right;\n",
       "    }\n",
       "</style>\n",
       "<table border=\"1\" class=\"dataframe\">\n",
       "  <thead>\n",
       "    <tr style=\"text-align: right;\">\n",
       "      <th></th>\n",
       "      <th>id</th>\n",
       "      <th>Headline</th>\n",
       "      <th>Details</th>\n",
       "      <th>Severity</th>\n",
       "      <th>Region</th>\n",
       "      <th>Datetime</th>\n",
       "      <th>lat</th>\n",
       "      <th>lon</th>\n",
       "      <th>maritime_label</th>\n",
       "      <th>found_ports</th>\n",
       "      <th>contains_port_info</th>\n",
       "      <th>if_labeled</th>\n",
       "      <th>Headline_Details</th>\n",
       "      <th>Year</th>\n",
       "      <th>Month</th>\n",
       "      <th>Week</th>\n",
       "      <th>Details_cleaned</th>\n",
       "      <th>Category</th>\n",
       "      <th>Summarized_label</th>\n",
       "    </tr>\n",
       "  </thead>\n",
       "  <tbody>\n",
       "    <tr>\n",
       "      <th>462</th>\n",
       "      <td>465</td>\n",
       "      <td>Police Presence Bolstered in Zhuhai ahead of I...</td>\n",
       "      <td>On Monday, media sources reported that police ...</td>\n",
       "      <td>Minor</td>\n",
       "      <td>China</td>\n",
       "      <td>2018-10-22 23:44:00</td>\n",
       "      <td>22.27073</td>\n",
       "      <td>113.57668</td>\n",
       "      <td>False</td>\n",
       "      <td>[hong kong, macau, zhuhai]</td>\n",
       "      <td>True</td>\n",
       "      <td>False</td>\n",
       "      <td>Police Presence Bolstered in Zhuhai ahead of I...</td>\n",
       "      <td>2018</td>\n",
       "      <td>10</td>\n",
       "      <td>43</td>\n",
       "      <td>monday medium source reported police begun dep...</td>\n",
       "      <td>Miscellaneous Events</td>\n",
       "      <td>Administrative Issue</td>\n",
       "    </tr>\n",
       "    <tr>\n",
       "      <th>1267</th>\n",
       "      <td>1277</td>\n",
       "      <td>Canada: Snowfall warning in effect for Vancouv...</td>\n",
       "      <td>Environment Canada currently has a snowfall wa...</td>\n",
       "      <td>Minor</td>\n",
       "      <td>Canada</td>\n",
       "      <td>2019-02-22 15:40:00</td>\n",
       "      <td>49.28674</td>\n",
       "      <td>-123.13742</td>\n",
       "      <td>False</td>\n",
       "      <td>[vancouver]</td>\n",
       "      <td>True</td>\n",
       "      <td>True</td>\n",
       "      <td>Canada: Snowfall warning in effect for Vancouv...</td>\n",
       "      <td>2019</td>\n",
       "      <td>2</td>\n",
       "      <td>8</td>\n",
       "      <td>environment canada currently snowfall warning ...</td>\n",
       "      <td>Ground Transportation Advisory, Weather Advisory</td>\n",
       "      <td>Weather</td>\n",
       "    </tr>\n",
       "    <tr>\n",
       "      <th>1657</th>\n",
       "      <td>1669</td>\n",
       "      <td>Hydrofluoric acid leak triggers hazmat respons...</td>\n",
       "      <td>Updated sources indicate that the hydrofluoric...</td>\n",
       "      <td>Moderate</td>\n",
       "      <td>Australia</td>\n",
       "      <td>2019-08-05 15:02:00</td>\n",
       "      <td>-37.83597</td>\n",
       "      <td>144.79576</td>\n",
       "      <td>True</td>\n",
       "      <td>[victoria]</td>\n",
       "      <td>True</td>\n",
       "      <td>True</td>\n",
       "      <td>Hydrofluoric acid leak triggers hazmat respons...</td>\n",
       "      <td>2019</td>\n",
       "      <td>8</td>\n",
       "      <td>32</td>\n",
       "      <td>updated source indicate hydrofluoric acid leak...</td>\n",
       "      <td>Hazmat Response</td>\n",
       "      <td>Accident</td>\n",
       "    </tr>\n",
       "  </tbody>\n",
       "</table>\n",
       "</div>"
      ],
      "text/plain": [
       "        id                                           Headline  \\\n",
       "462    465  Police Presence Bolstered in Zhuhai ahead of I...   \n",
       "1267  1277  Canada: Snowfall warning in effect for Vancouv...   \n",
       "1657  1669  Hydrofluoric acid leak triggers hazmat respons...   \n",
       "\n",
       "                                                Details  Severity     Region  \\\n",
       "462   On Monday, media sources reported that police ...     Minor      China   \n",
       "1267  Environment Canada currently has a snowfall wa...     Minor     Canada   \n",
       "1657  Updated sources indicate that the hydrofluoric...  Moderate  Australia   \n",
       "\n",
       "                Datetime       lat        lon  maritime_label  \\\n",
       "462  2018-10-22 23:44:00  22.27073  113.57668           False   \n",
       "1267 2019-02-22 15:40:00  49.28674 -123.13742           False   \n",
       "1657 2019-08-05 15:02:00 -37.83597  144.79576            True   \n",
       "\n",
       "                     found_ports  contains_port_info if_labeled  \\\n",
       "462   [hong kong, macau, zhuhai]                True      False   \n",
       "1267                 [vancouver]                True       True   \n",
       "1657                  [victoria]                True       True   \n",
       "\n",
       "                                       Headline_Details  Year  Month  Week  \\\n",
       "462   Police Presence Bolstered in Zhuhai ahead of I...  2018     10    43   \n",
       "1267  Canada: Snowfall warning in effect for Vancouv...  2019      2     8   \n",
       "1657  Hydrofluoric acid leak triggers hazmat respons...  2019      8    32   \n",
       "\n",
       "                                        Details_cleaned  \\\n",
       "462   monday medium source reported police begun dep...   \n",
       "1267  environment canada currently snowfall warning ...   \n",
       "1657  updated source indicate hydrofluoric acid leak...   \n",
       "\n",
       "                                              Category      Summarized_label  \n",
       "462                               Miscellaneous Events  Administrative Issue  \n",
       "1267  Ground Transportation Advisory, Weather Advisory               Weather  \n",
       "1657                                   Hazmat Response              Accident  "
      ]
     },
     "execution_count": 38,
     "metadata": {},
     "output_type": "execute_result"
    }
   ],
   "source": [
    "# find id in [465, 1277, 1669]\n",
    "df_v3[df_v3.id.isin([465, 1277, 1669])]"
   ]
  },
  {
   "cell_type": "code",
   "execution_count": 39,
   "id": "720d0488",
   "metadata": {},
   "outputs": [],
   "source": [
    "# drop id in [465, 1277, 1669]\n",
    "df_v3.drop(df_v3[df_v3.id.isin([465, 1277, 1669])].index, inplace=True)"
   ]
  },
  {
   "cell_type": "code",
   "execution_count": 40,
   "id": "4b2ae6e7",
   "metadata": {},
   "outputs": [
    {
     "data": {
      "text/html": [
       "<div>\n",
       "<style scoped>\n",
       "    .dataframe tbody tr th:only-of-type {\n",
       "        vertical-align: middle;\n",
       "    }\n",
       "\n",
       "    .dataframe tbody tr th {\n",
       "        vertical-align: top;\n",
       "    }\n",
       "\n",
       "    .dataframe thead th {\n",
       "        text-align: right;\n",
       "    }\n",
       "</style>\n",
       "<table border=\"1\" class=\"dataframe\">\n",
       "  <thead>\n",
       "    <tr style=\"text-align: right;\">\n",
       "      <th></th>\n",
       "      <th>id</th>\n",
       "      <th>Headline</th>\n",
       "      <th>Details</th>\n",
       "      <th>Severity</th>\n",
       "      <th>Region</th>\n",
       "      <th>Datetime</th>\n",
       "      <th>lat</th>\n",
       "      <th>lon</th>\n",
       "      <th>maritime_label</th>\n",
       "      <th>found_ports</th>\n",
       "      <th>contains_port_info</th>\n",
       "      <th>if_labeled</th>\n",
       "      <th>Headline_Details</th>\n",
       "      <th>Year</th>\n",
       "      <th>Month</th>\n",
       "      <th>Week</th>\n",
       "      <th>Details_cleaned</th>\n",
       "      <th>Category</th>\n",
       "      <th>Summarized_label</th>\n",
       "    </tr>\n",
       "  </thead>\n",
       "  <tbody>\n",
       "  </tbody>\n",
       "</table>\n",
       "</div>"
      ],
      "text/plain": [
       "Empty DataFrame\n",
       "Columns: [id, Headline, Details, Severity, Region, Datetime, lat, lon, maritime_label, found_ports, contains_port_info, if_labeled, Headline_Details, Year, Month, Week, Details_cleaned, Category, Summarized_label]\n",
       "Index: []"
      ]
     },
     "execution_count": 40,
     "metadata": {},
     "output_type": "execute_result"
    }
   ],
   "source": [
    "# find id in [465, 1277, 1669]\n",
    "df_v3[df_v3.id.isin([465, 1277, 1669])]"
   ]
  },
  {
   "cell_type": "code",
   "execution_count": 41,
   "id": "ee4c6986",
   "metadata": {},
   "outputs": [],
   "source": [
    "df_v3.to_csv(data_path, index=False)"
   ]
  },
  {
   "cell_type": "code",
   "execution_count": 42,
   "id": "e3d142c6",
   "metadata": {},
   "outputs": [
    {
     "data": {
      "text/plain": [
       "(5741, 19)"
      ]
     },
     "execution_count": 42,
     "metadata": {},
     "output_type": "execute_result"
    }
   ],
   "source": [
    "df_v3 = pd.read_csv(data_path)\n",
    "df_v3.shape"
   ]
  },
  {
   "cell_type": "code",
   "execution_count": 43,
   "id": "c79dea53",
   "metadata": {},
   "outputs": [
    {
     "data": {
      "text/plain": [
       "((4594, 19), (1147, 19))"
      ]
     },
     "execution_count": 43,
     "metadata": {},
     "output_type": "execute_result"
    }
   ],
   "source": [
    "df_v3_train.shape, df_v3_test.shape"
   ]
  },
  {
   "cell_type": "code",
   "execution_count": 44,
   "id": "05fd5e97",
   "metadata": {},
   "outputs": [
    {
     "data": {
      "text/plain": [
       "4.005231037489102"
      ]
     },
     "execution_count": 44,
     "metadata": {},
     "output_type": "execute_result"
    }
   ],
   "source": [
    "df_v3_train.shape[0] / df_v3_test.shape[0]"
   ]
  },
  {
   "cell_type": "code",
   "execution_count": 45,
   "id": "32d5b23c",
   "metadata": {},
   "outputs": [
    {
     "data": {
      "text/plain": [
       "True"
      ]
     },
     "execution_count": 45,
     "metadata": {},
     "output_type": "execute_result"
    }
   ],
   "source": [
    "df_v3_train[v2_dfs[\"train\"].columns][:465].equals(v2_dfs[\"train\"][:465])"
   ]
  },
  {
   "cell_type": "code",
   "execution_count": 46,
   "id": "a0d8fc3f",
   "metadata": {},
   "outputs": [
    {
     "data": {
      "text/plain": [
       "False"
      ]
     },
     "execution_count": 46,
     "metadata": {},
     "output_type": "execute_result"
    }
   ],
   "source": [
    "df_v3_train[v2_dfs[\"train\"].columns][:466].equals(v2_dfs[\"train\"][:466])"
   ]
  },
  {
   "cell_type": "code",
   "execution_count": 47,
   "id": "aff6228e",
   "metadata": {},
   "outputs": [
    {
     "data": {
      "text/plain": [
       "True"
      ]
     },
     "execution_count": 47,
     "metadata": {},
     "output_type": "execute_result"
    }
   ],
   "source": [
    "df_v3_test[v2_dfs[\"test\"].columns].equals(v2_dfs[\"test\"])"
   ]
  },
  {
   "cell_type": "markdown",
   "id": "bad068e0",
   "metadata": {},
   "source": [
    "## Debug Few-shot Prompting for JSON Outputs"
   ]
  },
  {
   "cell_type": "code",
   "execution_count": 6,
   "id": "f540db3e",
   "metadata": {},
   "outputs": [
    {
     "name": "stdout",
     "output_type": "stream",
     "text": [
      "Evaluating model: qwen2.5:0.5b\n",
      "loading train/test data files\n",
      "--- evaluating 1 entries\n",
      "DatasetDict({\n",
      "    train: Dataset({\n",
      "        features: ['id', 'Headline', 'Details', 'Severity', 'Region', 'Datetime', 'lat', 'lon', 'maritime_label', 'found_ports', 'contains_port_info', 'if_labeled', 'Headline_Details', 'Year', 'Month', 'Week', 'Details_cleaned', 'Category', 'Summarized_label', 'gpt-4o_label'],\n",
      "        num_rows: 4594\n",
      "    })\n",
      "    test: Dataset({\n",
      "        features: ['id', 'Headline', 'Details', 'Severity', 'Region', 'Datetime', 'lat', 'lon', 'maritime_label', 'found_ports', 'contains_port_info', 'if_labeled', 'Headline_Details', 'Year', 'Month', 'Week', 'Details_cleaned', 'Category', 'Summarized_label', 'gpt-4o_label'],\n",
      "        num_rows: 1\n",
      "    })\n",
      "})\n",
      "* Evaluating with num_shots: 10\n",
      "Generating prompt templates for 10 shots with Headline_Details and Summarized_label\n"
     ]
    },
    {
     "name": "stderr",
     "output_type": "stream",
     "text": [
      "  0%|          | 0/1 [00:00<?, ?it/s]"
     ]
    },
    {
     "name": "stdout",
     "output_type": "stream",
     "text": [
      "Setting debug mode to: True\n",
      "\u001b[32;1m\u001b[1;3m[chain/start]\u001b[0m \u001b[1m[chain:RunnableSequence] Entering Chain run with input:\n",
      "\u001b[0m{\n",
      "  \"input\": \"Courts, schools and hospitals evacuated across Saint Petersberg due to anonymous threats Russian media sources are reporting that courts, schools, and hospitals across Saint Petersberg have been evacuated today due to anonymous threats. It is understood that people have been evacuated from Petrodvorets, Oktyabrsky, Kolpinsky, Petrogradsky, Kuibyshevsky and Sestroretsky district courts. Furthermore, the State University of the Sea and River Fleet, St. Petersburg State University of Railway Engineering, Higher School of Folk Arts, St. Petersburg State University of Telecommunications, and S.M. Military Medical Academy Kirov have all been evacuated. This is the fourth consecutive week of evacuations from public buildings due to such threats. It is not known when the situation will normalise.\"\n",
      "}\n",
      "\u001b[32;1m\u001b[1;3m[chain/start]\u001b[0m \u001b[1m[chain:RunnableSequence > prompt:ChatPromptTemplate] Entering Prompt run with input:\n",
      "\u001b[0m{\n",
      "  \"input\": \"Courts, schools and hospitals evacuated across Saint Petersberg due to anonymous threats Russian media sources are reporting that courts, schools, and hospitals across Saint Petersberg have been evacuated today due to anonymous threats. It is understood that people have been evacuated from Petrodvorets, Oktyabrsky, Kolpinsky, Petrogradsky, Kuibyshevsky and Sestroretsky district courts. Furthermore, the State University of the Sea and River Fleet, St. Petersburg State University of Railway Engineering, Higher School of Folk Arts, St. Petersburg State University of Telecommunications, and S.M. Military Medical Academy Kirov have all been evacuated. This is the fourth consecutive week of evacuations from public buildings due to such threats. It is not known when the situation will normalise.\"\n",
      "}\n",
      "\u001b[36;1m\u001b[1;3m[chain/end]\u001b[0m \u001b[1m[chain:RunnableSequence > prompt:ChatPromptTemplate] [0ms] Exiting Prompt run with output:\n",
      "\u001b[0m[outputs]\n",
      "\u001b[32;1m\u001b[1;3m[llm/start]\u001b[0m \u001b[1m[chain:RunnableSequence > llm:ChatOllama] Entering LLM run with input:\n",
      "\u001b[0m{\n",
      "  \"prompts\": [\n",
      "    \"System: Task: Classify Inputs into Predefined Categories\\n\\nYour primary objective is to analyze the given input and assign it to one of the predefined categories: ['Weather', 'Worker Strike', 'Administrative Issue', 'Human Error', 'Cyber Attack', 'Terrorism', 'Accident', 'Others']. Evaluate the content carefully and use the defining characteristics of each category to ensure an accurate classification.\\n\\nGuidelines:\\n1. Understand the Categories:\\nEach category has specific attributes that distinguish it. Familiarize yourself with these attributes by referring to the category descriptions provided in the JSON below. Use these details to guide your classification:\\n\\n{'Weather': ['Flooding', 'Severe Winds', 'Weather Advisory', 'Tropical Cyclone', 'Storm', 'Ice Storm', 'Earthquake', 'Tornado', 'Typhoon', 'Landslide', 'Water', 'Hurricane', 'Wildfire', 'Blizzard', 'Hail'], 'Worker Strike': ['Mine Workers Strike', 'Production Halt', 'Protest', 'Riot', 'Port Strike', 'General Strike', 'Civil Service Strike', 'Civil Unrest Advisory', 'Cargo Transportation Strike', 'Energy Sector Strike'], 'Administrative Issue': ['Port Congestion', 'Police Operations', 'Roadway Closure', 'Disruption', 'Cargo', 'Industrial Action', 'Port Disruption', 'Cargo Disruption', 'Power Outage', 'Port Closure', 'Maritime Advisory', 'Train Delays', 'Ground Transportation Advisory', 'Public Transportation Disruption', 'Trade Regulation', 'Customs Regulation', 'Regulatory Advisory', 'Industry Directives', 'Security Advisory', 'Public Holidays', 'Customs Delay', 'Public Health Advisory', 'Detention', 'Aviation Advisory', 'Waterway Closure', 'Plant Closure', 'Border Closure', 'Delay', 'Industrial zone shutdown', 'Trade Restrictions', 'Closure', 'Truck Driving Ban', 'Insolvency', 'Environmental Regulations', 'Postal Disruption', 'Travel Warning'], 'Human Error': ['Workplace Accident', 'Individuals in Focus', 'Military Operations', 'Flight Delays', 'Cancellations', 'Political Info', 'Political Event'], 'Cyber Attack': ['Network Disruption', 'Ransomware', 'Data breach', 'Phishing'], 'Terrorism': ['Bombing', 'Warehouse Theft', 'Public Safety', 'Security', 'Organized Crime', 'Piracy', 'Kidnap', 'Shooting', 'Robbery', 'Cargo theft', 'Bomb Detonation', 'Terror Attack', 'Outbreak Of War', 'Militant Action'], 'Accident': ['Hazmat Response', 'Maritime Accident', 'Vehicle Accident', 'Death', 'Injury', 'Non-industrial Fire', 'Chemical Spill', 'Industrial Fire', 'Fuel Disruption', 'Airline Incident', 'Crash', 'Explosion', 'Train Accident', 'Derailment', 'Sewage Disruption', 'Barge Accident', 'Bridge Collapse', 'Structure Collapse', 'Airport Accident', 'Force Majeure', 'Telecom Outage'], 'Others': ['Miscellaneous Events', 'Miscellaneous Strikes', 'Outbreak of disease']}\\n\\n2. Contextual Analysis:\\nConsider the broader context of the input. If an input could potentially fit into multiple categories, select the one that most closely aligns with its primary intent or focus.\\n3. Handling Ambiguity:\\nFor ambiguous inputs or those that do not clearly align with any category, choose the category that most closely matches the content provided.\\n4. Ensure Accuracy and Consistency:\\nStrive for consistent and accurate classifications. Avoid arbitrary or random assignments.\\n5. Provide Feedback:\\nIf the input cannot be classified into any of the given categories, classify it as “Others.”\\n\\nInstructions for Output:\\n1. Once the category is identified, provide “specific tags” by selecting from the list corresponding to the identified category, as defined in the JSON.\\n2. Ensure the selected “specific tags” accurately reflect the details and context of the input.\\n\\nOutput Format:\\n\\nReturn your classification in the following JSON format:\\n\\n{\\n  \\\"category\\\": \\\"<Selected Category>\\\",\\n  \\\"specific_tags\\\": [\\\"<Selected Tag 1>\\\", \\\"<Selected Tag 2>\\\", ...]\\n}\\n\\n\\n\\nExample Inputs and Outputs:\\n\\n- Input:\\n\\nLocal sources reported that operations at Pier 1 and 2 container terminals at the Port of Durban have suspended due to strong winds on December 27 from 18:50 (local time) and resumed at 23:10 on the same day. For Pier 2 terminal, operations stopped at 19:30 and resumed at 20:35 respectively.\\n\\n- Output:\\n\\n{\\n  \\\"category\\\": \\\"Weather\\\",\\n  \\\"specific_tags\\\": [\\\"Severe Winds\\\"]\\n}\\n\\n- Input:\\n\\nInformation received states that emergency personnel are working to contain a blaze at Off Road Warehouse in commercial San Diego, on 17 November. It is detailed that the store is located at 7915 Balboa Avenue. Traffic maps show that Balboa Avenue is closed both ways between Mercury Street and Convoy Street. Travelers should use caution in the area and divert away from any encountered fire suppression operations.\\n\\n- Output:\\n\\n{\\n  \\\"category\\\": \\\"Administrative Issue\\\",\\n  \\\"specific_tags\\\": [\\\"Roadway Closure\\\", \\\"Public Safety Advisory\\\"]\\n}\\n\\n- Input:\\n\\nProtests against climate change are anticipated nationwide on 29 November and 6 December as part of the ‘Fridays for Future’ global climate strike. Specific details of planned events have not been confirmed, but are likely to occur in major cities across the country. Previous climate strikes have seen large turnout in cities such as New York City, Philadelphia, and Washington, D.C.\\n\\n- Output:\\n\\n{\\n  \\\"category\\\": \\\"Worker Strike\\\",\\n  \\\"specific_tags\\\": [\\\"Protest\\\", \\\"Civil Unrest Advisory\\\"]\\n}\\n\\n- Input:\\n\\nGovernment sources reported a fire at the Woolwich Dockyard, located near Belson Rd and Borgard Rd. No injuries were immediately reported. All rail lines from London towards Slade Green are running again. This incident is closed.\\n\\n- Output:\\n\\n{\\n  \\\"category\\\": \\\"Accident\\\",\\n  \\\"specific_tags\\\": [\\\"Non-industrial Fire\\\"]\\n}\\n\\n- Input:\\n\\nLocal media sources indicated on November 30 that the Ekurhuleni Central Crime Intelligence Unit arrested 4 suspects and recovered computer printer equipment cargo from their November 21 truck theft at the corner of Main Reef Road and Ulysses Street in Cleveland. The truck was en route from Durban to Johannesburg when it was hijacked in Randfontein. The cargo was worth ZAR 5 million (EUR 309018.21; USD 352673.95), and some laptops are still missing. Distributors should be mindful of cargo theft risks in Randfontein and should plan accordingly.\\n\\n- Output:\\n\\n{\\n  \\\"category\\\": \\\"Terrorism\\\",\\n  \\\"specific_tags\\\": [\\\"Cargo Theft\\\", \\\"Organized Crime\\\"]\\n}\\n\\n- Input:\\n\\nAnonymous sources have reported that a ransomware attack has disrupted network operations for a major logistics provider. The attack occurred on November 15, and data breaches were confirmed, exposing sensitive customer and shipment details. The company has stated that recovery is underway but advised customers to expect delays.\\n\\n- Output:\\n\\n{\\n  \\\"category\\\": \\\"Cyber Attack\\\",\\n  \\\"specific_tags\\\": [\\\"Ransomware\\\", \\\"Data Breach\\\"]\\n}\\n\\n- Input:\\n\\nThe Selangor Health Department reported that two students of a Secondary School in Pandamaran Jaya in Port Klang had been infected with COVID-19 virus.\\n\\n- Output:\\n\\n{\\n  \\\"category\\\": \\\"Others\\\",\\n  \\\"specific_tags\\\": [\\\"Outbreak of Disease\\\"]\\n}\\n\\n- Input:\\n\\nAn incident of workplace negligence was reported at a construction site in downtown Chicago on November 19, where an unfastened scaffolding collapsed, injuring two workers. Investigations are ongoing to determine accountability.\\n\\n- Output:\\n\\n{\\n  \\\"category\\\": \\\"Human Error\\\",\\n  \\\"specific_tags\\\": [\\\"Workplace Accident\\\"]\\n}\\n\\n- Input:\\n\\nShipping delays were reported at the Port of Los Angeles on December 1 due to a customs system outage. Containers requiring clearance were delayed for up to 12 hours, affecting supply chains across the region.\\n\\n- Output:\\n\\n{\\n  \\\"category\\\": \\\"Administrative Issue\\\",\\n  \\\"specific_tags\\\": [\\\"Customs Delay\\\", \\\"Port Disruption\\\"]\\n}\\n\\n- Input:\\n\\nRussian media sources are reporting that courts, schools, and hospitals across Saint Petersburg have been evacuated today due to anonymous threats. It is understood that people have been evacuated from Petrodvorets, Oktyabrsky, Kolpinsky, Petrogradsky, Kuibyshevsky, and Sestroretsky district courts. Furthermore, the State University of the Sea and River Fleet, St. Petersburg State University of Railway Engineering, Higher School of Folk Arts, St. Petersburg State University of Telecommunications, and S.M. Military Medical Academy Kirov have all been evacuated. This is the fourth consecutive week of evacuations from public buildings due to such threats. It is not known when the situation will normalize.\\n\\n- Output:\\n\\n{\\n  \\\"category\\\": \\\"Terrorism\\\",\\n  \\\"specific_tags\\\": [\\\"Bomb Threat\\\", \\\"Public Safety\\\"]\\n}\\n\\n\\nHuman: - Input:\\n\\nCourts, schools and hospitals evacuated across Saint Petersberg due to anonymous threats Russian media sources are reporting that courts, schools, and hospitals across Saint Petersberg have been evacuated today due to anonymous threats. It is understood that people have been evacuated from Petrodvorets, Oktyabrsky, Kolpinsky, Petrogradsky, Kuibyshevsky and Sestroretsky district courts. Furthermore, the State University of the Sea and River Fleet, St. Petersburg State University of Railway Engineering, Higher School of Folk Arts, St. Petersburg State University of Telecommunications, and S.M. Military Medical Academy Kirov have all been evacuated. This is the fourth consecutive week of evacuations from public buildings due to such threats. It is not known when the situation will normalise.\\n\\n- Output:\"\n",
      "  ]\n",
      "}\n"
     ]
    },
    {
     "name": "stderr",
     "output_type": "stream",
     "text": [
      "100%|██████████| 1/1 [00:00<00:00,  3.34it/s]"
     ]
    },
    {
     "name": "stdout",
     "output_type": "stream",
     "text": [
      "\u001b[36;1m\u001b[1;3m[llm/end]\u001b[0m \u001b[1m[chain:RunnableSequence > llm:ChatOllama] [261ms] Exiting LLM run with output:\n",
      "\u001b[0m{\n",
      "  \"generations\": [\n",
      "    [\n",
      "      {\n",
      "        \"text\": \"{\\n  \\\"category\\\": \\\"Terrorism\\\",\\n  \\\"specific_tags\\\": [\\\"Bomb Threat\\\", \\\"Public Safety\\\"]\\n}\",\n",
      "        \"generation_info\": {\n",
      "          \"model\": \"qwen2.5:0.5b\",\n",
      "          \"created_at\": \"2024-12-17T15:38:39.644191Z\",\n",
      "          \"done\": true,\n",
      "          \"done_reason\": \"stop\",\n",
      "          \"total_duration\": 256028750,\n",
      "          \"load_duration\": 34964959,\n",
      "          \"prompt_eval_count\": 2081,\n",
      "          \"prompt_eval_duration\": 75000000,\n",
      "          \"eval_count\": 25,\n",
      "          \"eval_duration\": 132000000,\n",
      "          \"message\": {\n",
      "            \"role\": \"assistant\",\n",
      "            \"content\": \"\",\n",
      "            \"images\": null,\n",
      "            \"tool_calls\": null\n",
      "          }\n",
      "        },\n",
      "        \"type\": \"ChatGeneration\",\n",
      "        \"message\": {\n",
      "          \"lc\": 1,\n",
      "          \"type\": \"constructor\",\n",
      "          \"id\": [\n",
      "            \"langchain\",\n",
      "            \"schema\",\n",
      "            \"messages\",\n",
      "            \"AIMessage\"\n",
      "          ],\n",
      "          \"kwargs\": {\n",
      "            \"content\": \"{\\n  \\\"category\\\": \\\"Terrorism\\\",\\n  \\\"specific_tags\\\": [\\\"Bomb Threat\\\", \\\"Public Safety\\\"]\\n}\",\n",
      "            \"response_metadata\": {\n",
      "              \"model\": \"qwen2.5:0.5b\",\n",
      "              \"created_at\": \"2024-12-17T15:38:39.644191Z\",\n",
      "              \"done\": true,\n",
      "              \"done_reason\": \"stop\",\n",
      "              \"total_duration\": 256028750,\n",
      "              \"load_duration\": 34964959,\n",
      "              \"prompt_eval_count\": 2081,\n",
      "              \"prompt_eval_duration\": 75000000,\n",
      "              \"eval_count\": 25,\n",
      "              \"eval_duration\": 132000000,\n",
      "              \"message\": {\n",
      "                \"lc\": 1,\n",
      "                \"type\": \"not_implemented\",\n",
      "                \"id\": [\n",
      "                  \"ollama\",\n",
      "                  \"_types\",\n",
      "                  \"Message\"\n",
      "                ],\n",
      "                \"repr\": \"Message(role='assistant', content='', images=None, tool_calls=None)\"\n",
      "              }\n",
      "            },\n",
      "            \"type\": \"ai\",\n",
      "            \"id\": \"run-5a6977b7-361f-48c9-832c-57011eff7d8b-0\",\n",
      "            \"usage_metadata\": {\n",
      "              \"input_tokens\": 2081,\n",
      "              \"output_tokens\": 25,\n",
      "              \"total_tokens\": 2106\n",
      "            },\n",
      "            \"tool_calls\": [],\n",
      "            \"invalid_tool_calls\": []\n",
      "          }\n",
      "        }\n",
      "      }\n",
      "    ]\n",
      "  ],\n",
      "  \"llm_output\": null,\n",
      "  \"run\": null,\n",
      "  \"type\": \"LLMResult\"\n",
      "}\n",
      "\u001b[36;1m\u001b[1;3m[chain/end]\u001b[0m \u001b[1m[chain:RunnableSequence] [262ms] Exiting Chain run with output:\n",
      "\u001b[0m[outputs]\n",
      "Setting debug mode to: False\n",
      "*** Execution time for num_shots 10: 0.30 seconds\n"
     ]
    },
    {
     "name": "stderr",
     "output_type": "stream",
     "text": [
      "\n"
     ]
    },
    {
     "name": "stdout",
     "output_type": "stream",
     "text": [
      "'float' object has no attribute 'size'\n",
      "Error saving results:  ['{\\n  \"category\": \"Terrorism\",\\n  \"specific_tags\": [\"Bomb Threat\", \"Public Safety\"]\\n}']\n",
      "Dataset({\n",
      "    features: ['id', 'Headline', 'Details', 'Severity', 'Region', 'Datetime', 'lat', 'lon', 'maritime_label', 'found_ports', 'contains_port_info', 'if_labeled', 'Headline_Details', 'Year', 'Month', 'Week', 'Details_cleaned', 'Category', 'Summarized_label', 'gpt-4o_label'],\n",
      "    num_rows: 1\n",
      "})\n",
      "CPU times: user 77 ms, sys: 17.2 ms, total: 94.2 ms\n",
      "Wall time: 2.33 s\n"
     ]
    }
   ],
   "source": [
    "%%time\n",
    "\n",
    "from llm_toolkit.eval_openai import *\n",
    "\n",
    "evaluate_model_with_num_shots(\n",
    "    \"qwen2.5:0.5b\",\n",
    "    data_path,\n",
    "    results_path=results_path,\n",
    "    ollama=True,\n",
    "    range_num_shots=[10],\n",
    "    max_entries=1,\n",
    "    debug=True,\n",
    ")"
   ]
  },
  {
   "cell_type": "code",
   "execution_count": 9,
   "id": "7d2bc206",
   "metadata": {},
   "outputs": [
    {
     "name": "stdout",
     "output_type": "stream",
     "text": [
      "System: Task: Classify Inputs into Predefined Categories\n",
      "\n",
      "Your primary objective is to analyze the given input and assign it to one of the predefined categories: ['Weather', 'Worker Strike', 'Administrative Issue', 'Human Error', 'Cyber Attack', 'Terrorism', 'Accident', 'Others']. Evaluate the content carefully and use the defining characteristics of each category to ensure an accurate classification.\n",
      "\n",
      "Guidelines:\n",
      "1. Understand the Categories:\n",
      "Each category has specific attributes that distinguish it. Familiarize yourself with these attributes by referring to the category descriptions provided in the JSON below. Use these details to guide your classification:\n",
      "\n",
      "{'Weather': ['Flooding', 'Severe Winds', 'Weather Advisory', 'Tropical Cyclone', 'Storm', 'Ice Storm', 'Earthquake', 'Tornado', 'Typhoon', 'Landslide', 'Water', 'Hurricane', 'Wildfire', 'Blizzard', 'Hail'], 'Worker Strike': ['Mine Workers Strike', 'Production Halt', 'Protest', 'Riot', 'Port Strike', 'General Strike', 'Civil Service Strike', 'Civil Unrest Advisory', 'Cargo Transportation Strike', 'Energy Sector Strike'], 'Administrative Issue': ['Port Congestion', 'Police Operations', 'Roadway Closure', 'Disruption', 'Cargo', 'Industrial Action', 'Port Disruption', 'Cargo Disruption', 'Power Outage', 'Port Closure', 'Maritime Advisory', 'Train Delays', 'Ground Transportation Advisory', 'Public Transportation Disruption', 'Trade Regulation', 'Customs Regulation', 'Regulatory Advisory', 'Industry Directives', 'Security Advisory', 'Public Holidays', 'Customs Delay', 'Public Health Advisory', 'Detention', 'Aviation Advisory', 'Waterway Closure', 'Plant Closure', 'Border Closure', 'Delay', 'Industrial zone shutdown', 'Trade Restrictions', 'Closure', 'Truck Driving Ban', 'Insolvency', 'Environmental Regulations', 'Postal Disruption', 'Travel Warning'], 'Human Error': ['Workplace Accident', 'Individuals in Focus', 'Military Operations', 'Flight Delays', 'Cancellations', 'Political Info', 'Political Event'], 'Cyber Attack': ['Network Disruption', 'Ransomware', 'Data breach', 'Phishing'], 'Terrorism': ['Bombing', 'Warehouse Theft', 'Public Safety', 'Security', 'Organized Crime', 'Piracy', 'Kidnap', 'Shooting', 'Robbery', 'Cargo theft', 'Bomb Detonation', 'Terror Attack', 'Outbreak Of War', 'Militant Action'], 'Accident': ['Hazmat Response', 'Maritime Accident', 'Vehicle Accident', 'Death', 'Injury', 'Non-industrial Fire', 'Chemical Spill', 'Industrial Fire', 'Fuel Disruption', 'Airline Incident', 'Crash', 'Explosion', 'Train Accident', 'Derailment', 'Sewage Disruption', 'Barge Accident', 'Bridge Collapse', 'Structure Collapse', 'Airport Accident', 'Force Majeure', 'Telecom Outage'], 'Others': ['Miscellaneous Events', 'Miscellaneous Strikes', 'Outbreak of disease']}\n",
      "\n",
      "2. Contextual Analysis:\n",
      "Consider the broader context of the input. If an input could potentially fit into multiple categories, select the one that most closely aligns with its primary intent or focus.\n",
      "3. Handling Ambiguity:\n",
      "For ambiguous inputs or those that do not clearly align with any category, choose the category that most closely matches the content provided.\n",
      "4. Ensure Accuracy and Consistency:\n",
      "Strive for consistent and accurate classifications. Avoid arbitrary or random assignments.\n",
      "5. Provide Feedback:\n",
      "If the input cannot be classified into any of the given categories, classify it as “Others.”\n",
      "\n",
      "Instructions for Output:\n",
      "1. Once the category is identified, provide “specific tags” by selecting from the list corresponding to the identified category, as defined in the JSON.\n",
      "2. Ensure the selected “specific tags” accurately reflect the details and context of the input.\n",
      "\n",
      "Output Format:\n",
      "\n",
      "Return your classification in the following JSON format:\n",
      "\n",
      "{\n",
      "  \"category\": \"<Selected Category>\",\n",
      "  \"specific_tags\": [\"<Selected Tag 1>\", \"<Selected Tag 2>\", ...]\n",
      "}\n",
      "\n",
      "\n",
      "\n",
      "Example Inputs and Outputs:\n",
      "\n",
      "- Input:\n",
      "\n",
      "Local sources reported that operations at Pier 1 and 2 container terminals at the Port of Durban have suspended due to strong winds on December 27 from 18:50 (local time) and resumed at 23:10 on the same day. For Pier 2 terminal, operations stopped at 19:30 and resumed at 20:35 respectively.\n",
      "\n",
      "- Output:\n",
      "\n",
      "{\n",
      "  \"category\": \"Weather\",\n",
      "  \"specific_tags\": [\"Severe Winds\"]\n",
      "}\n",
      "\n",
      "- Input:\n",
      "\n",
      "Information received states that emergency personnel are working to contain a blaze at Off Road Warehouse in commercial San Diego, on 17 November. It is detailed that the store is located at 7915 Balboa Avenue. Traffic maps show that Balboa Avenue is closed both ways between Mercury Street and Convoy Street. Travelers should use caution in the area and divert away from any encountered fire suppression operations.\n",
      "\n",
      "- Output:\n",
      "\n",
      "{\n",
      "  \"category\": \"Administrative Issue\",\n",
      "  \"specific_tags\": [\"Roadway Closure\", \"Public Safety Advisory\"]\n",
      "}\n",
      "\n",
      "- Input:\n",
      "\n",
      "Protests against climate change are anticipated nationwide on 29 November and 6 December as part of the ‘Fridays for Future’ global climate strike. Specific details of planned events have not been confirmed, but are likely to occur in major cities across the country. Previous climate strikes have seen large turnout in cities such as New York City, Philadelphia, and Washington, D.C.\n",
      "\n",
      "- Output:\n",
      "\n",
      "{\n",
      "  \"category\": \"Worker Strike\",\n",
      "  \"specific_tags\": [\"Protest\", \"Civil Unrest Advisory\"]\n",
      "}\n",
      "\n",
      "- Input:\n",
      "\n",
      "Government sources reported a fire at the Woolwich Dockyard, located near Belson Rd and Borgard Rd. No injuries were immediately reported. All rail lines from London towards Slade Green are running again. This incident is closed.\n",
      "\n",
      "- Output:\n",
      "\n",
      "{\n",
      "  \"category\": \"Accident\",\n",
      "  \"specific_tags\": [\"Non-industrial Fire\"]\n",
      "}\n",
      "\n",
      "- Input:\n",
      "\n",
      "Local media sources indicated on November 30 that the Ekurhuleni Central Crime Intelligence Unit arrested 4 suspects and recovered computer printer equipment cargo from their November 21 truck theft at the corner of Main Reef Road and Ulysses Street in Cleveland. The truck was en route from Durban to Johannesburg when it was hijacked in Randfontein. The cargo was worth ZAR 5 million (EUR 309018.21; USD 352673.95), and some laptops are still missing. Distributors should be mindful of cargo theft risks in Randfontein and should plan accordingly.\n",
      "\n",
      "- Output:\n",
      "\n",
      "{\n",
      "  \"category\": \"Terrorism\",\n",
      "  \"specific_tags\": [\"Cargo Theft\", \"Organized Crime\"]\n",
      "}\n",
      "\n",
      "- Input:\n",
      "\n",
      "Anonymous sources have reported that a ransomware attack has disrupted network operations for a major logistics provider. The attack occurred on November 15, and data breaches were confirmed, exposing sensitive customer and shipment details. The company has stated that recovery is underway but advised customers to expect delays.\n",
      "\n",
      "- Output:\n",
      "\n",
      "{\n",
      "  \"category\": \"Cyber Attack\",\n",
      "  \"specific_tags\": [\"Ransomware\", \"Data Breach\"]\n",
      "}\n",
      "\n",
      "- Input:\n",
      "\n",
      "The Selangor Health Department reported that two students of a Secondary School in Pandamaran Jaya in Port Klang had been infected with COVID-19 virus.\n",
      "\n",
      "- Output:\n",
      "\n",
      "{\n",
      "  \"category\": \"Others\",\n",
      "  \"specific_tags\": [\"Outbreak of Disease\"]\n",
      "}\n",
      "\n",
      "- Input:\n",
      "\n",
      "An incident of workplace negligence was reported at a construction site in downtown Chicago on November 19, where an unfastened scaffolding collapsed, injuring two workers. Investigations are ongoing to determine accountability.\n",
      "\n",
      "- Output:\n",
      "\n",
      "{\n",
      "  \"category\": \"Human Error\",\n",
      "  \"specific_tags\": [\"Workplace Accident\"]\n",
      "}\n",
      "\n",
      "- Input:\n",
      "\n",
      "Shipping delays were reported at the Port of Los Angeles on December 1 due to a customs system outage. Containers requiring clearance were delayed for up to 12 hours, affecting supply chains across the region.\n",
      "\n",
      "- Output:\n",
      "\n",
      "{\n",
      "  \"category\": \"Administrative Issue\",\n",
      "  \"specific_tags\": [\"Customs Delay\", \"Port Disruption\"]\n",
      "}\n",
      "\n",
      "- Input:\n",
      "\n",
      "Russian media sources are reporting that courts, schools, and hospitals across Saint Petersburg have been evacuated today due to anonymous threats. It is understood that people have been evacuated from Petrodvorets, Oktyabrsky, Kolpinsky, Petrogradsky, Kuibyshevsky, and Sestroretsky district courts. Furthermore, the State University of the Sea and River Fleet, St. Petersburg State University of Railway Engineering, Higher School of Folk Arts, St. Petersburg State University of Telecommunications, and S.M. Military Medical Academy Kirov have all been evacuated. This is the fourth consecutive week of evacuations from public buildings due to such threats. It is not known when the situation will normalize.\n",
      "\n",
      "- Output:\n",
      "\n",
      "{\n",
      "  \"category\": \"Terrorism\",\n",
      "  \"specific_tags\": [\"Bomb Threat\", \"Public Safety\"]\n",
      "}\n",
      "\n",
      "\n",
      "Human: - Input:\n",
      "\n",
      "Courts, schools and hospitals evacuated across Saint Petersberg due to anonymous threats Russian media sources are reporting that courts, schools, and hospitals across Saint Petersberg have been evacuated today due to anonymous threats. It is understood that people have been evacuated from Petrodvorets, Oktyabrsky, Kolpinsky, Petrogradsky, Kuibyshevsky and Sestroretsky district courts. Furthermore, the State University of the Sea and River Fleet, St. Petersburg State University of Railway Engineering, Higher School of Folk Arts, St. Petersburg State University of Telecommunications, and S.M. Military Medical Academy Kirov have all been evacuated. This is the fourth consecutive week of evacuations from public buildings due to such threats. It is not known when the situation will normalise.\n",
      "\n",
      "- Output:\n"
     ]
    }
   ],
   "source": [
    "prompt = \"System: Task: Classify Inputs into Predefined Categories\\n\\nYour primary objective is to analyze the given input and assign it to one of the predefined categories: ['Weather', 'Worker Strike', 'Administrative Issue', 'Human Error', 'Cyber Attack', 'Terrorism', 'Accident', 'Others']. Evaluate the content carefully and use the defining characteristics of each category to ensure an accurate classification.\\n\\nGuidelines:\\n1. Understand the Categories:\\nEach category has specific attributes that distinguish it. Familiarize yourself with these attributes by referring to the category descriptions provided in the JSON below. Use these details to guide your classification:\\n\\n{'Weather': ['Flooding', 'Severe Winds', 'Weather Advisory', 'Tropical Cyclone', 'Storm', 'Ice Storm', 'Earthquake', 'Tornado', 'Typhoon', 'Landslide', 'Water', 'Hurricane', 'Wildfire', 'Blizzard', 'Hail'], 'Worker Strike': ['Mine Workers Strike', 'Production Halt', 'Protest', 'Riot', 'Port Strike', 'General Strike', 'Civil Service Strike', 'Civil Unrest Advisory', 'Cargo Transportation Strike', 'Energy Sector Strike'], 'Administrative Issue': ['Port Congestion', 'Police Operations', 'Roadway Closure', 'Disruption', 'Cargo', 'Industrial Action', 'Port Disruption', 'Cargo Disruption', 'Power Outage', 'Port Closure', 'Maritime Advisory', 'Train Delays', 'Ground Transportation Advisory', 'Public Transportation Disruption', 'Trade Regulation', 'Customs Regulation', 'Regulatory Advisory', 'Industry Directives', 'Security Advisory', 'Public Holidays', 'Customs Delay', 'Public Health Advisory', 'Detention', 'Aviation Advisory', 'Waterway Closure', 'Plant Closure', 'Border Closure', 'Delay', 'Industrial zone shutdown', 'Trade Restrictions', 'Closure', 'Truck Driving Ban', 'Insolvency', 'Environmental Regulations', 'Postal Disruption', 'Travel Warning'], 'Human Error': ['Workplace Accident', 'Individuals in Focus', 'Military Operations', 'Flight Delays', 'Cancellations', 'Political Info', 'Political Event'], 'Cyber Attack': ['Network Disruption', 'Ransomware', 'Data breach', 'Phishing'], 'Terrorism': ['Bombing', 'Warehouse Theft', 'Public Safety', 'Security', 'Organized Crime', 'Piracy', 'Kidnap', 'Shooting', 'Robbery', 'Cargo theft', 'Bomb Detonation', 'Terror Attack', 'Outbreak Of War', 'Militant Action'], 'Accident': ['Hazmat Response', 'Maritime Accident', 'Vehicle Accident', 'Death', 'Injury', 'Non-industrial Fire', 'Chemical Spill', 'Industrial Fire', 'Fuel Disruption', 'Airline Incident', 'Crash', 'Explosion', 'Train Accident', 'Derailment', 'Sewage Disruption', 'Barge Accident', 'Bridge Collapse', 'Structure Collapse', 'Airport Accident', 'Force Majeure', 'Telecom Outage'], 'Others': ['Miscellaneous Events', 'Miscellaneous Strikes', 'Outbreak of disease']}\\n\\n2. Contextual Analysis:\\nConsider the broader context of the input. If an input could potentially fit into multiple categories, select the one that most closely aligns with its primary intent or focus.\\n3. Handling Ambiguity:\\nFor ambiguous inputs or those that do not clearly align with any category, choose the category that most closely matches the content provided.\\n4. Ensure Accuracy and Consistency:\\nStrive for consistent and accurate classifications. Avoid arbitrary or random assignments.\\n5. Provide Feedback:\\nIf the input cannot be classified into any of the given categories, classify it as “Others.”\\n\\nInstructions for Output:\\n1. Once the category is identified, provide “specific tags” by selecting from the list corresponding to the identified category, as defined in the JSON.\\n2. Ensure the selected “specific tags” accurately reflect the details and context of the input.\\n\\nOutput Format:\\n\\nReturn your classification in the following JSON format:\\n\\n{\\n  \\\"category\\\": \\\"<Selected Category>\\\",\\n  \\\"specific_tags\\\": [\\\"<Selected Tag 1>\\\", \\\"<Selected Tag 2>\\\", ...]\\n}\\n\\n\\n\\nExample Inputs and Outputs:\\n\\n- Input:\\n\\nLocal sources reported that operations at Pier 1 and 2 container terminals at the Port of Durban have suspended due to strong winds on December 27 from 18:50 (local time) and resumed at 23:10 on the same day. For Pier 2 terminal, operations stopped at 19:30 and resumed at 20:35 respectively.\\n\\n- Output:\\n\\n{\\n  \\\"category\\\": \\\"Weather\\\",\\n  \\\"specific_tags\\\": [\\\"Severe Winds\\\"]\\n}\\n\\n- Input:\\n\\nInformation received states that emergency personnel are working to contain a blaze at Off Road Warehouse in commercial San Diego, on 17 November. It is detailed that the store is located at 7915 Balboa Avenue. Traffic maps show that Balboa Avenue is closed both ways between Mercury Street and Convoy Street. Travelers should use caution in the area and divert away from any encountered fire suppression operations.\\n\\n- Output:\\n\\n{\\n  \\\"category\\\": \\\"Administrative Issue\\\",\\n  \\\"specific_tags\\\": [\\\"Roadway Closure\\\", \\\"Public Safety Advisory\\\"]\\n}\\n\\n- Input:\\n\\nProtests against climate change are anticipated nationwide on 29 November and 6 December as part of the ‘Fridays for Future’ global climate strike. Specific details of planned events have not been confirmed, but are likely to occur in major cities across the country. Previous climate strikes have seen large turnout in cities such as New York City, Philadelphia, and Washington, D.C.\\n\\n- Output:\\n\\n{\\n  \\\"category\\\": \\\"Worker Strike\\\",\\n  \\\"specific_tags\\\": [\\\"Protest\\\", \\\"Civil Unrest Advisory\\\"]\\n}\\n\\n- Input:\\n\\nGovernment sources reported a fire at the Woolwich Dockyard, located near Belson Rd and Borgard Rd. No injuries were immediately reported. All rail lines from London towards Slade Green are running again. This incident is closed.\\n\\n- Output:\\n\\n{\\n  \\\"category\\\": \\\"Accident\\\",\\n  \\\"specific_tags\\\": [\\\"Non-industrial Fire\\\"]\\n}\\n\\n- Input:\\n\\nLocal media sources indicated on November 30 that the Ekurhuleni Central Crime Intelligence Unit arrested 4 suspects and recovered computer printer equipment cargo from their November 21 truck theft at the corner of Main Reef Road and Ulysses Street in Cleveland. The truck was en route from Durban to Johannesburg when it was hijacked in Randfontein. The cargo was worth ZAR 5 million (EUR 309018.21; USD 352673.95), and some laptops are still missing. Distributors should be mindful of cargo theft risks in Randfontein and should plan accordingly.\\n\\n- Output:\\n\\n{\\n  \\\"category\\\": \\\"Terrorism\\\",\\n  \\\"specific_tags\\\": [\\\"Cargo Theft\\\", \\\"Organized Crime\\\"]\\n}\\n\\n- Input:\\n\\nAnonymous sources have reported that a ransomware attack has disrupted network operations for a major logistics provider. The attack occurred on November 15, and data breaches were confirmed, exposing sensitive customer and shipment details. The company has stated that recovery is underway but advised customers to expect delays.\\n\\n- Output:\\n\\n{\\n  \\\"category\\\": \\\"Cyber Attack\\\",\\n  \\\"specific_tags\\\": [\\\"Ransomware\\\", \\\"Data Breach\\\"]\\n}\\n\\n- Input:\\n\\nThe Selangor Health Department reported that two students of a Secondary School in Pandamaran Jaya in Port Klang had been infected with COVID-19 virus.\\n\\n- Output:\\n\\n{\\n  \\\"category\\\": \\\"Others\\\",\\n  \\\"specific_tags\\\": [\\\"Outbreak of Disease\\\"]\\n}\\n\\n- Input:\\n\\nAn incident of workplace negligence was reported at a construction site in downtown Chicago on November 19, where an unfastened scaffolding collapsed, injuring two workers. Investigations are ongoing to determine accountability.\\n\\n- Output:\\n\\n{\\n  \\\"category\\\": \\\"Human Error\\\",\\n  \\\"specific_tags\\\": [\\\"Workplace Accident\\\"]\\n}\\n\\n- Input:\\n\\nShipping delays were reported at the Port of Los Angeles on December 1 due to a customs system outage. Containers requiring clearance were delayed for up to 12 hours, affecting supply chains across the region.\\n\\n- Output:\\n\\n{\\n  \\\"category\\\": \\\"Administrative Issue\\\",\\n  \\\"specific_tags\\\": [\\\"Customs Delay\\\", \\\"Port Disruption\\\"]\\n}\\n\\n- Input:\\n\\nRussian media sources are reporting that courts, schools, and hospitals across Saint Petersburg have been evacuated today due to anonymous threats. It is understood that people have been evacuated from Petrodvorets, Oktyabrsky, Kolpinsky, Petrogradsky, Kuibyshevsky, and Sestroretsky district courts. Furthermore, the State University of the Sea and River Fleet, St. Petersburg State University of Railway Engineering, Higher School of Folk Arts, St. Petersburg State University of Telecommunications, and S.M. Military Medical Academy Kirov have all been evacuated. This is the fourth consecutive week of evacuations from public buildings due to such threats. It is not known when the situation will normalize.\\n\\n- Output:\\n\\n{\\n  \\\"category\\\": \\\"Terrorism\\\",\\n  \\\"specific_tags\\\": [\\\"Bomb Threat\\\", \\\"Public Safety\\\"]\\n}\\n\\n\\nHuman: - Input:\\n\\nCourts, schools and hospitals evacuated across Saint Petersberg due to anonymous threats Russian media sources are reporting that courts, schools, and hospitals across Saint Petersberg have been evacuated today due to anonymous threats. It is understood that people have been evacuated from Petrodvorets, Oktyabrsky, Kolpinsky, Petrogradsky, Kuibyshevsky and Sestroretsky district courts. Furthermore, the State University of the Sea and River Fleet, St. Petersburg State University of Railway Engineering, Higher School of Folk Arts, St. Petersburg State University of Telecommunications, and S.M. Military Medical Academy Kirov have all been evacuated. This is the fourth consecutive week of evacuations from public buildings due to such threats. It is not known when the situation will normalise.\\n\\n- Output:\"\n",
    "print(prompt)"
   ]
  },
  {
   "cell_type": "markdown",
   "id": "4c0fe9c1",
   "metadata": {},
   "source": [
    "## Evaluating 12 LLMs: 6 Llama3 + 6 Qwen2.5"
   ]
  },
  {
   "cell_type": "markdown",
   "id": "df963580",
   "metadata": {},
   "source": [
    "### Evaluating Smaller LLMs (<=8B): 3 Llama3 + 4 Qwen2.5"
   ]
  },
  {
   "cell_type": "code",
   "execution_count": 7,
   "id": "b1d2fe99",
   "metadata": {},
   "outputs": [
    {
     "name": "stdout",
     "output_type": "stream",
     "text": [
      "Evaluating model: qwen2.5:0.5b\n",
      "loading train/test data files\n",
      "DatasetDict({\n",
      "    train: Dataset({\n",
      "        features: ['id', 'Headline', 'Details', 'Severity', 'Region', 'Datetime', 'lat', 'lon', 'maritime_label', 'found_ports', 'contains_port_info', 'if_labeled', 'Headline_Details', 'Year', 'Month', 'Week', 'Details_cleaned', 'Category', 'Summarized_label', 'gpt-4o_label'],\n",
      "        num_rows: 4594\n",
      "    })\n",
      "    test: Dataset({\n",
      "        features: ['id', 'Headline', 'Details', 'Severity', 'Region', 'Datetime', 'lat', 'lon', 'maritime_label', 'found_ports', 'contains_port_info', 'if_labeled', 'Headline_Details', 'Year', 'Month', 'Week', 'Details_cleaned', 'Category', 'Summarized_label', 'gpt-4o_label'],\n",
      "        num_rows: 1147\n",
      "    })\n",
      "})\n",
      "* Evaluating with num_shots: 0\n",
      "Generating prompt templates for 0 shots with Headline_Details and Summarized_label\n"
     ]
    },
    {
     "name": "stderr",
     "output_type": "stream",
     "text": [
      "100%|██████████| 1147/1147 [03:37<00:00,  5.28it/s]\n"
     ]
    },
    {
     "name": "stdout",
     "output_type": "stream",
     "text": [
      "*** Execution time for num_shots 0: 217.32 seconds\n",
      "'float' object has no attribute 'size'\n",
      "* Evaluating with num_shots: 1\n",
      "Generating prompt templates for 1 shots with Headline_Details and Summarized_label\n"
     ]
    },
    {
     "name": "stderr",
     "output_type": "stream",
     "text": [
      "100%|██████████| 1147/1147 [03:42<00:00,  5.16it/s]\n"
     ]
    },
    {
     "name": "stdout",
     "output_type": "stream",
     "text": [
      "*** Execution time for num_shots 1: 222.12 seconds\n",
      "'float' object has no attribute 'size'\n",
      "* Evaluating with num_shots: 2\n",
      "Generating prompt templates for 2 shots with Headline_Details and Summarized_label\n"
     ]
    },
    {
     "name": "stderr",
     "output_type": "stream",
     "text": [
      "100%|██████████| 1147/1147 [03:34<00:00,  5.35it/s]\n"
     ]
    },
    {
     "name": "stdout",
     "output_type": "stream",
     "text": [
      "*** Execution time for num_shots 2: 214.35 seconds\n",
      "'float' object has no attribute 'size'\n",
      "* Evaluating with num_shots: 4\n",
      "Generating prompt templates for 4 shots with Headline_Details and Summarized_label\n"
     ]
    },
    {
     "name": "stderr",
     "output_type": "stream",
     "text": [
      "100%|██████████| 1147/1147 [03:44<00:00,  5.10it/s]\n"
     ]
    },
    {
     "name": "stdout",
     "output_type": "stream",
     "text": [
      "*** Execution time for num_shots 4: 224.97 seconds\n",
      "'float' object has no attribute 'size'\n",
      "* Evaluating with num_shots: 8\n",
      "Generating prompt templates for 8 shots with Headline_Details and Summarized_label\n"
     ]
    },
    {
     "name": "stderr",
     "output_type": "stream",
     "text": [
      "100%|██████████| 1147/1147 [03:56<00:00,  4.86it/s]\n"
     ]
    },
    {
     "name": "stdout",
     "output_type": "stream",
     "text": [
      "*** Execution time for num_shots 8: 236.11 seconds\n",
      "'float' object has no attribute 'size'\n",
      "* Evaluating with num_shots: 10\n",
      "Generating prompt templates for 10 shots with Headline_Details and Summarized_label\n"
     ]
    },
    {
     "name": "stderr",
     "output_type": "stream",
     "text": [
      "100%|██████████| 1147/1147 [04:09<00:00,  4.59it/s]\n"
     ]
    },
    {
     "name": "stdout",
     "output_type": "stream",
     "text": [
      "*** Execution time for num_shots 10: 249.95 seconds\n",
      "'float' object has no attribute 'size'\n",
      "CPU times: user 4min 43s, sys: 12.6 s, total: 4min 55s\n",
      "Wall time: 22min 49s\n"
     ]
    }
   ],
   "source": [
    "%%time\n",
    "\n",
    "from llm_toolkit.eval_openai import *\n",
    "\n",
    "evaluate_model_with_num_shots(\n",
    "    \"qwen2.5:0.5b\",\n",
    "    data_path,\n",
    "    results_path=results_path,\n",
    "    ollama=True,\n",
    "    range_num_shots=[0, 1, 2, 4, 8, 10],\n",
    ")"
   ]
  },
  {
   "cell_type": "code",
   "execution_count": 8,
   "id": "271e8202",
   "metadata": {},
   "outputs": [
    {
     "name": "stdout",
     "output_type": "stream",
     "text": [
      "Evaluating model: llama3.2:1b\n",
      "loading train/test data files\n",
      "DatasetDict({\n",
      "    train: Dataset({\n",
      "        features: ['id', 'Headline', 'Details', 'Severity', 'Region', 'Datetime', 'lat', 'lon', 'maritime_label', 'found_ports', 'contains_port_info', 'if_labeled', 'Headline_Details', 'Year', 'Month', 'Week', 'Details_cleaned', 'Category', 'Summarized_label', 'gpt-4o_label'],\n",
      "        num_rows: 4594\n",
      "    })\n",
      "    test: Dataset({\n",
      "        features: ['id', 'Headline', 'Details', 'Severity', 'Region', 'Datetime', 'lat', 'lon', 'maritime_label', 'found_ports', 'contains_port_info', 'if_labeled', 'Headline_Details', 'Year', 'Month', 'Week', 'Details_cleaned', 'Category', 'Summarized_label', 'gpt-4o_label'],\n",
      "        num_rows: 1147\n",
      "    })\n",
      "})\n",
      "* Evaluating with num_shots: 0\n",
      "Generating prompt templates for 0 shots with Headline_Details and Summarized_label\n"
     ]
    },
    {
     "name": "stderr",
     "output_type": "stream",
     "text": [
      "100%|██████████| 1147/1147 [08:37<00:00,  2.22it/s]\n"
     ]
    },
    {
     "name": "stdout",
     "output_type": "stream",
     "text": [
      "*** Execution time for num_shots 0: 517.12 seconds\n",
      "'float' object has no attribute 'size'\n",
      "* Evaluating with num_shots: 1\n",
      "Generating prompt templates for 1 shots with Headline_Details and Summarized_label\n"
     ]
    },
    {
     "name": "stderr",
     "output_type": "stream",
     "text": [
      "100%|██████████| 1147/1147 [09:20<00:00,  2.05it/s]\n"
     ]
    },
    {
     "name": "stdout",
     "output_type": "stream",
     "text": [
      "*** Execution time for num_shots 1: 560.40 seconds\n",
      "'float' object has no attribute 'size'\n",
      "* Evaluating with num_shots: 2\n",
      "Generating prompt templates for 2 shots with Headline_Details and Summarized_label\n"
     ]
    },
    {
     "name": "stderr",
     "output_type": "stream",
     "text": [
      "100%|██████████| 1147/1147 [11:13<00:00,  1.70it/s]\n"
     ]
    },
    {
     "name": "stdout",
     "output_type": "stream",
     "text": [
      "*** Execution time for num_shots 2: 673.91 seconds\n",
      "'float' object has no attribute 'size'\n",
      "* Evaluating with num_shots: 4\n",
      "Generating prompt templates for 4 shots with Headline_Details and Summarized_label\n"
     ]
    },
    {
     "name": "stderr",
     "output_type": "stream",
     "text": [
      "100%|██████████| 1147/1147 [11:13<00:00,  1.70it/s]\n"
     ]
    },
    {
     "name": "stdout",
     "output_type": "stream",
     "text": [
      "*** Execution time for num_shots 4: 673.63 seconds\n",
      "'float' object has no attribute 'size'\n",
      "* Evaluating with num_shots: 8\n",
      "Generating prompt templates for 8 shots with Headline_Details and Summarized_label\n"
     ]
    },
    {
     "name": "stderr",
     "output_type": "stream",
     "text": [
      "100%|██████████| 1147/1147 [10:56<00:00,  1.75it/s]\n"
     ]
    },
    {
     "name": "stdout",
     "output_type": "stream",
     "text": [
      "*** Execution time for num_shots 8: 656.68 seconds\n",
      "'float' object has no attribute 'size'\n",
      "* Evaluating with num_shots: 10\n",
      "Generating prompt templates for 10 shots with Headline_Details and Summarized_label\n"
     ]
    },
    {
     "name": "stderr",
     "output_type": "stream",
     "text": [
      "100%|██████████| 1147/1147 [11:44<00:00,  1.63it/s]\n"
     ]
    },
    {
     "name": "stdout",
     "output_type": "stream",
     "text": [
      "*** Execution time for num_shots 10: 704.34 seconds\n",
      "'float' object has no attribute 'size'\n",
      "CPU times: user 6min 5s, sys: 20.3 s, total: 6min 25s\n",
      "Wall time: 1h 3min 13s\n"
     ]
    }
   ],
   "source": [
    "%%time\n",
    "\n",
    "from llm_toolkit.eval_openai import *\n",
    "\n",
    "evaluate_model_with_num_shots(\n",
    "    \"llama3.2:1b\",\n",
    "    data_path,\n",
    "    results_path=results_path,\n",
    "    ollama=True,\n",
    "    range_num_shots=[0, 1, 2, 4, 8, 10],\n",
    ")"
   ]
  },
  {
   "cell_type": "code",
   "execution_count": 9,
   "id": "5d8b7fa7",
   "metadata": {},
   "outputs": [
    {
     "name": "stdout",
     "output_type": "stream",
     "text": [
      "Evaluating model: qwen2.5:1.5b\n",
      "loading train/test data files\n",
      "DatasetDict({\n",
      "    train: Dataset({\n",
      "        features: ['id', 'Headline', 'Details', 'Severity', 'Region', 'Datetime', 'lat', 'lon', 'maritime_label', 'found_ports', 'contains_port_info', 'if_labeled', 'Headline_Details', 'Year', 'Month', 'Week', 'Details_cleaned', 'Category', 'Summarized_label', 'gpt-4o_label'],\n",
      "        num_rows: 4594\n",
      "    })\n",
      "    test: Dataset({\n",
      "        features: ['id', 'Headline', 'Details', 'Severity', 'Region', 'Datetime', 'lat', 'lon', 'maritime_label', 'found_ports', 'contains_port_info', 'if_labeled', 'Headline_Details', 'Year', 'Month', 'Week', 'Details_cleaned', 'Category', 'Summarized_label', 'gpt-4o_label'],\n",
      "        num_rows: 1147\n",
      "    })\n",
      "})\n",
      "* Evaluating with num_shots: 0\n",
      "Generating prompt templates for 0 shots with Headline_Details and Summarized_label\n"
     ]
    },
    {
     "name": "stderr",
     "output_type": "stream",
     "text": [
      "100%|██████████| 1147/1147 [05:08<00:00,  3.71it/s]\n"
     ]
    },
    {
     "name": "stdout",
     "output_type": "stream",
     "text": [
      "*** Execution time for num_shots 0: 308.82 seconds\n",
      "'float' object has no attribute 'size'\n",
      "* Evaluating with num_shots: 1\n",
      "Generating prompt templates for 1 shots with Headline_Details and Summarized_label\n"
     ]
    },
    {
     "name": "stderr",
     "output_type": "stream",
     "text": [
      "100%|██████████| 1147/1147 [05:31<00:00,  3.46it/s]\n"
     ]
    },
    {
     "name": "stdout",
     "output_type": "stream",
     "text": [
      "*** Execution time for num_shots 1: 331.11 seconds\n",
      "'float' object has no attribute 'size'\n",
      "* Evaluating with num_shots: 2\n",
      "Generating prompt templates for 2 shots with Headline_Details and Summarized_label\n"
     ]
    },
    {
     "name": "stderr",
     "output_type": "stream",
     "text": [
      "100%|██████████| 1147/1147 [05:31<00:00,  3.46it/s]\n"
     ]
    },
    {
     "name": "stdout",
     "output_type": "stream",
     "text": [
      "*** Execution time for num_shots 2: 331.86 seconds\n",
      "'float' object has no attribute 'size'\n",
      "* Evaluating with num_shots: 4\n",
      "Generating prompt templates for 4 shots with Headline_Details and Summarized_label\n"
     ]
    },
    {
     "name": "stderr",
     "output_type": "stream",
     "text": [
      "100%|██████████| 1147/1147 [05:30<00:00,  3.47it/s]\n"
     ]
    },
    {
     "name": "stdout",
     "output_type": "stream",
     "text": [
      "*** Execution time for num_shots 4: 330.78 seconds\n",
      "'float' object has no attribute 'size'\n",
      "* Evaluating with num_shots: 8\n",
      "Generating prompt templates for 8 shots with Headline_Details and Summarized_label\n"
     ]
    },
    {
     "name": "stderr",
     "output_type": "stream",
     "text": [
      "100%|██████████| 1147/1147 [05:43<00:00,  3.34it/s]\n"
     ]
    },
    {
     "name": "stdout",
     "output_type": "stream",
     "text": [
      "*** Execution time for num_shots 8: 343.77 seconds\n",
      "'float' object has no attribute 'size'\n",
      "* Evaluating with num_shots: 10\n",
      "Generating prompt templates for 10 shots with Headline_Details and Summarized_label\n"
     ]
    },
    {
     "name": "stderr",
     "output_type": "stream",
     "text": [
      "100%|██████████| 1147/1147 [05:55<00:00,  3.23it/s]\n"
     ]
    },
    {
     "name": "stdout",
     "output_type": "stream",
     "text": [
      "*** Execution time for num_shots 10: 355.29 seconds\n",
      "'float' object has no attribute 'size'\n",
      "CPU times: user 5min 46s, sys: 13.6 s, total: 6min\n",
      "Wall time: 33min 26s\n"
     ]
    }
   ],
   "source": [
    "%%time\n",
    "\n",
    "from llm_toolkit.eval_openai import *\n",
    "\n",
    "evaluate_model_with_num_shots(\n",
    "    \"qwen2.5:1.5b\",\n",
    "    data_path,\n",
    "    results_path=results_path,\n",
    "    ollama=True,\n",
    "    range_num_shots=[0, 1, 2, 4, 8, 10],\n",
    ")"
   ]
  },
  {
   "cell_type": "code",
   "execution_count": 10,
   "id": "b146dbee",
   "metadata": {},
   "outputs": [
    {
     "name": "stdout",
     "output_type": "stream",
     "text": [
      "Evaluating model: llama3.2:3b\n",
      "loading train/test data files\n",
      "DatasetDict({\n",
      "    train: Dataset({\n",
      "        features: ['id', 'Headline', 'Details', 'Severity', 'Region', 'Datetime', 'lat', 'lon', 'maritime_label', 'found_ports', 'contains_port_info', 'if_labeled', 'Headline_Details', 'Year', 'Month', 'Week', 'Details_cleaned', 'Category', 'Summarized_label', 'gpt-4o_label'],\n",
      "        num_rows: 4594\n",
      "    })\n",
      "    test: Dataset({\n",
      "        features: ['id', 'Headline', 'Details', 'Severity', 'Region', 'Datetime', 'lat', 'lon', 'maritime_label', 'found_ports', 'contains_port_info', 'if_labeled', 'Headline_Details', 'Year', 'Month', 'Week', 'Details_cleaned', 'Category', 'Summarized_label', 'gpt-4o_label'],\n",
      "        num_rows: 1147\n",
      "    })\n",
      "})\n",
      "* Evaluating with num_shots: 0\n",
      "Generating prompt templates for 0 shots with Headline_Details and Summarized_label\n"
     ]
    },
    {
     "name": "stderr",
     "output_type": "stream",
     "text": [
      "100%|██████████| 1147/1147 [10:16<00:00,  1.86it/s]\n"
     ]
    },
    {
     "name": "stdout",
     "output_type": "stream",
     "text": [
      "*** Execution time for num_shots 0: 616.88 seconds\n",
      "category not in json: {}\n",
      "'float' object has no attribute 'size'\n",
      "* Evaluating with num_shots: 1\n",
      "Generating prompt templates for 1 shots with Headline_Details and Summarized_label\n"
     ]
    },
    {
     "name": "stderr",
     "output_type": "stream",
     "text": [
      "100%|██████████| 1147/1147 [09:50<00:00,  1.94it/s]\n"
     ]
    },
    {
     "name": "stdout",
     "output_type": "stream",
     "text": [
      "*** Execution time for num_shots 1: 590.75 seconds\n",
      "'float' object has no attribute 'size'\n",
      "* Evaluating with num_shots: 2\n",
      "Generating prompt templates for 2 shots with Headline_Details and Summarized_label\n"
     ]
    },
    {
     "name": "stderr",
     "output_type": "stream",
     "text": [
      "100%|██████████| 1147/1147 [10:20<00:00,  1.85it/s]\n"
     ]
    },
    {
     "name": "stdout",
     "output_type": "stream",
     "text": [
      "*** Execution time for num_shots 2: 621.00 seconds\n",
      "'float' object has no attribute 'size'\n",
      "* Evaluating with num_shots: 4\n",
      "Generating prompt templates for 4 shots with Headline_Details and Summarized_label\n"
     ]
    },
    {
     "name": "stderr",
     "output_type": "stream",
     "text": [
      "100%|██████████| 1147/1147 [10:12<00:00,  1.87it/s]\n"
     ]
    },
    {
     "name": "stdout",
     "output_type": "stream",
     "text": [
      "*** Execution time for num_shots 4: 612.47 seconds\n",
      "'float' object has no attribute 'size'\n",
      "* Evaluating with num_shots: 8\n",
      "Generating prompt templates for 8 shots with Headline_Details and Summarized_label\n"
     ]
    },
    {
     "name": "stderr",
     "output_type": "stream",
     "text": [
      "100%|██████████| 1147/1147 [10:27<00:00,  1.83it/s]\n"
     ]
    },
    {
     "name": "stdout",
     "output_type": "stream",
     "text": [
      "*** Execution time for num_shots 8: 627.92 seconds\n",
      "'float' object has no attribute 'size'\n",
      "* Evaluating with num_shots: 10\n",
      "Generating prompt templates for 10 shots with Headline_Details and Summarized_label\n"
     ]
    },
    {
     "name": "stderr",
     "output_type": "stream",
     "text": [
      "100%|██████████| 1147/1147 [10:34<00:00,  1.81it/s]\n"
     ]
    },
    {
     "name": "stdout",
     "output_type": "stream",
     "text": [
      "*** Execution time for num_shots 10: 634.15 seconds\n",
      "'float' object has no attribute 'size'\n",
      "CPU times: user 6min 17s, sys: 15.9 s, total: 6min 32s\n",
      "Wall time: 1h 1min 47s\n"
     ]
    }
   ],
   "source": [
    "%%time\n",
    "\n",
    "from llm_toolkit.eval_openai import *\n",
    "\n",
    "evaluate_model_with_num_shots(\n",
    "    \"llama3.2:3b\",\n",
    "    data_path,\n",
    "    results_path=results_path,\n",
    "    ollama=True,\n",
    "    range_num_shots=[0, 1, 2, 4, 8, 10],\n",
    ")"
   ]
  },
  {
   "cell_type": "code",
   "execution_count": 24,
   "id": "a1542c79",
   "metadata": {},
   "outputs": [
    {
     "name": "stdout",
     "output_type": "stream",
     "text": [
      "loading /Users/inflaton/code/papers/maritime-incidents-ai-agents/llm_toolkit/data_utils.py\n",
      "Evaluating model: qwen2.5:3b\n",
      "loading train/test data files\n",
      "DatasetDict({\n",
      "    train: Dataset({\n",
      "        features: ['id', 'Headline', 'Details', 'Severity', 'Region', 'Datetime', 'lat', 'lon', 'maritime_label', 'found_ports', 'contains_port_info', 'if_labeled', 'Headline_Details', 'Year', 'Month', 'Week', 'Details_cleaned', 'Category', 'Summarized_label', 'gpt-4o_label'],\n",
      "        num_rows: 4594\n",
      "    })\n",
      "    test: Dataset({\n",
      "        features: ['id', 'Headline', 'Details', 'Severity', 'Region', 'Datetime', 'lat', 'lon', 'maritime_label', 'found_ports', 'contains_port_info', 'if_labeled', 'Headline_Details', 'Year', 'Month', 'Week', 'Details_cleaned', 'Category', 'Summarized_label', 'gpt-4o_label'],\n",
      "        num_rows: 1147\n",
      "    })\n",
      "})\n",
      "* Evaluating with num_shots: 0\n",
      "Generating prompt templates for 0 shots with Headline_Details and Summarized_label\n"
     ]
    },
    {
     "name": "stderr",
     "output_type": "stream",
     "text": [
      "100%|██████████| 1147/1147 [08:52<00:00,  2.15it/s]\n"
     ]
    },
    {
     "name": "stdout",
     "output_type": "stream",
     "text": [
      "*** Execution time for num_shots 0: 532.29 seconds\n",
      "'float' object has no attribute 'size'\n",
      "* Evaluating with num_shots: 1\n",
      "Generating prompt templates for 1 shots with Headline_Details and Summarized_label\n"
     ]
    },
    {
     "name": "stderr",
     "output_type": "stream",
     "text": [
      "100%|██████████| 1147/1147 [08:42<00:00,  2.19it/s]\n"
     ]
    },
    {
     "name": "stdout",
     "output_type": "stream",
     "text": [
      "*** Execution time for num_shots 1: 523.00 seconds\n",
      "'float' object has no attribute 'size'\n",
      "* Evaluating with num_shots: 2\n",
      "Generating prompt templates for 2 shots with Headline_Details and Summarized_label\n"
     ]
    },
    {
     "name": "stderr",
     "output_type": "stream",
     "text": [
      "100%|██████████| 1147/1147 [08:51<00:00,  2.16it/s]\n"
     ]
    },
    {
     "name": "stdout",
     "output_type": "stream",
     "text": [
      "*** Execution time for num_shots 2: 531.95 seconds\n",
      "'float' object has no attribute 'size'\n",
      "* Evaluating with num_shots: 4\n",
      "Generating prompt templates for 4 shots with Headline_Details and Summarized_label\n"
     ]
    },
    {
     "name": "stderr",
     "output_type": "stream",
     "text": [
      "100%|██████████| 1147/1147 [09:03<00:00,  2.11it/s]\n"
     ]
    },
    {
     "name": "stdout",
     "output_type": "stream",
     "text": [
      "*** Execution time for num_shots 4: 543.26 seconds\n",
      "'float' object has no attribute 'size'\n",
      "* Evaluating with num_shots: 8\n",
      "Generating prompt templates for 8 shots with Headline_Details and Summarized_label\n"
     ]
    },
    {
     "name": "stderr",
     "output_type": "stream",
     "text": [
      "100%|██████████| 1147/1147 [09:18<00:00,  2.05it/s]\n"
     ]
    },
    {
     "name": "stdout",
     "output_type": "stream",
     "text": [
      "*** Execution time for num_shots 8: 558.89 seconds\n",
      "'float' object has no attribute 'size'\n",
      "* Evaluating with num_shots: 10\n",
      "Generating prompt templates for 10 shots with Headline_Details and Summarized_label\n"
     ]
    },
    {
     "name": "stderr",
     "output_type": "stream",
     "text": [
      "100%|██████████| 1147/1147 [09:34<00:00,  2.00it/s]\n"
     ]
    },
    {
     "name": "stdout",
     "output_type": "stream",
     "text": [
      "*** Execution time for num_shots 10: 574.13 seconds\n",
      "'float' object has no attribute 'size'\n",
      "CPU times: user 6min 15s, sys: 16.1 s, total: 6min 31s\n",
      "Wall time: 54min 31s\n"
     ]
    }
   ],
   "source": [
    "%%time\n",
    "\n",
    "from llm_toolkit.eval_openai import *\n",
    "\n",
    "evaluate_model_with_num_shots(\n",
    "    \"qwen2.5:3b\",\n",
    "    data_path,\n",
    "    results_path=results_path,\n",
    "    ollama=True,\n",
    "    range_num_shots=[0, 1, 2, 4, 8, 10],\n",
    ")"
   ]
  },
  {
   "cell_type": "code",
   "execution_count": 11,
   "id": "5de2dea5",
   "metadata": {},
   "outputs": [
    {
     "name": "stdout",
     "output_type": "stream",
     "text": [
      "Evaluating model: qwen2.5:7b\n",
      "loading train/test data files\n",
      "DatasetDict({\n",
      "    train: Dataset({\n",
      "        features: ['id', 'Headline', 'Details', 'Severity', 'Region', 'Datetime', 'lat', 'lon', 'maritime_label', 'found_ports', 'contains_port_info', 'if_labeled', 'Headline_Details', 'Year', 'Month', 'Week', 'Details_cleaned', 'Category', 'Summarized_label', 'gpt-4o_label'],\n",
      "        num_rows: 4594\n",
      "    })\n",
      "    test: Dataset({\n",
      "        features: ['id', 'Headline', 'Details', 'Severity', 'Region', 'Datetime', 'lat', 'lon', 'maritime_label', 'found_ports', 'contains_port_info', 'if_labeled', 'Headline_Details', 'Year', 'Month', 'Week', 'Details_cleaned', 'Category', 'Summarized_label', 'gpt-4o_label'],\n",
      "        num_rows: 1147\n",
      "    })\n",
      "})\n",
      "* Evaluating with num_shots: 0\n",
      "Generating prompt templates for 0 shots with Headline_Details and Summarized_label\n"
     ]
    },
    {
     "name": "stderr",
     "output_type": "stream",
     "text": [
      "100%|██████████| 1147/1147 [18:00<00:00,  1.06it/s]\n"
     ]
    },
    {
     "name": "stdout",
     "output_type": "stream",
     "text": [
      "*** Execution time for num_shots 0: 1080.31 seconds\n",
      "'float' object has no attribute 'size'\n",
      "* Evaluating with num_shots: 1\n",
      "Generating prompt templates for 1 shots with Headline_Details and Summarized_label\n"
     ]
    },
    {
     "name": "stderr",
     "output_type": "stream",
     "text": [
      "100%|██████████| 1147/1147 [17:03<00:00,  1.12it/s]\n"
     ]
    },
    {
     "name": "stdout",
     "output_type": "stream",
     "text": [
      "*** Execution time for num_shots 1: 1023.36 seconds\n",
      "'float' object has no attribute 'size'\n",
      "* Evaluating with num_shots: 2\n",
      "Generating prompt templates for 2 shots with Headline_Details and Summarized_label\n"
     ]
    },
    {
     "name": "stderr",
     "output_type": "stream",
     "text": [
      "100%|██████████| 1147/1147 [18:00<00:00,  1.06it/s]\n"
     ]
    },
    {
     "name": "stdout",
     "output_type": "stream",
     "text": [
      "*** Execution time for num_shots 2: 1080.77 seconds\n",
      "'float' object has no attribute 'size'\n",
      "* Evaluating with num_shots: 4\n",
      "Generating prompt templates for 4 shots with Headline_Details and Summarized_label\n"
     ]
    },
    {
     "name": "stderr",
     "output_type": "stream",
     "text": [
      "100%|██████████| 1147/1147 [18:23<00:00,  1.04it/s]\n"
     ]
    },
    {
     "name": "stdout",
     "output_type": "stream",
     "text": [
      "*** Execution time for num_shots 4: 1103.48 seconds\n",
      "'float' object has no attribute 'size'\n",
      "* Evaluating with num_shots: 8\n",
      "Generating prompt templates for 8 shots with Headline_Details and Summarized_label\n"
     ]
    },
    {
     "name": "stderr",
     "output_type": "stream",
     "text": [
      "100%|██████████| 1147/1147 [19:20<00:00,  1.01s/it]\n"
     ]
    },
    {
     "name": "stdout",
     "output_type": "stream",
     "text": [
      "*** Execution time for num_shots 8: 1160.39 seconds\n",
      "'float' object has no attribute 'size'\n",
      "* Evaluating with num_shots: 10\n",
      "Generating prompt templates for 10 shots with Headline_Details and Summarized_label\n"
     ]
    },
    {
     "name": "stderr",
     "output_type": "stream",
     "text": [
      "100%|██████████| 1147/1147 [19:41<00:00,  1.03s/it]\n"
     ]
    },
    {
     "name": "stdout",
     "output_type": "stream",
     "text": [
      "*** Execution time for num_shots 10: 1181.05 seconds\n",
      "'float' object has no attribute 'size'\n",
      "CPU times: user 6min 24s, sys: 15.3 s, total: 6min 39s\n",
      "Wall time: 1h 50min 33s\n"
     ]
    }
   ],
   "source": [
    "%%time\n",
    "\n",
    "from llm_toolkit.eval_openai import *\n",
    "\n",
    "evaluate_model_with_num_shots(\n",
    "    \"qwen2.5:7b\",\n",
    "    data_path,\n",
    "    results_path=results_path,\n",
    "    ollama=True,\n",
    "    range_num_shots=[0, 1, 2, 4, 8, 10],\n",
    ")"
   ]
  },
  {
   "cell_type": "code",
   "execution_count": 12,
   "id": "511407b7",
   "metadata": {},
   "outputs": [
    {
     "name": "stdout",
     "output_type": "stream",
     "text": [
      "Evaluating model: llama3.1:8b\n",
      "loading train/test data files\n",
      "DatasetDict({\n",
      "    train: Dataset({\n",
      "        features: ['id', 'Headline', 'Details', 'Severity', 'Region', 'Datetime', 'lat', 'lon', 'maritime_label', 'found_ports', 'contains_port_info', 'if_labeled', 'Headline_Details', 'Year', 'Month', 'Week', 'Details_cleaned', 'Category', 'Summarized_label', 'gpt-4o_label'],\n",
      "        num_rows: 4594\n",
      "    })\n",
      "    test: Dataset({\n",
      "        features: ['id', 'Headline', 'Details', 'Severity', 'Region', 'Datetime', 'lat', 'lon', 'maritime_label', 'found_ports', 'contains_port_info', 'if_labeled', 'Headline_Details', 'Year', 'Month', 'Week', 'Details_cleaned', 'Category', 'Summarized_label', 'gpt-4o_label'],\n",
      "        num_rows: 1147\n",
      "    })\n",
      "})\n",
      "* Evaluating with num_shots: 0\n",
      "Generating prompt templates for 0 shots with Headline_Details and Summarized_label\n"
     ]
    },
    {
     "name": "stderr",
     "output_type": "stream",
     "text": [
      "100%|██████████| 1147/1147 [18:41<00:00,  1.02it/s]\n"
     ]
    },
    {
     "name": "stdout",
     "output_type": "stream",
     "text": [
      "*** Execution time for num_shots 0: 1121.91 seconds\n",
      "'float' object has no attribute 'size'\n",
      "* Evaluating with num_shots: 1\n",
      "Generating prompt templates for 1 shots with Headline_Details and Summarized_label\n"
     ]
    },
    {
     "name": "stderr",
     "output_type": "stream",
     "text": [
      "100%|██████████| 1147/1147 [16:23<00:00,  1.17it/s]\n"
     ]
    },
    {
     "name": "stdout",
     "output_type": "stream",
     "text": [
      "*** Execution time for num_shots 1: 983.44 seconds\n",
      "'float' object has no attribute 'size'\n",
      "* Evaluating with num_shots: 2\n",
      "Generating prompt templates for 2 shots with Headline_Details and Summarized_label\n"
     ]
    },
    {
     "name": "stderr",
     "output_type": "stream",
     "text": [
      "100%|██████████| 1147/1147 [16:56<00:00,  1.13it/s]\n"
     ]
    },
    {
     "name": "stdout",
     "output_type": "stream",
     "text": [
      "*** Execution time for num_shots 2: 1016.40 seconds\n",
      "'float' object has no attribute 'size'\n",
      "* Evaluating with num_shots: 4\n",
      "Generating prompt templates for 4 shots with Headline_Details and Summarized_label\n"
     ]
    },
    {
     "name": "stderr",
     "output_type": "stream",
     "text": [
      "100%|██████████| 1147/1147 [17:03<00:00,  1.12it/s]\n"
     ]
    },
    {
     "name": "stdout",
     "output_type": "stream",
     "text": [
      "*** Execution time for num_shots 4: 1023.60 seconds\n",
      "'float' object has no attribute 'size'\n",
      "* Evaluating with num_shots: 8\n",
      "Generating prompt templates for 8 shots with Headline_Details and Summarized_label\n"
     ]
    },
    {
     "name": "stderr",
     "output_type": "stream",
     "text": [
      "100%|██████████| 1147/1147 [17:24<00:00,  1.10it/s]\n"
     ]
    },
    {
     "name": "stdout",
     "output_type": "stream",
     "text": [
      "*** Execution time for num_shots 8: 1044.12 seconds\n",
      "'float' object has no attribute 'size'\n",
      "* Evaluating with num_shots: 10\n",
      "Generating prompt templates for 10 shots with Headline_Details and Summarized_label\n"
     ]
    },
    {
     "name": "stderr",
     "output_type": "stream",
     "text": [
      "100%|██████████| 1147/1147 [17:36<00:00,  1.09it/s]\n"
     ]
    },
    {
     "name": "stdout",
     "output_type": "stream",
     "text": [
      "*** Execution time for num_shots 10: 1056.64 seconds\n",
      "'float' object has no attribute 'size'\n",
      "CPU times: user 6min 24s, sys: 15.8 s, total: 6min 40s\n",
      "Wall time: 1h 44min 10s\n"
     ]
    }
   ],
   "source": [
    "%%time\n",
    "\n",
    "from llm_toolkit.eval_openai import *\n",
    "\n",
    "evaluate_model_with_num_shots(\n",
    "    \"llama3.1:8b\",\n",
    "    data_path,\n",
    "    results_path=results_path,\n",
    "    ollama=True,\n",
    "    range_num_shots=[0, 1, 2, 4, 8, 10],\n",
    ")"
   ]
  },
  {
   "cell_type": "markdown",
   "id": "8887acae",
   "metadata": {},
   "source": [
    "### Evaluating Bigger LLMs (>=11B): 3 Llama3 + 2 Qwen2.5"
   ]
  },
  {
   "cell_type": "code",
   "execution_count": 13,
   "id": "ebffac00",
   "metadata": {},
   "outputs": [
    {
     "name": "stdout",
     "output_type": "stream",
     "text": [
      "Evaluating model: llama3.2-vision:11b\n",
      "loading train/test data files\n",
      "DatasetDict({\n",
      "    train: Dataset({\n",
      "        features: ['id', 'Headline', 'Details', 'Severity', 'Region', 'Datetime', 'lat', 'lon', 'maritime_label', 'found_ports', 'contains_port_info', 'if_labeled', 'Headline_Details', 'Year', 'Month', 'Week', 'Details_cleaned', 'Category', 'Summarized_label', 'gpt-4o_label'],\n",
      "        num_rows: 4594\n",
      "    })\n",
      "    test: Dataset({\n",
      "        features: ['id', 'Headline', 'Details', 'Severity', 'Region', 'Datetime', 'lat', 'lon', 'maritime_label', 'found_ports', 'contains_port_info', 'if_labeled', 'Headline_Details', 'Year', 'Month', 'Week', 'Details_cleaned', 'Category', 'Summarized_label', 'gpt-4o_label'],\n",
      "        num_rows: 1147\n",
      "    })\n",
      "})\n",
      "* Evaluating with num_shots: 0\n",
      "Generating prompt templates for 0 shots with Headline_Details and Summarized_label\n"
     ]
    },
    {
     "name": "stderr",
     "output_type": "stream",
     "text": [
      "100%|██████████| 1147/1147 [18:40<00:00,  1.02it/s]\n"
     ]
    },
    {
     "name": "stdout",
     "output_type": "stream",
     "text": [
      "*** Execution time for num_shots 0: 1120.07 seconds\n",
      "'float' object has no attribute 'size'\n",
      "* Evaluating with num_shots: 1\n",
      "Generating prompt templates for 1 shots with Headline_Details and Summarized_label\n"
     ]
    },
    {
     "name": "stderr",
     "output_type": "stream",
     "text": [
      "100%|██████████| 1147/1147 [16:19<00:00,  1.17it/s]\n"
     ]
    },
    {
     "name": "stdout",
     "output_type": "stream",
     "text": [
      "*** Execution time for num_shots 1: 979.91 seconds\n",
      "'float' object has no attribute 'size'\n",
      "* Evaluating with num_shots: 2\n",
      "Generating prompt templates for 2 shots with Headline_Details and Summarized_label\n"
     ]
    },
    {
     "name": "stderr",
     "output_type": "stream",
     "text": [
      "100%|██████████| 1147/1147 [16:32<00:00,  1.16it/s]\n"
     ]
    },
    {
     "name": "stdout",
     "output_type": "stream",
     "text": [
      "*** Execution time for num_shots 2: 992.37 seconds\n",
      "'float' object has no attribute 'size'\n",
      "* Evaluating with num_shots: 4\n",
      "Generating prompt templates for 4 shots with Headline_Details and Summarized_label\n"
     ]
    },
    {
     "name": "stderr",
     "output_type": "stream",
     "text": [
      "100%|██████████| 1147/1147 [16:00<00:00,  1.19it/s]\n"
     ]
    },
    {
     "name": "stdout",
     "output_type": "stream",
     "text": [
      "*** Execution time for num_shots 4: 960.12 seconds\n",
      "'float' object has no attribute 'size'\n",
      "* Evaluating with num_shots: 8\n",
      "Generating prompt templates for 8 shots with Headline_Details and Summarized_label\n"
     ]
    },
    {
     "name": "stderr",
     "output_type": "stream",
     "text": [
      "100%|██████████| 1147/1147 [16:09<00:00,  1.18it/s]\n"
     ]
    },
    {
     "name": "stdout",
     "output_type": "stream",
     "text": [
      "*** Execution time for num_shots 8: 969.08 seconds\n",
      "'float' object has no attribute 'size'\n",
      "* Evaluating with num_shots: 10\n",
      "Generating prompt templates for 10 shots with Headline_Details and Summarized_label\n"
     ]
    },
    {
     "name": "stderr",
     "output_type": "stream",
     "text": [
      "100%|██████████| 1147/1147 [17:40<00:00,  1.08it/s]\n"
     ]
    },
    {
     "name": "stdout",
     "output_type": "stream",
     "text": [
      "*** Execution time for num_shots 10: 1060.18 seconds\n",
      "'float' object has no attribute 'size'\n",
      "CPU times: user 6min 32s, sys: 18.4 s, total: 6min 50s\n",
      "Wall time: 1h 41min 26s\n"
     ]
    }
   ],
   "source": [
    "%%time\n",
    "\n",
    "from llm_toolkit.eval_openai import *\n",
    "\n",
    "evaluate_model_with_num_shots(\n",
    "    \"llama3.2-vision:11b\",\n",
    "    data_path,\n",
    "    results_path=results_path,\n",
    "    ollama=True,\n",
    "    range_num_shots=[0, 1, 2, 4, 8, 10],\n",
    ")"
   ]
  },
  {
   "cell_type": "code",
   "execution_count": 14,
   "id": "ce521bb8",
   "metadata": {},
   "outputs": [
    {
     "name": "stdout",
     "output_type": "stream",
     "text": [
      "Evaluating model: qwen2.5:14b\n",
      "loading train/test data files\n",
      "DatasetDict({\n",
      "    train: Dataset({\n",
      "        features: ['id', 'Headline', 'Details', 'Severity', 'Region', 'Datetime', 'lat', 'lon', 'maritime_label', 'found_ports', 'contains_port_info', 'if_labeled', 'Headline_Details', 'Year', 'Month', 'Week', 'Details_cleaned', 'Category', 'Summarized_label', 'gpt-4o_label'],\n",
      "        num_rows: 4594\n",
      "    })\n",
      "    test: Dataset({\n",
      "        features: ['id', 'Headline', 'Details', 'Severity', 'Region', 'Datetime', 'lat', 'lon', 'maritime_label', 'found_ports', 'contains_port_info', 'if_labeled', 'Headline_Details', 'Year', 'Month', 'Week', 'Details_cleaned', 'Category', 'Summarized_label', 'gpt-4o_label'],\n",
      "        num_rows: 1147\n",
      "    })\n",
      "})\n",
      "* Evaluating with num_shots: 0\n",
      "Generating prompt templates for 0 shots with Headline_Details and Summarized_label\n"
     ]
    },
    {
     "name": "stderr",
     "output_type": "stream",
     "text": [
      "100%|██████████| 1147/1147 [34:55<00:00,  1.83s/it] \n"
     ]
    },
    {
     "name": "stdout",
     "output_type": "stream",
     "text": [
      "*** Execution time for num_shots 0: 2095.02 seconds\n",
      "'float' object has no attribute 'size'\n",
      "* Evaluating with num_shots: 1\n",
      "Generating prompt templates for 1 shots with Headline_Details and Summarized_label\n"
     ]
    },
    {
     "name": "stderr",
     "output_type": "stream",
     "text": [
      "100%|██████████| 1147/1147 [34:30<00:00,  1.81s/it] \n"
     ]
    },
    {
     "name": "stdout",
     "output_type": "stream",
     "text": [
      "*** Execution time for num_shots 1: 2070.40 seconds\n",
      "'float' object has no attribute 'size'\n",
      "* Evaluating with num_shots: 2\n",
      "Generating prompt templates for 2 shots with Headline_Details and Summarized_label\n"
     ]
    },
    {
     "name": "stderr",
     "output_type": "stream",
     "text": [
      "100%|██████████| 1147/1147 [34:41<00:00,  1.81s/it] \n"
     ]
    },
    {
     "name": "stdout",
     "output_type": "stream",
     "text": [
      "*** Execution time for num_shots 2: 2081.53 seconds\n",
      "'float' object has no attribute 'size'\n",
      "* Evaluating with num_shots: 4\n",
      "Generating prompt templates for 4 shots with Headline_Details and Summarized_label\n"
     ]
    },
    {
     "name": "stderr",
     "output_type": "stream",
     "text": [
      "100%|██████████| 1147/1147 [35:36<00:00,  1.86s/it] \n"
     ]
    },
    {
     "name": "stdout",
     "output_type": "stream",
     "text": [
      "*** Execution time for num_shots 4: 2136.65 seconds\n",
      "'float' object has no attribute 'size'\n",
      "* Evaluating with num_shots: 8\n",
      "Generating prompt templates for 8 shots with Headline_Details and Summarized_label\n"
     ]
    },
    {
     "name": "stderr",
     "output_type": "stream",
     "text": [
      "100%|██████████| 1147/1147 [37:36<00:00,  1.97s/it] \n"
     ]
    },
    {
     "name": "stdout",
     "output_type": "stream",
     "text": [
      "*** Execution time for num_shots 8: 2256.40 seconds\n",
      "'float' object has no attribute 'size'\n",
      "* Evaluating with num_shots: 10\n",
      "Generating prompt templates for 10 shots with Headline_Details and Summarized_label\n"
     ]
    },
    {
     "name": "stderr",
     "output_type": "stream",
     "text": [
      "100%|██████████| 1147/1147 [38:54<00:00,  2.04s/it] \n"
     ]
    },
    {
     "name": "stdout",
     "output_type": "stream",
     "text": [
      "*** Execution time for num_shots 10: 2334.58 seconds\n",
      "'float' object has no attribute 'size'\n",
      "CPU times: user 6min 36s, sys: 16.6 s, total: 6min 53s\n",
      "Wall time: 3h 36min 19s\n"
     ]
    }
   ],
   "source": [
    "%%time\n",
    "\n",
    "evaluate_model_with_num_shots(\n",
    "    \"qwen2.5:14b\",\n",
    "    data_path,\n",
    "    results_path=results_path,\n",
    "    ollama=True,\n",
    "    range_num_shots=[0, 1, 2, 4, 8, 10],\n",
    ")"
   ]
  },
  {
   "cell_type": "code",
   "execution_count": 15,
   "id": "cf2fccd1",
   "metadata": {},
   "outputs": [
    {
     "name": "stdout",
     "output_type": "stream",
     "text": [
      "Evaluating model: qwen2.5:32b\n",
      "loading train/test data files\n",
      "DatasetDict({\n",
      "    train: Dataset({\n",
      "        features: ['id', 'Headline', 'Details', 'Severity', 'Region', 'Datetime', 'lat', 'lon', 'maritime_label', 'found_ports', 'contains_port_info', 'if_labeled', 'Headline_Details', 'Year', 'Month', 'Week', 'Details_cleaned', 'Category', 'Summarized_label', 'gpt-4o_label'],\n",
      "        num_rows: 4594\n",
      "    })\n",
      "    test: Dataset({\n",
      "        features: ['id', 'Headline', 'Details', 'Severity', 'Region', 'Datetime', 'lat', 'lon', 'maritime_label', 'found_ports', 'contains_port_info', 'if_labeled', 'Headline_Details', 'Year', 'Month', 'Week', 'Details_cleaned', 'Category', 'Summarized_label', 'gpt-4o_label'],\n",
      "        num_rows: 1147\n",
      "    })\n",
      "})\n",
      "* Evaluating with num_shots: 0\n",
      "Generating prompt templates for 0 shots with Headline_Details and Summarized_label\n"
     ]
    },
    {
     "name": "stderr",
     "output_type": "stream",
     "text": [
      "100%|██████████| 1147/1147 [9:22:32<00:00, 29.43s/it]    \n"
     ]
    },
    {
     "name": "stdout",
     "output_type": "stream",
     "text": [
      "*** Execution time for num_shots 0: 33752.17 seconds\n",
      "'float' object has no attribute 'size'\n",
      "* Evaluating with num_shots: 1\n",
      "Generating prompt templates for 1 shots with Headline_Details and Summarized_label\n"
     ]
    },
    {
     "name": "stderr",
     "output_type": "stream",
     "text": [
      "100%|██████████| 1147/1147 [1:41:59<00:00,  5.34s/it] \n"
     ]
    },
    {
     "name": "stdout",
     "output_type": "stream",
     "text": [
      "*** Execution time for num_shots 1: 6119.69 seconds\n",
      "'float' object has no attribute 'size'\n",
      "* Evaluating with num_shots: 2\n",
      "Generating prompt templates for 2 shots with Headline_Details and Summarized_label\n"
     ]
    },
    {
     "name": "stderr",
     "output_type": "stream",
     "text": [
      "100%|██████████| 1147/1147 [1:13:01<00:00,  3.82s/it]\n"
     ]
    },
    {
     "name": "stdout",
     "output_type": "stream",
     "text": [
      "*** Execution time for num_shots 2: 4381.54 seconds\n",
      "'float' object has no attribute 'size'\n",
      "* Evaluating with num_shots: 4\n",
      "Generating prompt templates for 4 shots with Headline_Details and Summarized_label\n"
     ]
    },
    {
     "name": "stderr",
     "output_type": "stream",
     "text": [
      "100%|██████████| 1147/1147 [8:45:21<00:00, 27.48s/it]    \n"
     ]
    },
    {
     "name": "stdout",
     "output_type": "stream",
     "text": [
      "*** Execution time for num_shots 4: 31521.06 seconds\n",
      "'float' object has no attribute 'size'\n",
      "* Evaluating with num_shots: 8\n",
      "Generating prompt templates for 8 shots with Headline_Details and Summarized_label\n"
     ]
    },
    {
     "name": "stderr",
     "output_type": "stream",
     "text": [
      "100%|██████████| 1147/1147 [4:08:24<00:00, 12.99s/it]   \n"
     ]
    },
    {
     "name": "stdout",
     "output_type": "stream",
     "text": [
      "*** Execution time for num_shots 8: 14904.96 seconds\n",
      "'float' object has no attribute 'size'\n",
      "* Evaluating with num_shots: 10\n",
      "Generating prompt templates for 10 shots with Headline_Details and Summarized_label\n"
     ]
    },
    {
     "name": "stderr",
     "output_type": "stream",
     "text": [
      "100%|██████████| 1147/1147 [1:58:36<00:00,  6.20s/it] \n"
     ]
    },
    {
     "name": "stdout",
     "output_type": "stream",
     "text": [
      "*** Execution time for num_shots 10: 7116.68 seconds\n",
      "'float' object has no attribute 'size'\n",
      "CPU times: user 6min 59s, sys: 21.1 s, total: 7min 20s\n",
      "Wall time: 1d 3h 10min\n"
     ]
    }
   ],
   "source": [
    "%%time\n",
    "\n",
    "evaluate_model_with_num_shots(\n",
    "    \"qwen2.5:32b\",\n",
    "    data_path,\n",
    "    results_path=results_path,\n",
    "    ollama=True,\n",
    "    range_num_shots=[0, 1, 2, 4, 8, 10],\n",
    ")"
   ]
  },
  {
   "cell_type": "code",
   "execution_count": 16,
   "id": "df1a69c0",
   "metadata": {},
   "outputs": [
    {
     "name": "stdout",
     "output_type": "stream",
     "text": [
      "loading /Users/inflaton/code/papers/maritime-incidents-ai-agents/llm_toolkit/data_utils.py\n",
      "Evaluating model: llama3.1:70b\n",
      "loading train/test data files\n",
      "DatasetDict({\n",
      "    train: Dataset({\n",
      "        features: ['id', 'Headline', 'Details', 'Severity', 'Region', 'Datetime', 'lat', 'lon', 'maritime_label', 'found_ports', 'contains_port_info', 'if_labeled', 'Headline_Details', 'Year', 'Month', 'Week', 'Details_cleaned', 'Category', 'Summarized_label', 'gpt-4o_label'],\n",
      "        num_rows: 4594\n",
      "    })\n",
      "    test: Dataset({\n",
      "        features: ['id', 'Headline', 'Details', 'Severity', 'Region', 'Datetime', 'lat', 'lon', 'maritime_label', 'found_ports', 'contains_port_info', 'if_labeled', 'Headline_Details', 'Year', 'Month', 'Week', 'Details_cleaned', 'Category', 'Summarized_label', 'gpt-4o_label'],\n",
      "        num_rows: 1147\n",
      "    })\n",
      "})\n",
      "* Evaluating with num_shots: 0\n",
      "Generating prompt templates for 0 shots with Headline_Details and Summarized_label\n"
     ]
    },
    {
     "name": "stderr",
     "output_type": "stream",
     "text": [
      "  0%|          | 1/1147 [1:23:06<1587:22:39, 4986.53s/it]\n"
     ]
    },
    {
     "ename": "KeyboardInterrupt",
     "evalue": "",
     "output_type": "error",
     "traceback": [
      "\u001b[0;31m---------------------------------------------------------------------------\u001b[0m",
      "\u001b[0;31mKeyboardInterrupt\u001b[0m                         Traceback (most recent call last)",
      "File \u001b[0;32m<timed eval>:1\u001b[0m\n",
      "File \u001b[0;32m~/code/papers/maritime-incidents-ai-agents/llm_toolkit/eval_openai.py:49\u001b[0m, in \u001b[0;36mevaluate_model_with_num_shots\u001b[0;34m(model_name, data_path, results_path, range_num_shots, max_entries, input_column, output_column, result_column_name, cerebras, ollama, debug)\u001b[0m\n\u001b[1;32m     43\u001b[0m system_prompt, user_prompt \u001b[38;5;241m=\u001b[39m get_prompt_templates(\n\u001b[1;32m     44\u001b[0m     datasets[\u001b[38;5;124m\"\u001b[39m\u001b[38;5;124mtrain\u001b[39m\u001b[38;5;124m\"\u001b[39m], num_shots\u001b[38;5;241m=\u001b[39mnum_shots, input_column\u001b[38;5;241m=\u001b[39minput_column\n\u001b[1;32m     45\u001b[0m )\n\u001b[1;32m     47\u001b[0m start_time \u001b[38;5;241m=\u001b[39m time\u001b[38;5;241m.\u001b[39mtime()  \u001b[38;5;66;03m# Start time\u001b[39;00m\n\u001b[0;32m---> 49\u001b[0m predictions \u001b[38;5;241m=\u001b[39m \u001b[43meval_dataset_using_openai\u001b[49m\u001b[43m(\u001b[49m\n\u001b[1;32m     50\u001b[0m \u001b[43m    \u001b[49m\u001b[43msystem_prompt\u001b[49m\u001b[43m,\u001b[49m\n\u001b[1;32m     51\u001b[0m \u001b[43m    \u001b[49m\u001b[43muser_prompt\u001b[49m\u001b[43m,\u001b[49m\n\u001b[1;32m     52\u001b[0m \u001b[43m    \u001b[49m\u001b[43mdatasets\u001b[49m\u001b[43m[\u001b[49m\u001b[38;5;124;43m\"\u001b[39;49m\u001b[38;5;124;43mtest\u001b[39;49m\u001b[38;5;124;43m\"\u001b[39;49m\u001b[43m]\u001b[49m\u001b[43m,\u001b[49m\n\u001b[1;32m     53\u001b[0m \u001b[43m    \u001b[49m\u001b[43minput_column\u001b[49m\u001b[43m,\u001b[49m\n\u001b[1;32m     54\u001b[0m \u001b[43m    \u001b[49m\u001b[43mmodel\u001b[49m\u001b[38;5;241;43m=\u001b[39;49m\u001b[43mmodel_name\u001b[49m\u001b[43m,\u001b[49m\n\u001b[1;32m     55\u001b[0m \u001b[43m    \u001b[49m\u001b[43mbase_url\u001b[49m\u001b[38;5;241;43m=\u001b[39;49m\u001b[43m(\u001b[49m\n\u001b[1;32m     56\u001b[0m \u001b[43m        \u001b[49m\u001b[38;5;124;43m\"\u001b[39;49m\u001b[38;5;124;43mhttps://api.cerebras.ai/v1\u001b[39;49m\u001b[38;5;124;43m\"\u001b[39;49m\n\u001b[1;32m     57\u001b[0m \u001b[43m        \u001b[49m\u001b[38;5;28;43;01mif\u001b[39;49;00m\u001b[43m \u001b[49m\u001b[43mcerebras\u001b[49m\n\u001b[1;32m     58\u001b[0m \u001b[43m        \u001b[49m\u001b[38;5;28;43;01melse\u001b[39;49;00m\u001b[43m \u001b[49m\u001b[38;5;124;43m\"\u001b[39;49m\u001b[38;5;124;43mhttp://localhost:11434\u001b[39;49m\u001b[38;5;124;43m\"\u001b[39;49m\u001b[43m \u001b[49m\u001b[38;5;28;43;01mif\u001b[39;49;00m\u001b[43m \u001b[49m\u001b[43mollama\u001b[49m\u001b[43m \u001b[49m\u001b[38;5;28;43;01melse\u001b[39;49;00m\u001b[43m \u001b[49m\u001b[38;5;28;43;01mNone\u001b[39;49;00m\n\u001b[1;32m     59\u001b[0m \u001b[43m    \u001b[49m\u001b[43m)\u001b[49m\u001b[43m,\u001b[49m\n\u001b[1;32m     60\u001b[0m \u001b[43m    \u001b[49m\u001b[43mapi_key\u001b[49m\u001b[38;5;241;43m=\u001b[39;49m\u001b[43m(\u001b[49m\n\u001b[1;32m     61\u001b[0m \u001b[43m        \u001b[49m\u001b[43mos\u001b[49m\u001b[38;5;241;43m.\u001b[39;49m\u001b[43menviron\u001b[49m\u001b[38;5;241;43m.\u001b[39;49m\u001b[43mget\u001b[49m\u001b[43m(\u001b[49m\u001b[38;5;124;43m\"\u001b[39;49m\u001b[38;5;124;43mCEREBRAS_API_KEY\u001b[39;49m\u001b[38;5;124;43m\"\u001b[39;49m\u001b[43m)\u001b[49m\n\u001b[1;32m     62\u001b[0m \u001b[43m        \u001b[49m\u001b[38;5;28;43;01mif\u001b[39;49;00m\u001b[43m \u001b[49m\u001b[43mcerebras\u001b[49m\n\u001b[1;32m     63\u001b[0m \u001b[43m        \u001b[49m\u001b[38;5;28;43;01melse\u001b[39;49;00m\u001b[43m \u001b[49m\u001b[38;5;124;43m\"\u001b[39;49m\u001b[38;5;124;43mollama\u001b[39;49m\u001b[38;5;124;43m\"\u001b[39;49m\u001b[43m \u001b[49m\u001b[38;5;28;43;01mif\u001b[39;49;00m\u001b[43m \u001b[49m\u001b[43mollama\u001b[49m\u001b[43m \u001b[49m\u001b[38;5;28;43;01melse\u001b[39;49;00m\u001b[43m \u001b[49m\u001b[43mos\u001b[49m\u001b[38;5;241;43m.\u001b[39;49m\u001b[43menviron\u001b[49m\u001b[38;5;241;43m.\u001b[39;49m\u001b[43mget\u001b[49m\u001b[43m(\u001b[49m\u001b[38;5;124;43m\"\u001b[39;49m\u001b[38;5;124;43mOPENAI_API_KEY\u001b[39;49m\u001b[38;5;124;43m\"\u001b[39;49m\u001b[43m)\u001b[49m\n\u001b[1;32m     64\u001b[0m \u001b[43m    \u001b[49m\u001b[43m)\u001b[49m\u001b[43m,\u001b[49m\n\u001b[1;32m     65\u001b[0m \u001b[43m    \u001b[49m\u001b[43mdebug\u001b[49m\u001b[38;5;241;43m=\u001b[39;49m\u001b[43mdebug\u001b[49m\u001b[43m,\u001b[49m\n\u001b[1;32m     66\u001b[0m \u001b[43m\u001b[49m\u001b[43m)\u001b[49m\n\u001b[1;32m     68\u001b[0m end_time \u001b[38;5;241m=\u001b[39m time\u001b[38;5;241m.\u001b[39mtime()  \u001b[38;5;66;03m# End time\u001b[39;00m\n\u001b[1;32m     69\u001b[0m exec_time \u001b[38;5;241m=\u001b[39m end_time \u001b[38;5;241m-\u001b[39m start_time  \u001b[38;5;66;03m# Execution time\u001b[39;00m\n",
      "File \u001b[0;32m~/code/papers/maritime-incidents-ai-agents/llm_toolkit/llm_utils.py:485\u001b[0m, in \u001b[0;36meval_dataset_using_openai\u001b[0;34m(system_prompt, user_prompt, eval_dataset, input_column, model, max_new_tokens, base_url, api_key, debug)\u001b[0m\n\u001b[1;32m    482\u001b[0m predictions \u001b[38;5;241m=\u001b[39m []\n\u001b[1;32m    484\u001b[0m \u001b[38;5;28;01mfor\u001b[39;00m i \u001b[38;5;129;01min\u001b[39;00m tqdm(\u001b[38;5;28mrange\u001b[39m(total)):\n\u001b[0;32m--> 485\u001b[0m     output \u001b[38;5;241m=\u001b[39m \u001b[43minvoke_openai_model\u001b[49m\u001b[43m(\u001b[49m\n\u001b[1;32m    486\u001b[0m \u001b[43m        \u001b[49m\u001b[43msystem_prompt\u001b[49m\u001b[43m,\u001b[49m\n\u001b[1;32m    487\u001b[0m \u001b[43m        \u001b[49m\u001b[43muser_prompt\u001b[49m\u001b[43m,\u001b[49m\n\u001b[1;32m    488\u001b[0m \u001b[43m        \u001b[49m\u001b[43meval_dataset\u001b[49m\u001b[43m[\u001b[49m\u001b[43minput_column\u001b[49m\u001b[43m]\u001b[49m\u001b[43m[\u001b[49m\u001b[43mi\u001b[49m\u001b[43m]\u001b[49m\u001b[43m,\u001b[49m\n\u001b[1;32m    489\u001b[0m \u001b[43m        \u001b[49m\u001b[43mmodel\u001b[49m\u001b[38;5;241;43m=\u001b[39;49m\u001b[43mmodel\u001b[49m\u001b[43m,\u001b[49m\n\u001b[1;32m    490\u001b[0m \u001b[43m        \u001b[49m\u001b[43mmax_tokens\u001b[49m\u001b[38;5;241;43m=\u001b[39;49m\u001b[43mmax_new_tokens\u001b[49m\u001b[43m,\u001b[49m\n\u001b[1;32m    491\u001b[0m \u001b[43m        \u001b[49m\u001b[43mbase_url\u001b[49m\u001b[38;5;241;43m=\u001b[39;49m\u001b[43mbase_url\u001b[49m\u001b[43m,\u001b[49m\n\u001b[1;32m    492\u001b[0m \u001b[43m        \u001b[49m\u001b[43mapi_key\u001b[49m\u001b[38;5;241;43m=\u001b[39;49m\u001b[43mapi_key\u001b[49m\u001b[43m,\u001b[49m\n\u001b[1;32m    493\u001b[0m \u001b[43m        \u001b[49m\u001b[43mdebug\u001b[49m\u001b[38;5;241;43m=\u001b[39;49m\u001b[43mi\u001b[49m\u001b[43m \u001b[49m\u001b[38;5;241;43m==\u001b[39;49m\u001b[43m \u001b[49m\u001b[38;5;241;43m0\u001b[39;49m\u001b[43m \u001b[49m\u001b[38;5;129;43;01mand\u001b[39;49;00m\u001b[43m \u001b[49m\u001b[43mdebug\u001b[49m\u001b[43m,\u001b[49m\n\u001b[1;32m    494\u001b[0m \u001b[43m    \u001b[49m\u001b[43m)\u001b[49m\n\u001b[1;32m    495\u001b[0m     predictions\u001b[38;5;241m.\u001b[39mappend(output)\n\u001b[1;32m    497\u001b[0m \u001b[38;5;28;01mreturn\u001b[39;00m predictions\n",
      "File \u001b[0;32m~/code/papers/maritime-incidents-ai-agents/llm_toolkit/llm_utils.py:458\u001b[0m, in \u001b[0;36minvoke_openai_model\u001b[0;34m(system_prompt, user_prompt, input, max_tokens, model, base_url, api_key, debug)\u001b[0m\n\u001b[1;32m    444\u001b[0m prompt \u001b[38;5;241m=\u001b[39m ChatPromptTemplate\u001b[38;5;241m.\u001b[39mfrom_messages(\n\u001b[1;32m    445\u001b[0m     [\n\u001b[1;32m    446\u001b[0m         (\n\u001b[0;32m   (...)\u001b[0m\n\u001b[1;32m    454\u001b[0m     ]\n\u001b[1;32m    455\u001b[0m )\n\u001b[1;32m    457\u001b[0m chain \u001b[38;5;241m=\u001b[39m prompt \u001b[38;5;241m|\u001b[39m llm\n\u001b[0;32m--> 458\u001b[0m response \u001b[38;5;241m=\u001b[39m \u001b[43mchain\u001b[49m\u001b[38;5;241;43m.\u001b[39;49m\u001b[43minvoke\u001b[49m\u001b[43m(\u001b[49m\n\u001b[1;32m    459\u001b[0m \u001b[43m    \u001b[49m\u001b[43m{\u001b[49m\n\u001b[1;32m    460\u001b[0m \u001b[43m        \u001b[49m\u001b[38;5;124;43m\"\u001b[39;49m\u001b[38;5;124;43minput\u001b[39;49m\u001b[38;5;124;43m\"\u001b[39;49m\u001b[43m:\u001b[49m\u001b[43m \u001b[49m\u001b[38;5;28;43minput\u001b[39;49m\u001b[43m,\u001b[49m\n\u001b[1;32m    461\u001b[0m \u001b[43m    \u001b[49m\u001b[43m}\u001b[49m\n\u001b[1;32m    462\u001b[0m \u001b[43m\u001b[49m\u001b[43m)\u001b[49m\n\u001b[1;32m    464\u001b[0m \u001b[38;5;28;01mif\u001b[39;00m debug:\n\u001b[1;32m    465\u001b[0m     set_debug_mode(\u001b[38;5;28;01mFalse\u001b[39;00m)\n",
      "File \u001b[0;32m/opt/miniconda3/envs/maritime/lib/python3.11/site-packages/langchain_core/runnables/base.py:3024\u001b[0m, in \u001b[0;36mRunnableSequence.invoke\u001b[0;34m(self, input, config, **kwargs)\u001b[0m\n\u001b[1;32m   3022\u001b[0m             \u001b[38;5;28minput\u001b[39m \u001b[38;5;241m=\u001b[39m context\u001b[38;5;241m.\u001b[39mrun(step\u001b[38;5;241m.\u001b[39minvoke, \u001b[38;5;28minput\u001b[39m, config, \u001b[38;5;241m*\u001b[39m\u001b[38;5;241m*\u001b[39mkwargs)\n\u001b[1;32m   3023\u001b[0m         \u001b[38;5;28;01melse\u001b[39;00m:\n\u001b[0;32m-> 3024\u001b[0m             \u001b[38;5;28minput\u001b[39m \u001b[38;5;241m=\u001b[39m context\u001b[38;5;241m.\u001b[39mrun(step\u001b[38;5;241m.\u001b[39minvoke, \u001b[38;5;28minput\u001b[39m, config)\n\u001b[1;32m   3025\u001b[0m \u001b[38;5;66;03m# finish the root run\u001b[39;00m\n\u001b[1;32m   3026\u001b[0m \u001b[38;5;28;01mexcept\u001b[39;00m \u001b[38;5;167;01mBaseException\u001b[39;00m \u001b[38;5;28;01mas\u001b[39;00m e:\n",
      "File \u001b[0;32m/opt/miniconda3/envs/maritime/lib/python3.11/site-packages/langchain_core/language_models/chat_models.py:286\u001b[0m, in \u001b[0;36mBaseChatModel.invoke\u001b[0;34m(self, input, config, stop, **kwargs)\u001b[0m\n\u001b[1;32m    275\u001b[0m \u001b[38;5;28;01mdef\u001b[39;00m \u001b[38;5;21minvoke\u001b[39m(\n\u001b[1;32m    276\u001b[0m     \u001b[38;5;28mself\u001b[39m,\n\u001b[1;32m    277\u001b[0m     \u001b[38;5;28minput\u001b[39m: LanguageModelInput,\n\u001b[0;32m   (...)\u001b[0m\n\u001b[1;32m    281\u001b[0m     \u001b[38;5;241m*\u001b[39m\u001b[38;5;241m*\u001b[39mkwargs: Any,\n\u001b[1;32m    282\u001b[0m ) \u001b[38;5;241m-\u001b[39m\u001b[38;5;241m>\u001b[39m BaseMessage:\n\u001b[1;32m    283\u001b[0m     config \u001b[38;5;241m=\u001b[39m ensure_config(config)\n\u001b[1;32m    284\u001b[0m     \u001b[38;5;28;01mreturn\u001b[39;00m cast(\n\u001b[1;32m    285\u001b[0m         ChatGeneration,\n\u001b[0;32m--> 286\u001b[0m         \u001b[38;5;28;43mself\u001b[39;49m\u001b[38;5;241;43m.\u001b[39;49m\u001b[43mgenerate_prompt\u001b[49m\u001b[43m(\u001b[49m\n\u001b[1;32m    287\u001b[0m \u001b[43m            \u001b[49m\u001b[43m[\u001b[49m\u001b[38;5;28;43mself\u001b[39;49m\u001b[38;5;241;43m.\u001b[39;49m\u001b[43m_convert_input\u001b[49m\u001b[43m(\u001b[49m\u001b[38;5;28;43minput\u001b[39;49m\u001b[43m)\u001b[49m\u001b[43m]\u001b[49m\u001b[43m,\u001b[49m\n\u001b[1;32m    288\u001b[0m \u001b[43m            \u001b[49m\u001b[43mstop\u001b[49m\u001b[38;5;241;43m=\u001b[39;49m\u001b[43mstop\u001b[49m\u001b[43m,\u001b[49m\n\u001b[1;32m    289\u001b[0m \u001b[43m            \u001b[49m\u001b[43mcallbacks\u001b[49m\u001b[38;5;241;43m=\u001b[39;49m\u001b[43mconfig\u001b[49m\u001b[38;5;241;43m.\u001b[39;49m\u001b[43mget\u001b[49m\u001b[43m(\u001b[49m\u001b[38;5;124;43m\"\u001b[39;49m\u001b[38;5;124;43mcallbacks\u001b[39;49m\u001b[38;5;124;43m\"\u001b[39;49m\u001b[43m)\u001b[49m\u001b[43m,\u001b[49m\n\u001b[1;32m    290\u001b[0m \u001b[43m            \u001b[49m\u001b[43mtags\u001b[49m\u001b[38;5;241;43m=\u001b[39;49m\u001b[43mconfig\u001b[49m\u001b[38;5;241;43m.\u001b[39;49m\u001b[43mget\u001b[49m\u001b[43m(\u001b[49m\u001b[38;5;124;43m\"\u001b[39;49m\u001b[38;5;124;43mtags\u001b[39;49m\u001b[38;5;124;43m\"\u001b[39;49m\u001b[43m)\u001b[49m\u001b[43m,\u001b[49m\n\u001b[1;32m    291\u001b[0m \u001b[43m            \u001b[49m\u001b[43mmetadata\u001b[49m\u001b[38;5;241;43m=\u001b[39;49m\u001b[43mconfig\u001b[49m\u001b[38;5;241;43m.\u001b[39;49m\u001b[43mget\u001b[49m\u001b[43m(\u001b[49m\u001b[38;5;124;43m\"\u001b[39;49m\u001b[38;5;124;43mmetadata\u001b[39;49m\u001b[38;5;124;43m\"\u001b[39;49m\u001b[43m)\u001b[49m\u001b[43m,\u001b[49m\n\u001b[1;32m    292\u001b[0m \u001b[43m            \u001b[49m\u001b[43mrun_name\u001b[49m\u001b[38;5;241;43m=\u001b[39;49m\u001b[43mconfig\u001b[49m\u001b[38;5;241;43m.\u001b[39;49m\u001b[43mget\u001b[49m\u001b[43m(\u001b[49m\u001b[38;5;124;43m\"\u001b[39;49m\u001b[38;5;124;43mrun_name\u001b[39;49m\u001b[38;5;124;43m\"\u001b[39;49m\u001b[43m)\u001b[49m\u001b[43m,\u001b[49m\n\u001b[1;32m    293\u001b[0m \u001b[43m            \u001b[49m\u001b[43mrun_id\u001b[49m\u001b[38;5;241;43m=\u001b[39;49m\u001b[43mconfig\u001b[49m\u001b[38;5;241;43m.\u001b[39;49m\u001b[43mpop\u001b[49m\u001b[43m(\u001b[49m\u001b[38;5;124;43m\"\u001b[39;49m\u001b[38;5;124;43mrun_id\u001b[39;49m\u001b[38;5;124;43m\"\u001b[39;49m\u001b[43m,\u001b[49m\u001b[43m \u001b[49m\u001b[38;5;28;43;01mNone\u001b[39;49;00m\u001b[43m)\u001b[49m\u001b[43m,\u001b[49m\n\u001b[1;32m    294\u001b[0m \u001b[43m            \u001b[49m\u001b[38;5;241;43m*\u001b[39;49m\u001b[38;5;241;43m*\u001b[39;49m\u001b[43mkwargs\u001b[49m\u001b[43m,\u001b[49m\n\u001b[1;32m    295\u001b[0m \u001b[43m        \u001b[49m\u001b[43m)\u001b[49m\u001b[38;5;241m.\u001b[39mgenerations[\u001b[38;5;241m0\u001b[39m][\u001b[38;5;241m0\u001b[39m],\n\u001b[1;32m    296\u001b[0m     )\u001b[38;5;241m.\u001b[39mmessage\n",
      "File \u001b[0;32m/opt/miniconda3/envs/maritime/lib/python3.11/site-packages/langchain_core/language_models/chat_models.py:786\u001b[0m, in \u001b[0;36mBaseChatModel.generate_prompt\u001b[0;34m(self, prompts, stop, callbacks, **kwargs)\u001b[0m\n\u001b[1;32m    778\u001b[0m \u001b[38;5;28;01mdef\u001b[39;00m \u001b[38;5;21mgenerate_prompt\u001b[39m(\n\u001b[1;32m    779\u001b[0m     \u001b[38;5;28mself\u001b[39m,\n\u001b[1;32m    780\u001b[0m     prompts: \u001b[38;5;28mlist\u001b[39m[PromptValue],\n\u001b[0;32m   (...)\u001b[0m\n\u001b[1;32m    783\u001b[0m     \u001b[38;5;241m*\u001b[39m\u001b[38;5;241m*\u001b[39mkwargs: Any,\n\u001b[1;32m    784\u001b[0m ) \u001b[38;5;241m-\u001b[39m\u001b[38;5;241m>\u001b[39m LLMResult:\n\u001b[1;32m    785\u001b[0m     prompt_messages \u001b[38;5;241m=\u001b[39m [p\u001b[38;5;241m.\u001b[39mto_messages() \u001b[38;5;28;01mfor\u001b[39;00m p \u001b[38;5;129;01min\u001b[39;00m prompts]\n\u001b[0;32m--> 786\u001b[0m     \u001b[38;5;28;01mreturn\u001b[39;00m \u001b[38;5;28;43mself\u001b[39;49m\u001b[38;5;241;43m.\u001b[39;49m\u001b[43mgenerate\u001b[49m\u001b[43m(\u001b[49m\u001b[43mprompt_messages\u001b[49m\u001b[43m,\u001b[49m\u001b[43m \u001b[49m\u001b[43mstop\u001b[49m\u001b[38;5;241;43m=\u001b[39;49m\u001b[43mstop\u001b[49m\u001b[43m,\u001b[49m\u001b[43m \u001b[49m\u001b[43mcallbacks\u001b[49m\u001b[38;5;241;43m=\u001b[39;49m\u001b[43mcallbacks\u001b[49m\u001b[43m,\u001b[49m\u001b[43m \u001b[49m\u001b[38;5;241;43m*\u001b[39;49m\u001b[38;5;241;43m*\u001b[39;49m\u001b[43mkwargs\u001b[49m\u001b[43m)\u001b[49m\n",
      "File \u001b[0;32m/opt/miniconda3/envs/maritime/lib/python3.11/site-packages/langchain_core/language_models/chat_models.py:643\u001b[0m, in \u001b[0;36mBaseChatModel.generate\u001b[0;34m(self, messages, stop, callbacks, tags, metadata, run_name, run_id, **kwargs)\u001b[0m\n\u001b[1;32m    641\u001b[0m         \u001b[38;5;28;01mif\u001b[39;00m run_managers:\n\u001b[1;32m    642\u001b[0m             run_managers[i]\u001b[38;5;241m.\u001b[39mon_llm_error(e, response\u001b[38;5;241m=\u001b[39mLLMResult(generations\u001b[38;5;241m=\u001b[39m[]))\n\u001b[0;32m--> 643\u001b[0m         \u001b[38;5;28;01mraise\u001b[39;00m e\n\u001b[1;32m    644\u001b[0m flattened_outputs \u001b[38;5;241m=\u001b[39m [\n\u001b[1;32m    645\u001b[0m     LLMResult(generations\u001b[38;5;241m=\u001b[39m[res\u001b[38;5;241m.\u001b[39mgenerations], llm_output\u001b[38;5;241m=\u001b[39mres\u001b[38;5;241m.\u001b[39mllm_output)  \u001b[38;5;66;03m# type: ignore[list-item]\u001b[39;00m\n\u001b[1;32m    646\u001b[0m     \u001b[38;5;28;01mfor\u001b[39;00m res \u001b[38;5;129;01min\u001b[39;00m results\n\u001b[1;32m    647\u001b[0m ]\n\u001b[1;32m    648\u001b[0m llm_output \u001b[38;5;241m=\u001b[39m \u001b[38;5;28mself\u001b[39m\u001b[38;5;241m.\u001b[39m_combine_llm_outputs([res\u001b[38;5;241m.\u001b[39mllm_output \u001b[38;5;28;01mfor\u001b[39;00m res \u001b[38;5;129;01min\u001b[39;00m results])\n",
      "File \u001b[0;32m/opt/miniconda3/envs/maritime/lib/python3.11/site-packages/langchain_core/language_models/chat_models.py:633\u001b[0m, in \u001b[0;36mBaseChatModel.generate\u001b[0;34m(self, messages, stop, callbacks, tags, metadata, run_name, run_id, **kwargs)\u001b[0m\n\u001b[1;32m    630\u001b[0m \u001b[38;5;28;01mfor\u001b[39;00m i, m \u001b[38;5;129;01min\u001b[39;00m \u001b[38;5;28menumerate\u001b[39m(messages):\n\u001b[1;32m    631\u001b[0m     \u001b[38;5;28;01mtry\u001b[39;00m:\n\u001b[1;32m    632\u001b[0m         results\u001b[38;5;241m.\u001b[39mappend(\n\u001b[0;32m--> 633\u001b[0m             \u001b[38;5;28;43mself\u001b[39;49m\u001b[38;5;241;43m.\u001b[39;49m\u001b[43m_generate_with_cache\u001b[49m\u001b[43m(\u001b[49m\n\u001b[1;32m    634\u001b[0m \u001b[43m                \u001b[49m\u001b[43mm\u001b[49m\u001b[43m,\u001b[49m\n\u001b[1;32m    635\u001b[0m \u001b[43m                \u001b[49m\u001b[43mstop\u001b[49m\u001b[38;5;241;43m=\u001b[39;49m\u001b[43mstop\u001b[49m\u001b[43m,\u001b[49m\n\u001b[1;32m    636\u001b[0m \u001b[43m                \u001b[49m\u001b[43mrun_manager\u001b[49m\u001b[38;5;241;43m=\u001b[39;49m\u001b[43mrun_managers\u001b[49m\u001b[43m[\u001b[49m\u001b[43mi\u001b[49m\u001b[43m]\u001b[49m\u001b[43m \u001b[49m\u001b[38;5;28;43;01mif\u001b[39;49;00m\u001b[43m \u001b[49m\u001b[43mrun_managers\u001b[49m\u001b[43m \u001b[49m\u001b[38;5;28;43;01melse\u001b[39;49;00m\u001b[43m \u001b[49m\u001b[38;5;28;43;01mNone\u001b[39;49;00m\u001b[43m,\u001b[49m\n\u001b[1;32m    637\u001b[0m \u001b[43m                \u001b[49m\u001b[38;5;241;43m*\u001b[39;49m\u001b[38;5;241;43m*\u001b[39;49m\u001b[43mkwargs\u001b[49m\u001b[43m,\u001b[49m\n\u001b[1;32m    638\u001b[0m \u001b[43m            \u001b[49m\u001b[43m)\u001b[49m\n\u001b[1;32m    639\u001b[0m         )\n\u001b[1;32m    640\u001b[0m     \u001b[38;5;28;01mexcept\u001b[39;00m \u001b[38;5;167;01mBaseException\u001b[39;00m \u001b[38;5;28;01mas\u001b[39;00m e:\n\u001b[1;32m    641\u001b[0m         \u001b[38;5;28;01mif\u001b[39;00m run_managers:\n",
      "File \u001b[0;32m/opt/miniconda3/envs/maritime/lib/python3.11/site-packages/langchain_core/language_models/chat_models.py:851\u001b[0m, in \u001b[0;36mBaseChatModel._generate_with_cache\u001b[0;34m(self, messages, stop, run_manager, **kwargs)\u001b[0m\n\u001b[1;32m    849\u001b[0m \u001b[38;5;28;01melse\u001b[39;00m:\n\u001b[1;32m    850\u001b[0m     \u001b[38;5;28;01mif\u001b[39;00m inspect\u001b[38;5;241m.\u001b[39msignature(\u001b[38;5;28mself\u001b[39m\u001b[38;5;241m.\u001b[39m_generate)\u001b[38;5;241m.\u001b[39mparameters\u001b[38;5;241m.\u001b[39mget(\u001b[38;5;124m\"\u001b[39m\u001b[38;5;124mrun_manager\u001b[39m\u001b[38;5;124m\"\u001b[39m):\n\u001b[0;32m--> 851\u001b[0m         result \u001b[38;5;241m=\u001b[39m \u001b[38;5;28;43mself\u001b[39;49m\u001b[38;5;241;43m.\u001b[39;49m\u001b[43m_generate\u001b[49m\u001b[43m(\u001b[49m\n\u001b[1;32m    852\u001b[0m \u001b[43m            \u001b[49m\u001b[43mmessages\u001b[49m\u001b[43m,\u001b[49m\u001b[43m \u001b[49m\u001b[43mstop\u001b[49m\u001b[38;5;241;43m=\u001b[39;49m\u001b[43mstop\u001b[49m\u001b[43m,\u001b[49m\u001b[43m \u001b[49m\u001b[43mrun_manager\u001b[49m\u001b[38;5;241;43m=\u001b[39;49m\u001b[43mrun_manager\u001b[49m\u001b[43m,\u001b[49m\u001b[43m \u001b[49m\u001b[38;5;241;43m*\u001b[39;49m\u001b[38;5;241;43m*\u001b[39;49m\u001b[43mkwargs\u001b[49m\n\u001b[1;32m    853\u001b[0m \u001b[43m        \u001b[49m\u001b[43m)\u001b[49m\n\u001b[1;32m    854\u001b[0m     \u001b[38;5;28;01melse\u001b[39;00m:\n\u001b[1;32m    855\u001b[0m         result \u001b[38;5;241m=\u001b[39m \u001b[38;5;28mself\u001b[39m\u001b[38;5;241m.\u001b[39m_generate(messages, stop\u001b[38;5;241m=\u001b[39mstop, \u001b[38;5;241m*\u001b[39m\u001b[38;5;241m*\u001b[39mkwargs)\n",
      "File \u001b[0;32m/opt/miniconda3/envs/maritime/lib/python3.11/site-packages/langchain_ollama/chat_models.py:690\u001b[0m, in \u001b[0;36mChatOllama._generate\u001b[0;34m(self, messages, stop, run_manager, **kwargs)\u001b[0m\n\u001b[1;32m    683\u001b[0m \u001b[38;5;28;01mdef\u001b[39;00m \u001b[38;5;21m_generate\u001b[39m(\n\u001b[1;32m    684\u001b[0m     \u001b[38;5;28mself\u001b[39m,\n\u001b[1;32m    685\u001b[0m     messages: List[BaseMessage],\n\u001b[0;32m   (...)\u001b[0m\n\u001b[1;32m    688\u001b[0m     \u001b[38;5;241m*\u001b[39m\u001b[38;5;241m*\u001b[39mkwargs: Any,\n\u001b[1;32m    689\u001b[0m ) \u001b[38;5;241m-\u001b[39m\u001b[38;5;241m>\u001b[39m ChatResult:\n\u001b[0;32m--> 690\u001b[0m     final_chunk \u001b[38;5;241m=\u001b[39m \u001b[38;5;28;43mself\u001b[39;49m\u001b[38;5;241;43m.\u001b[39;49m\u001b[43m_chat_stream_with_aggregation\u001b[49m\u001b[43m(\u001b[49m\n\u001b[1;32m    691\u001b[0m \u001b[43m        \u001b[49m\u001b[43mmessages\u001b[49m\u001b[43m,\u001b[49m\u001b[43m \u001b[49m\u001b[43mstop\u001b[49m\u001b[43m,\u001b[49m\u001b[43m \u001b[49m\u001b[43mrun_manager\u001b[49m\u001b[43m,\u001b[49m\u001b[43m \u001b[49m\u001b[43mverbose\u001b[49m\u001b[38;5;241;43m=\u001b[39;49m\u001b[38;5;28;43mself\u001b[39;49m\u001b[38;5;241;43m.\u001b[39;49m\u001b[43mverbose\u001b[49m\u001b[43m,\u001b[49m\u001b[43m \u001b[49m\u001b[38;5;241;43m*\u001b[39;49m\u001b[38;5;241;43m*\u001b[39;49m\u001b[43mkwargs\u001b[49m\n\u001b[1;32m    692\u001b[0m \u001b[43m    \u001b[49m\u001b[43m)\u001b[49m\n\u001b[1;32m    693\u001b[0m     generation_info \u001b[38;5;241m=\u001b[39m final_chunk\u001b[38;5;241m.\u001b[39mgeneration_info\n\u001b[1;32m    694\u001b[0m     chat_generation \u001b[38;5;241m=\u001b[39m ChatGeneration(\n\u001b[1;32m    695\u001b[0m         message\u001b[38;5;241m=\u001b[39mAIMessage(\n\u001b[1;32m    696\u001b[0m             content\u001b[38;5;241m=\u001b[39mfinal_chunk\u001b[38;5;241m.\u001b[39mtext,\n\u001b[0;32m   (...)\u001b[0m\n\u001b[1;32m    700\u001b[0m         generation_info\u001b[38;5;241m=\u001b[39mgeneration_info,\n\u001b[1;32m    701\u001b[0m     )\n",
      "File \u001b[0;32m/opt/miniconda3/envs/maritime/lib/python3.11/site-packages/langchain_ollama/chat_models.py:591\u001b[0m, in \u001b[0;36mChatOllama._chat_stream_with_aggregation\u001b[0;34m(self, messages, stop, run_manager, verbose, **kwargs)\u001b[0m\n\u001b[1;32m    582\u001b[0m \u001b[38;5;28;01mdef\u001b[39;00m \u001b[38;5;21m_chat_stream_with_aggregation\u001b[39m(\n\u001b[1;32m    583\u001b[0m     \u001b[38;5;28mself\u001b[39m,\n\u001b[1;32m    584\u001b[0m     messages: List[BaseMessage],\n\u001b[0;32m   (...)\u001b[0m\n\u001b[1;32m    588\u001b[0m     \u001b[38;5;241m*\u001b[39m\u001b[38;5;241m*\u001b[39mkwargs: Any,\n\u001b[1;32m    589\u001b[0m ) \u001b[38;5;241m-\u001b[39m\u001b[38;5;241m>\u001b[39m ChatGenerationChunk:\n\u001b[1;32m    590\u001b[0m     final_chunk \u001b[38;5;241m=\u001b[39m \u001b[38;5;28;01mNone\u001b[39;00m\n\u001b[0;32m--> 591\u001b[0m \u001b[43m    \u001b[49m\u001b[38;5;28;43;01mfor\u001b[39;49;00m\u001b[43m \u001b[49m\u001b[43mstream_resp\u001b[49m\u001b[43m \u001b[49m\u001b[38;5;129;43;01min\u001b[39;49;00m\u001b[43m \u001b[49m\u001b[38;5;28;43mself\u001b[39;49m\u001b[38;5;241;43m.\u001b[39;49m\u001b[43m_create_chat_stream\u001b[49m\u001b[43m(\u001b[49m\u001b[43mmessages\u001b[49m\u001b[43m,\u001b[49m\u001b[43m \u001b[49m\u001b[43mstop\u001b[49m\u001b[43m,\u001b[49m\u001b[43m \u001b[49m\u001b[38;5;241;43m*\u001b[39;49m\u001b[38;5;241;43m*\u001b[39;49m\u001b[43mkwargs\u001b[49m\u001b[43m)\u001b[49m\u001b[43m:\u001b[49m\n\u001b[1;32m    592\u001b[0m \u001b[43m        \u001b[49m\u001b[38;5;28;43;01mif\u001b[39;49;00m\u001b[43m \u001b[49m\u001b[38;5;129;43;01mnot\u001b[39;49;00m\u001b[43m \u001b[49m\u001b[38;5;28;43misinstance\u001b[39;49m\u001b[43m(\u001b[49m\u001b[43mstream_resp\u001b[49m\u001b[43m,\u001b[49m\u001b[43m \u001b[49m\u001b[38;5;28;43mstr\u001b[39;49m\u001b[43m)\u001b[49m\u001b[43m:\u001b[49m\n\u001b[1;32m    593\u001b[0m \u001b[43m            \u001b[49m\u001b[43mchunk\u001b[49m\u001b[43m \u001b[49m\u001b[38;5;241;43m=\u001b[39;49m\u001b[43m \u001b[49m\u001b[43mChatGenerationChunk\u001b[49m\u001b[43m(\u001b[49m\n\u001b[1;32m    594\u001b[0m \u001b[43m                \u001b[49m\u001b[43mmessage\u001b[49m\u001b[38;5;241;43m=\u001b[39;49m\u001b[43mAIMessageChunk\u001b[49m\u001b[43m(\u001b[49m\n\u001b[1;32m    595\u001b[0m \u001b[43m                    \u001b[49m\u001b[43mcontent\u001b[49m\u001b[38;5;241;43m=\u001b[39;49m\u001b[43m(\u001b[49m\n\u001b[0;32m   (...)\u001b[0m\n\u001b[1;32m    608\u001b[0m \u001b[43m                \u001b[49m\u001b[43m)\u001b[49m\u001b[43m,\u001b[49m\n\u001b[1;32m    609\u001b[0m \u001b[43m            \u001b[49m\u001b[43m)\u001b[49m\n",
      "File \u001b[0;32m/opt/miniconda3/envs/maritime/lib/python3.11/site-packages/langchain_ollama/chat_models.py:578\u001b[0m, in \u001b[0;36mChatOllama._create_chat_stream\u001b[0;34m(self, messages, stop, **kwargs)\u001b[0m\n\u001b[1;32m    575\u001b[0m chat_params \u001b[38;5;241m=\u001b[39m \u001b[38;5;28mself\u001b[39m\u001b[38;5;241m.\u001b[39m_chat_params(messages, stop, \u001b[38;5;241m*\u001b[39m\u001b[38;5;241m*\u001b[39mkwargs)\n\u001b[1;32m    577\u001b[0m \u001b[38;5;28;01mif\u001b[39;00m chat_params[\u001b[38;5;124m\"\u001b[39m\u001b[38;5;124mstream\u001b[39m\u001b[38;5;124m\"\u001b[39m]:\n\u001b[0;32m--> 578\u001b[0m     \u001b[38;5;28;01myield from\u001b[39;00m \u001b[38;5;28mself\u001b[39m\u001b[38;5;241m.\u001b[39m_client\u001b[38;5;241m.\u001b[39mchat(\u001b[38;5;241m*\u001b[39m\u001b[38;5;241m*\u001b[39mchat_params)\n\u001b[1;32m    579\u001b[0m \u001b[38;5;28;01melse\u001b[39;00m:\n\u001b[1;32m    580\u001b[0m     \u001b[38;5;28;01myield\u001b[39;00m \u001b[38;5;28mself\u001b[39m\u001b[38;5;241m.\u001b[39m_client\u001b[38;5;241m.\u001b[39mchat(\u001b[38;5;241m*\u001b[39m\u001b[38;5;241m*\u001b[39mchat_params)\n",
      "File \u001b[0;32m/opt/miniconda3/envs/maritime/lib/python3.11/site-packages/ollama/_client.py:169\u001b[0m, in \u001b[0;36mClient._request.<locals>.inner\u001b[0;34m()\u001b[0m\n\u001b[1;32m    166\u001b[0m   e\u001b[38;5;241m.\u001b[39mresponse\u001b[38;5;241m.\u001b[39mread()\n\u001b[1;32m    167\u001b[0m   \u001b[38;5;28;01mraise\u001b[39;00m ResponseError(e\u001b[38;5;241m.\u001b[39mresponse\u001b[38;5;241m.\u001b[39mtext, e\u001b[38;5;241m.\u001b[39mresponse\u001b[38;5;241m.\u001b[39mstatus_code) \u001b[38;5;28;01mfrom\u001b[39;00m \u001b[38;5;28;01mNone\u001b[39;00m\n\u001b[0;32m--> 169\u001b[0m \u001b[43m\u001b[49m\u001b[38;5;28;43;01mfor\u001b[39;49;00m\u001b[43m \u001b[49m\u001b[43mline\u001b[49m\u001b[43m \u001b[49m\u001b[38;5;129;43;01min\u001b[39;49;00m\u001b[43m \u001b[49m\u001b[43mr\u001b[49m\u001b[38;5;241;43m.\u001b[39;49m\u001b[43miter_lines\u001b[49m\u001b[43m(\u001b[49m\u001b[43m)\u001b[49m\u001b[43m:\u001b[49m\n\u001b[1;32m    170\u001b[0m \u001b[43m  \u001b[49m\u001b[43mpart\u001b[49m\u001b[43m \u001b[49m\u001b[38;5;241;43m=\u001b[39;49m\u001b[43m \u001b[49m\u001b[43mjson\u001b[49m\u001b[38;5;241;43m.\u001b[39;49m\u001b[43mloads\u001b[49m\u001b[43m(\u001b[49m\u001b[43mline\u001b[49m\u001b[43m)\u001b[49m\n\u001b[1;32m    171\u001b[0m \u001b[43m  \u001b[49m\u001b[38;5;28;43;01mif\u001b[39;49;00m\u001b[43m \u001b[49m\u001b[43merr\u001b[49m\u001b[43m \u001b[49m\u001b[38;5;241;43m:=\u001b[39;49m\u001b[43m \u001b[49m\u001b[43mpart\u001b[49m\u001b[38;5;241;43m.\u001b[39;49m\u001b[43mget\u001b[49m\u001b[43m(\u001b[49m\u001b[38;5;124;43m'\u001b[39;49m\u001b[38;5;124;43merror\u001b[39;49m\u001b[38;5;124;43m'\u001b[39;49m\u001b[43m)\u001b[49m\u001b[43m:\u001b[49m\n",
      "File \u001b[0;32m/opt/miniconda3/envs/maritime/lib/python3.11/site-packages/httpx/_models.py:863\u001b[0m, in \u001b[0;36mResponse.iter_lines\u001b[0;34m(self)\u001b[0m\n\u001b[1;32m    861\u001b[0m decoder \u001b[38;5;241m=\u001b[39m LineDecoder()\n\u001b[1;32m    862\u001b[0m \u001b[38;5;28;01mwith\u001b[39;00m request_context(request\u001b[38;5;241m=\u001b[39m\u001b[38;5;28mself\u001b[39m\u001b[38;5;241m.\u001b[39m_request):\n\u001b[0;32m--> 863\u001b[0m \u001b[43m    \u001b[49m\u001b[38;5;28;43;01mfor\u001b[39;49;00m\u001b[43m \u001b[49m\u001b[43mtext\u001b[49m\u001b[43m \u001b[49m\u001b[38;5;129;43;01min\u001b[39;49;00m\u001b[43m \u001b[49m\u001b[38;5;28;43mself\u001b[39;49m\u001b[38;5;241;43m.\u001b[39;49m\u001b[43miter_text\u001b[49m\u001b[43m(\u001b[49m\u001b[43m)\u001b[49m\u001b[43m:\u001b[49m\n\u001b[1;32m    864\u001b[0m \u001b[43m        \u001b[49m\u001b[38;5;28;43;01mfor\u001b[39;49;00m\u001b[43m \u001b[49m\u001b[43mline\u001b[49m\u001b[43m \u001b[49m\u001b[38;5;129;43;01min\u001b[39;49;00m\u001b[43m \u001b[49m\u001b[43mdecoder\u001b[49m\u001b[38;5;241;43m.\u001b[39;49m\u001b[43mdecode\u001b[49m\u001b[43m(\u001b[49m\u001b[43mtext\u001b[49m\u001b[43m)\u001b[49m\u001b[43m:\u001b[49m\n\u001b[1;32m    865\u001b[0m \u001b[43m            \u001b[49m\u001b[38;5;28;43;01myield\u001b[39;49;00m\u001b[43m \u001b[49m\u001b[43mline\u001b[49m\n",
      "File \u001b[0;32m/opt/miniconda3/envs/maritime/lib/python3.11/site-packages/httpx/_models.py:850\u001b[0m, in \u001b[0;36mResponse.iter_text\u001b[0;34m(self, chunk_size)\u001b[0m\n\u001b[1;32m    848\u001b[0m chunker \u001b[38;5;241m=\u001b[39m TextChunker(chunk_size\u001b[38;5;241m=\u001b[39mchunk_size)\n\u001b[1;32m    849\u001b[0m \u001b[38;5;28;01mwith\u001b[39;00m request_context(request\u001b[38;5;241m=\u001b[39m\u001b[38;5;28mself\u001b[39m\u001b[38;5;241m.\u001b[39m_request):\n\u001b[0;32m--> 850\u001b[0m \u001b[43m    \u001b[49m\u001b[38;5;28;43;01mfor\u001b[39;49;00m\u001b[43m \u001b[49m\u001b[43mbyte_content\u001b[49m\u001b[43m \u001b[49m\u001b[38;5;129;43;01min\u001b[39;49;00m\u001b[43m \u001b[49m\u001b[38;5;28;43mself\u001b[39;49m\u001b[38;5;241;43m.\u001b[39;49m\u001b[43miter_bytes\u001b[49m\u001b[43m(\u001b[49m\u001b[43m)\u001b[49m\u001b[43m:\u001b[49m\n\u001b[1;32m    851\u001b[0m \u001b[43m        \u001b[49m\u001b[43mtext_content\u001b[49m\u001b[43m \u001b[49m\u001b[38;5;241;43m=\u001b[39;49m\u001b[43m \u001b[49m\u001b[43mdecoder\u001b[49m\u001b[38;5;241;43m.\u001b[39;49m\u001b[43mdecode\u001b[49m\u001b[43m(\u001b[49m\u001b[43mbyte_content\u001b[49m\u001b[43m)\u001b[49m\n\u001b[1;32m    852\u001b[0m \u001b[43m        \u001b[49m\u001b[38;5;28;43;01mfor\u001b[39;49;00m\u001b[43m \u001b[49m\u001b[43mchunk\u001b[49m\u001b[43m \u001b[49m\u001b[38;5;129;43;01min\u001b[39;49;00m\u001b[43m \u001b[49m\u001b[43mchunker\u001b[49m\u001b[38;5;241;43m.\u001b[39;49m\u001b[43mdecode\u001b[49m\u001b[43m(\u001b[49m\u001b[43mtext_content\u001b[49m\u001b[43m)\u001b[49m\u001b[43m:\u001b[49m\n",
      "File \u001b[0;32m/opt/miniconda3/envs/maritime/lib/python3.11/site-packages/httpx/_models.py:831\u001b[0m, in \u001b[0;36mResponse.iter_bytes\u001b[0;34m(self, chunk_size)\u001b[0m\n\u001b[1;32m    829\u001b[0m chunker \u001b[38;5;241m=\u001b[39m ByteChunker(chunk_size\u001b[38;5;241m=\u001b[39mchunk_size)\n\u001b[1;32m    830\u001b[0m \u001b[38;5;28;01mwith\u001b[39;00m request_context(request\u001b[38;5;241m=\u001b[39m\u001b[38;5;28mself\u001b[39m\u001b[38;5;241m.\u001b[39m_request):\n\u001b[0;32m--> 831\u001b[0m \u001b[43m    \u001b[49m\u001b[38;5;28;43;01mfor\u001b[39;49;00m\u001b[43m \u001b[49m\u001b[43mraw_bytes\u001b[49m\u001b[43m \u001b[49m\u001b[38;5;129;43;01min\u001b[39;49;00m\u001b[43m \u001b[49m\u001b[38;5;28;43mself\u001b[39;49m\u001b[38;5;241;43m.\u001b[39;49m\u001b[43miter_raw\u001b[49m\u001b[43m(\u001b[49m\u001b[43m)\u001b[49m\u001b[43m:\u001b[49m\n\u001b[1;32m    832\u001b[0m \u001b[43m        \u001b[49m\u001b[43mdecoded\u001b[49m\u001b[43m \u001b[49m\u001b[38;5;241;43m=\u001b[39;49m\u001b[43m \u001b[49m\u001b[43mdecoder\u001b[49m\u001b[38;5;241;43m.\u001b[39;49m\u001b[43mdecode\u001b[49m\u001b[43m(\u001b[49m\u001b[43mraw_bytes\u001b[49m\u001b[43m)\u001b[49m\n\u001b[1;32m    833\u001b[0m \u001b[43m        \u001b[49m\u001b[38;5;28;43;01mfor\u001b[39;49;00m\u001b[43m \u001b[49m\u001b[43mchunk\u001b[49m\u001b[43m \u001b[49m\u001b[38;5;129;43;01min\u001b[39;49;00m\u001b[43m \u001b[49m\u001b[43mchunker\u001b[49m\u001b[38;5;241;43m.\u001b[39;49m\u001b[43mdecode\u001b[49m\u001b[43m(\u001b[49m\u001b[43mdecoded\u001b[49m\u001b[43m)\u001b[49m\u001b[43m:\u001b[49m\n",
      "File \u001b[0;32m/opt/miniconda3/envs/maritime/lib/python3.11/site-packages/httpx/_models.py:885\u001b[0m, in \u001b[0;36mResponse.iter_raw\u001b[0;34m(self, chunk_size)\u001b[0m\n\u001b[1;32m    882\u001b[0m chunker \u001b[38;5;241m=\u001b[39m ByteChunker(chunk_size\u001b[38;5;241m=\u001b[39mchunk_size)\n\u001b[1;32m    884\u001b[0m \u001b[38;5;28;01mwith\u001b[39;00m request_context(request\u001b[38;5;241m=\u001b[39m\u001b[38;5;28mself\u001b[39m\u001b[38;5;241m.\u001b[39m_request):\n\u001b[0;32m--> 885\u001b[0m \u001b[43m    \u001b[49m\u001b[38;5;28;43;01mfor\u001b[39;49;00m\u001b[43m \u001b[49m\u001b[43mraw_stream_bytes\u001b[49m\u001b[43m \u001b[49m\u001b[38;5;129;43;01min\u001b[39;49;00m\u001b[43m \u001b[49m\u001b[38;5;28;43mself\u001b[39;49m\u001b[38;5;241;43m.\u001b[39;49m\u001b[43mstream\u001b[49m\u001b[43m:\u001b[49m\n\u001b[1;32m    886\u001b[0m \u001b[43m        \u001b[49m\u001b[38;5;28;43mself\u001b[39;49m\u001b[38;5;241;43m.\u001b[39;49m\u001b[43m_num_bytes_downloaded\u001b[49m\u001b[43m \u001b[49m\u001b[38;5;241;43m+\u001b[39;49m\u001b[38;5;241;43m=\u001b[39;49m\u001b[43m \u001b[49m\u001b[38;5;28;43mlen\u001b[39;49m\u001b[43m(\u001b[49m\u001b[43mraw_stream_bytes\u001b[49m\u001b[43m)\u001b[49m\n\u001b[1;32m    887\u001b[0m \u001b[43m        \u001b[49m\u001b[38;5;28;43;01mfor\u001b[39;49;00m\u001b[43m \u001b[49m\u001b[43mchunk\u001b[49m\u001b[43m \u001b[49m\u001b[38;5;129;43;01min\u001b[39;49;00m\u001b[43m \u001b[49m\u001b[43mchunker\u001b[49m\u001b[38;5;241;43m.\u001b[39;49m\u001b[43mdecode\u001b[49m\u001b[43m(\u001b[49m\u001b[43mraw_stream_bytes\u001b[49m\u001b[43m)\u001b[49m\u001b[43m:\u001b[49m\n",
      "File \u001b[0;32m/opt/miniconda3/envs/maritime/lib/python3.11/site-packages/httpx/_client.py:127\u001b[0m, in \u001b[0;36mBoundSyncStream.__iter__\u001b[0;34m(self)\u001b[0m\n\u001b[1;32m    126\u001b[0m \u001b[38;5;28;01mdef\u001b[39;00m \u001b[38;5;21m__iter__\u001b[39m(\u001b[38;5;28mself\u001b[39m) \u001b[38;5;241m-\u001b[39m\u001b[38;5;241m>\u001b[39m typing\u001b[38;5;241m.\u001b[39mIterator[\u001b[38;5;28mbytes\u001b[39m]:\n\u001b[0;32m--> 127\u001b[0m \u001b[43m    \u001b[49m\u001b[38;5;28;43;01mfor\u001b[39;49;00m\u001b[43m \u001b[49m\u001b[43mchunk\u001b[49m\u001b[43m \u001b[49m\u001b[38;5;129;43;01min\u001b[39;49;00m\u001b[43m \u001b[49m\u001b[38;5;28;43mself\u001b[39;49m\u001b[38;5;241;43m.\u001b[39;49m\u001b[43m_stream\u001b[49m\u001b[43m:\u001b[49m\n\u001b[1;32m    128\u001b[0m \u001b[43m        \u001b[49m\u001b[38;5;28;43;01myield\u001b[39;49;00m\u001b[43m \u001b[49m\u001b[43mchunk\u001b[49m\n",
      "File \u001b[0;32m/opt/miniconda3/envs/maritime/lib/python3.11/site-packages/httpx/_transports/default.py:116\u001b[0m, in \u001b[0;36mResponseStream.__iter__\u001b[0;34m(self)\u001b[0m\n\u001b[1;32m    114\u001b[0m \u001b[38;5;28;01mdef\u001b[39;00m \u001b[38;5;21m__iter__\u001b[39m(\u001b[38;5;28mself\u001b[39m) \u001b[38;5;241m-\u001b[39m\u001b[38;5;241m>\u001b[39m typing\u001b[38;5;241m.\u001b[39mIterator[\u001b[38;5;28mbytes\u001b[39m]:\n\u001b[1;32m    115\u001b[0m     \u001b[38;5;28;01mwith\u001b[39;00m map_httpcore_exceptions():\n\u001b[0;32m--> 116\u001b[0m \u001b[43m        \u001b[49m\u001b[38;5;28;43;01mfor\u001b[39;49;00m\u001b[43m \u001b[49m\u001b[43mpart\u001b[49m\u001b[43m \u001b[49m\u001b[38;5;129;43;01min\u001b[39;49;00m\u001b[43m \u001b[49m\u001b[38;5;28;43mself\u001b[39;49m\u001b[38;5;241;43m.\u001b[39;49m\u001b[43m_httpcore_stream\u001b[49m\u001b[43m:\u001b[49m\n\u001b[1;32m    117\u001b[0m \u001b[43m            \u001b[49m\u001b[38;5;28;43;01myield\u001b[39;49;00m\u001b[43m \u001b[49m\u001b[43mpart\u001b[49m\n",
      "File \u001b[0;32m/opt/miniconda3/envs/maritime/lib/python3.11/site-packages/httpcore/_sync/connection_pool.py:407\u001b[0m, in \u001b[0;36mPoolByteStream.__iter__\u001b[0;34m(self)\u001b[0m\n\u001b[1;32m    405\u001b[0m \u001b[38;5;28;01mexcept\u001b[39;00m \u001b[38;5;167;01mBaseException\u001b[39;00m \u001b[38;5;28;01mas\u001b[39;00m exc:\n\u001b[1;32m    406\u001b[0m     \u001b[38;5;28mself\u001b[39m\u001b[38;5;241m.\u001b[39mclose()\n\u001b[0;32m--> 407\u001b[0m     \u001b[38;5;28;01mraise\u001b[39;00m exc \u001b[38;5;28;01mfrom\u001b[39;00m \u001b[38;5;28;01mNone\u001b[39;00m\n",
      "File \u001b[0;32m/opt/miniconda3/envs/maritime/lib/python3.11/site-packages/httpcore/_sync/connection_pool.py:403\u001b[0m, in \u001b[0;36mPoolByteStream.__iter__\u001b[0;34m(self)\u001b[0m\n\u001b[1;32m    401\u001b[0m \u001b[38;5;28;01mdef\u001b[39;00m \u001b[38;5;21m__iter__\u001b[39m(\u001b[38;5;28mself\u001b[39m) \u001b[38;5;241m-\u001b[39m\u001b[38;5;241m>\u001b[39m typing\u001b[38;5;241m.\u001b[39mIterator[\u001b[38;5;28mbytes\u001b[39m]:\n\u001b[1;32m    402\u001b[0m     \u001b[38;5;28;01mtry\u001b[39;00m:\n\u001b[0;32m--> 403\u001b[0m \u001b[43m        \u001b[49m\u001b[38;5;28;43;01mfor\u001b[39;49;00m\u001b[43m \u001b[49m\u001b[43mpart\u001b[49m\u001b[43m \u001b[49m\u001b[38;5;129;43;01min\u001b[39;49;00m\u001b[43m \u001b[49m\u001b[38;5;28;43mself\u001b[39;49m\u001b[38;5;241;43m.\u001b[39;49m\u001b[43m_stream\u001b[49m\u001b[43m:\u001b[49m\n\u001b[1;32m    404\u001b[0m \u001b[43m            \u001b[49m\u001b[38;5;28;43;01myield\u001b[39;49;00m\u001b[43m \u001b[49m\u001b[43mpart\u001b[49m\n\u001b[1;32m    405\u001b[0m     \u001b[38;5;28;01mexcept\u001b[39;00m \u001b[38;5;167;01mBaseException\u001b[39;00m \u001b[38;5;28;01mas\u001b[39;00m exc:\n",
      "File \u001b[0;32m/opt/miniconda3/envs/maritime/lib/python3.11/site-packages/httpcore/_sync/http11.py:342\u001b[0m, in \u001b[0;36mHTTP11ConnectionByteStream.__iter__\u001b[0;34m(self)\u001b[0m\n\u001b[1;32m    340\u001b[0m \u001b[38;5;28;01mwith\u001b[39;00m ShieldCancellation():\n\u001b[1;32m    341\u001b[0m     \u001b[38;5;28mself\u001b[39m\u001b[38;5;241m.\u001b[39mclose()\n\u001b[0;32m--> 342\u001b[0m \u001b[38;5;28;01mraise\u001b[39;00m exc\n",
      "File \u001b[0;32m/opt/miniconda3/envs/maritime/lib/python3.11/site-packages/httpcore/_sync/http11.py:334\u001b[0m, in \u001b[0;36mHTTP11ConnectionByteStream.__iter__\u001b[0;34m(self)\u001b[0m\n\u001b[1;32m    332\u001b[0m \u001b[38;5;28;01mtry\u001b[39;00m:\n\u001b[1;32m    333\u001b[0m     \u001b[38;5;28;01mwith\u001b[39;00m Trace(\u001b[38;5;124m\"\u001b[39m\u001b[38;5;124mreceive_response_body\u001b[39m\u001b[38;5;124m\"\u001b[39m, logger, \u001b[38;5;28mself\u001b[39m\u001b[38;5;241m.\u001b[39m_request, kwargs):\n\u001b[0;32m--> 334\u001b[0m \u001b[43m        \u001b[49m\u001b[38;5;28;43;01mfor\u001b[39;49;00m\u001b[43m \u001b[49m\u001b[43mchunk\u001b[49m\u001b[43m \u001b[49m\u001b[38;5;129;43;01min\u001b[39;49;00m\u001b[43m \u001b[49m\u001b[38;5;28;43mself\u001b[39;49m\u001b[38;5;241;43m.\u001b[39;49m\u001b[43m_connection\u001b[49m\u001b[38;5;241;43m.\u001b[39;49m\u001b[43m_receive_response_body\u001b[49m\u001b[43m(\u001b[49m\u001b[38;5;241;43m*\u001b[39;49m\u001b[38;5;241;43m*\u001b[39;49m\u001b[43mkwargs\u001b[49m\u001b[43m)\u001b[49m\u001b[43m:\u001b[49m\n\u001b[1;32m    335\u001b[0m \u001b[43m            \u001b[49m\u001b[38;5;28;43;01myield\u001b[39;49;00m\u001b[43m \u001b[49m\u001b[43mchunk\u001b[49m\n\u001b[1;32m    336\u001b[0m \u001b[38;5;28;01mexcept\u001b[39;00m \u001b[38;5;167;01mBaseException\u001b[39;00m \u001b[38;5;28;01mas\u001b[39;00m exc:\n\u001b[1;32m    337\u001b[0m     \u001b[38;5;66;03m# If we get an exception while streaming the response,\u001b[39;00m\n\u001b[1;32m    338\u001b[0m     \u001b[38;5;66;03m# we want to close the response (and possibly the connection)\u001b[39;00m\n\u001b[1;32m    339\u001b[0m     \u001b[38;5;66;03m# before raising that exception.\u001b[39;00m\n",
      "File \u001b[0;32m/opt/miniconda3/envs/maritime/lib/python3.11/site-packages/httpcore/_sync/http11.py:203\u001b[0m, in \u001b[0;36mHTTP11Connection._receive_response_body\u001b[0;34m(self, request)\u001b[0m\n\u001b[1;32m    200\u001b[0m timeout \u001b[38;5;241m=\u001b[39m timeouts\u001b[38;5;241m.\u001b[39mget(\u001b[38;5;124m\"\u001b[39m\u001b[38;5;124mread\u001b[39m\u001b[38;5;124m\"\u001b[39m, \u001b[38;5;28;01mNone\u001b[39;00m)\n\u001b[1;32m    202\u001b[0m \u001b[38;5;28;01mwhile\u001b[39;00m \u001b[38;5;28;01mTrue\u001b[39;00m:\n\u001b[0;32m--> 203\u001b[0m     event \u001b[38;5;241m=\u001b[39m \u001b[38;5;28;43mself\u001b[39;49m\u001b[38;5;241;43m.\u001b[39;49m\u001b[43m_receive_event\u001b[49m\u001b[43m(\u001b[49m\u001b[43mtimeout\u001b[49m\u001b[38;5;241;43m=\u001b[39;49m\u001b[43mtimeout\u001b[49m\u001b[43m)\u001b[49m\n\u001b[1;32m    204\u001b[0m     \u001b[38;5;28;01mif\u001b[39;00m \u001b[38;5;28misinstance\u001b[39m(event, h11\u001b[38;5;241m.\u001b[39mData):\n\u001b[1;32m    205\u001b[0m         \u001b[38;5;28;01myield\u001b[39;00m \u001b[38;5;28mbytes\u001b[39m(event\u001b[38;5;241m.\u001b[39mdata)\n",
      "File \u001b[0;32m/opt/miniconda3/envs/maritime/lib/python3.11/site-packages/httpcore/_sync/http11.py:217\u001b[0m, in \u001b[0;36mHTTP11Connection._receive_event\u001b[0;34m(self, timeout)\u001b[0m\n\u001b[1;32m    214\u001b[0m     event \u001b[38;5;241m=\u001b[39m \u001b[38;5;28mself\u001b[39m\u001b[38;5;241m.\u001b[39m_h11_state\u001b[38;5;241m.\u001b[39mnext_event()\n\u001b[1;32m    216\u001b[0m \u001b[38;5;28;01mif\u001b[39;00m event \u001b[38;5;129;01mis\u001b[39;00m h11\u001b[38;5;241m.\u001b[39mNEED_DATA:\n\u001b[0;32m--> 217\u001b[0m     data \u001b[38;5;241m=\u001b[39m \u001b[38;5;28;43mself\u001b[39;49m\u001b[38;5;241;43m.\u001b[39;49m\u001b[43m_network_stream\u001b[49m\u001b[38;5;241;43m.\u001b[39;49m\u001b[43mread\u001b[49m\u001b[43m(\u001b[49m\n\u001b[1;32m    218\u001b[0m \u001b[43m        \u001b[49m\u001b[38;5;28;43mself\u001b[39;49m\u001b[38;5;241;43m.\u001b[39;49m\u001b[43mREAD_NUM_BYTES\u001b[49m\u001b[43m,\u001b[49m\u001b[43m \u001b[49m\u001b[43mtimeout\u001b[49m\u001b[38;5;241;43m=\u001b[39;49m\u001b[43mtimeout\u001b[49m\n\u001b[1;32m    219\u001b[0m \u001b[43m    \u001b[49m\u001b[43m)\u001b[49m\n\u001b[1;32m    221\u001b[0m     \u001b[38;5;66;03m# If we feed this case through h11 we'll raise an exception like:\u001b[39;00m\n\u001b[1;32m    222\u001b[0m     \u001b[38;5;66;03m#\u001b[39;00m\n\u001b[1;32m    223\u001b[0m     \u001b[38;5;66;03m#     httpcore.RemoteProtocolError: can't handle event type\u001b[39;00m\n\u001b[0;32m   (...)\u001b[0m\n\u001b[1;32m    227\u001b[0m     \u001b[38;5;66;03m# perspective. Instead we handle this case distinctly and treat\u001b[39;00m\n\u001b[1;32m    228\u001b[0m     \u001b[38;5;66;03m# it as a ConnectError.\u001b[39;00m\n\u001b[1;32m    229\u001b[0m     \u001b[38;5;28;01mif\u001b[39;00m data \u001b[38;5;241m==\u001b[39m \u001b[38;5;124mb\u001b[39m\u001b[38;5;124m\"\u001b[39m\u001b[38;5;124m\"\u001b[39m \u001b[38;5;129;01mand\u001b[39;00m \u001b[38;5;28mself\u001b[39m\u001b[38;5;241m.\u001b[39m_h11_state\u001b[38;5;241m.\u001b[39mtheir_state \u001b[38;5;241m==\u001b[39m h11\u001b[38;5;241m.\u001b[39mSEND_RESPONSE:\n",
      "File \u001b[0;32m/opt/miniconda3/envs/maritime/lib/python3.11/site-packages/httpcore/_backends/sync.py:128\u001b[0m, in \u001b[0;36mSyncStream.read\u001b[0;34m(self, max_bytes, timeout)\u001b[0m\n\u001b[1;32m    126\u001b[0m \u001b[38;5;28;01mwith\u001b[39;00m map_exceptions(exc_map):\n\u001b[1;32m    127\u001b[0m     \u001b[38;5;28mself\u001b[39m\u001b[38;5;241m.\u001b[39m_sock\u001b[38;5;241m.\u001b[39msettimeout(timeout)\n\u001b[0;32m--> 128\u001b[0m     \u001b[38;5;28;01mreturn\u001b[39;00m \u001b[38;5;28;43mself\u001b[39;49m\u001b[38;5;241;43m.\u001b[39;49m\u001b[43m_sock\u001b[49m\u001b[38;5;241;43m.\u001b[39;49m\u001b[43mrecv\u001b[49m\u001b[43m(\u001b[49m\u001b[43mmax_bytes\u001b[49m\u001b[43m)\u001b[49m\n",
      "\u001b[0;31mKeyboardInterrupt\u001b[0m: "
     ]
    }
   ],
   "source": [
    "%%time\n",
    "\n",
    "evaluate_model_with_num_shots(\n",
    "    \"llama3.1:70b\",\n",
    "    data_path,\n",
    "    results_path=results_path,\n",
    "    ollama=True,\n",
    "    range_num_shots=[0, 1, 2, 4, 8, 10],\n",
    ")"
   ]
  },
  {
   "cell_type": "code",
   "execution_count": 17,
   "id": "de7a6338",
   "metadata": {},
   "outputs": [
    {
     "name": "stdout",
     "output_type": "stream",
     "text": [
      "Evaluating model: llama3.3:70b\n",
      "loading train/test data files\n",
      "DatasetDict({\n",
      "    train: Dataset({\n",
      "        features: ['id', 'Headline', 'Details', 'Severity', 'Region', 'Datetime', 'lat', 'lon', 'maritime_label', 'found_ports', 'contains_port_info', 'if_labeled', 'Headline_Details', 'Year', 'Month', 'Week', 'Details_cleaned', 'Category', 'Summarized_label', 'gpt-4o_label'],\n",
      "        num_rows: 4594\n",
      "    })\n",
      "    test: Dataset({\n",
      "        features: ['id', 'Headline', 'Details', 'Severity', 'Region', 'Datetime', 'lat', 'lon', 'maritime_label', 'found_ports', 'contains_port_info', 'if_labeled', 'Headline_Details', 'Year', 'Month', 'Week', 'Details_cleaned', 'Category', 'Summarized_label', 'gpt-4o_label'],\n",
      "        num_rows: 1147\n",
      "    })\n",
      "})\n",
      "* Evaluating with num_shots: 0\n",
      "Generating prompt templates for 0 shots with Headline_Details and Summarized_label\n"
     ]
    },
    {
     "name": "stderr",
     "output_type": "stream",
     "text": [
      "  0%|          | 3/1147 [1:24:52<539:27:01, 1697.57s/it]\n"
     ]
    },
    {
     "ename": "KeyboardInterrupt",
     "evalue": "",
     "output_type": "error",
     "traceback": [
      "\u001b[0;31m---------------------------------------------------------------------------\u001b[0m",
      "\u001b[0;31mKeyboardInterrupt\u001b[0m                         Traceback (most recent call last)",
      "File \u001b[0;32m<timed eval>:1\u001b[0m\n",
      "File \u001b[0;32m~/code/papers/maritime-incidents-ai-agents/llm_toolkit/eval_openai.py:49\u001b[0m, in \u001b[0;36mevaluate_model_with_num_shots\u001b[0;34m(model_name, data_path, results_path, range_num_shots, max_entries, input_column, output_column, result_column_name, cerebras, ollama, debug)\u001b[0m\n\u001b[1;32m     43\u001b[0m system_prompt, user_prompt \u001b[38;5;241m=\u001b[39m get_prompt_templates(\n\u001b[1;32m     44\u001b[0m     datasets[\u001b[38;5;124m\"\u001b[39m\u001b[38;5;124mtrain\u001b[39m\u001b[38;5;124m\"\u001b[39m], num_shots\u001b[38;5;241m=\u001b[39mnum_shots, input_column\u001b[38;5;241m=\u001b[39minput_column\n\u001b[1;32m     45\u001b[0m )\n\u001b[1;32m     47\u001b[0m start_time \u001b[38;5;241m=\u001b[39m time\u001b[38;5;241m.\u001b[39mtime()  \u001b[38;5;66;03m# Start time\u001b[39;00m\n\u001b[0;32m---> 49\u001b[0m predictions \u001b[38;5;241m=\u001b[39m \u001b[43meval_dataset_using_openai\u001b[49m\u001b[43m(\u001b[49m\n\u001b[1;32m     50\u001b[0m \u001b[43m    \u001b[49m\u001b[43msystem_prompt\u001b[49m\u001b[43m,\u001b[49m\n\u001b[1;32m     51\u001b[0m \u001b[43m    \u001b[49m\u001b[43muser_prompt\u001b[49m\u001b[43m,\u001b[49m\n\u001b[1;32m     52\u001b[0m \u001b[43m    \u001b[49m\u001b[43mdatasets\u001b[49m\u001b[43m[\u001b[49m\u001b[38;5;124;43m\"\u001b[39;49m\u001b[38;5;124;43mtest\u001b[39;49m\u001b[38;5;124;43m\"\u001b[39;49m\u001b[43m]\u001b[49m\u001b[43m,\u001b[49m\n\u001b[1;32m     53\u001b[0m \u001b[43m    \u001b[49m\u001b[43minput_column\u001b[49m\u001b[43m,\u001b[49m\n\u001b[1;32m     54\u001b[0m \u001b[43m    \u001b[49m\u001b[43mmodel\u001b[49m\u001b[38;5;241;43m=\u001b[39;49m\u001b[43mmodel_name\u001b[49m\u001b[43m,\u001b[49m\n\u001b[1;32m     55\u001b[0m \u001b[43m    \u001b[49m\u001b[43mbase_url\u001b[49m\u001b[38;5;241;43m=\u001b[39;49m\u001b[43m(\u001b[49m\n\u001b[1;32m     56\u001b[0m \u001b[43m        \u001b[49m\u001b[38;5;124;43m\"\u001b[39;49m\u001b[38;5;124;43mhttps://api.cerebras.ai/v1\u001b[39;49m\u001b[38;5;124;43m\"\u001b[39;49m\n\u001b[1;32m     57\u001b[0m \u001b[43m        \u001b[49m\u001b[38;5;28;43;01mif\u001b[39;49;00m\u001b[43m \u001b[49m\u001b[43mcerebras\u001b[49m\n\u001b[1;32m     58\u001b[0m \u001b[43m        \u001b[49m\u001b[38;5;28;43;01melse\u001b[39;49;00m\u001b[43m \u001b[49m\u001b[38;5;124;43m\"\u001b[39;49m\u001b[38;5;124;43mhttp://localhost:11434\u001b[39;49m\u001b[38;5;124;43m\"\u001b[39;49m\u001b[43m \u001b[49m\u001b[38;5;28;43;01mif\u001b[39;49;00m\u001b[43m \u001b[49m\u001b[43mollama\u001b[49m\u001b[43m \u001b[49m\u001b[38;5;28;43;01melse\u001b[39;49;00m\u001b[43m \u001b[49m\u001b[38;5;28;43;01mNone\u001b[39;49;00m\n\u001b[1;32m     59\u001b[0m \u001b[43m    \u001b[49m\u001b[43m)\u001b[49m\u001b[43m,\u001b[49m\n\u001b[1;32m     60\u001b[0m \u001b[43m    \u001b[49m\u001b[43mapi_key\u001b[49m\u001b[38;5;241;43m=\u001b[39;49m\u001b[43m(\u001b[49m\n\u001b[1;32m     61\u001b[0m \u001b[43m        \u001b[49m\u001b[43mos\u001b[49m\u001b[38;5;241;43m.\u001b[39;49m\u001b[43menviron\u001b[49m\u001b[38;5;241;43m.\u001b[39;49m\u001b[43mget\u001b[49m\u001b[43m(\u001b[49m\u001b[38;5;124;43m\"\u001b[39;49m\u001b[38;5;124;43mCEREBRAS_API_KEY\u001b[39;49m\u001b[38;5;124;43m\"\u001b[39;49m\u001b[43m)\u001b[49m\n\u001b[1;32m     62\u001b[0m \u001b[43m        \u001b[49m\u001b[38;5;28;43;01mif\u001b[39;49;00m\u001b[43m \u001b[49m\u001b[43mcerebras\u001b[49m\n\u001b[1;32m     63\u001b[0m \u001b[43m        \u001b[49m\u001b[38;5;28;43;01melse\u001b[39;49;00m\u001b[43m \u001b[49m\u001b[38;5;124;43m\"\u001b[39;49m\u001b[38;5;124;43mollama\u001b[39;49m\u001b[38;5;124;43m\"\u001b[39;49m\u001b[43m \u001b[49m\u001b[38;5;28;43;01mif\u001b[39;49;00m\u001b[43m \u001b[49m\u001b[43mollama\u001b[49m\u001b[43m \u001b[49m\u001b[38;5;28;43;01melse\u001b[39;49;00m\u001b[43m \u001b[49m\u001b[43mos\u001b[49m\u001b[38;5;241;43m.\u001b[39;49m\u001b[43menviron\u001b[49m\u001b[38;5;241;43m.\u001b[39;49m\u001b[43mget\u001b[49m\u001b[43m(\u001b[49m\u001b[38;5;124;43m\"\u001b[39;49m\u001b[38;5;124;43mOPENAI_API_KEY\u001b[39;49m\u001b[38;5;124;43m\"\u001b[39;49m\u001b[43m)\u001b[49m\n\u001b[1;32m     64\u001b[0m \u001b[43m    \u001b[49m\u001b[43m)\u001b[49m\u001b[43m,\u001b[49m\n\u001b[1;32m     65\u001b[0m \u001b[43m    \u001b[49m\u001b[43mdebug\u001b[49m\u001b[38;5;241;43m=\u001b[39;49m\u001b[43mdebug\u001b[49m\u001b[43m,\u001b[49m\n\u001b[1;32m     66\u001b[0m \u001b[43m\u001b[49m\u001b[43m)\u001b[49m\n\u001b[1;32m     68\u001b[0m end_time \u001b[38;5;241m=\u001b[39m time\u001b[38;5;241m.\u001b[39mtime()  \u001b[38;5;66;03m# End time\u001b[39;00m\n\u001b[1;32m     69\u001b[0m exec_time \u001b[38;5;241m=\u001b[39m end_time \u001b[38;5;241m-\u001b[39m start_time  \u001b[38;5;66;03m# Execution time\u001b[39;00m\n",
      "File \u001b[0;32m~/code/papers/maritime-incidents-ai-agents/llm_toolkit/llm_utils.py:485\u001b[0m, in \u001b[0;36meval_dataset_using_openai\u001b[0;34m(system_prompt, user_prompt, eval_dataset, input_column, model, max_new_tokens, base_url, api_key, debug)\u001b[0m\n\u001b[1;32m    482\u001b[0m predictions \u001b[38;5;241m=\u001b[39m []\n\u001b[1;32m    484\u001b[0m \u001b[38;5;28;01mfor\u001b[39;00m i \u001b[38;5;129;01min\u001b[39;00m tqdm(\u001b[38;5;28mrange\u001b[39m(total)):\n\u001b[0;32m--> 485\u001b[0m     output \u001b[38;5;241m=\u001b[39m \u001b[43minvoke_openai_model\u001b[49m\u001b[43m(\u001b[49m\n\u001b[1;32m    486\u001b[0m \u001b[43m        \u001b[49m\u001b[43msystem_prompt\u001b[49m\u001b[43m,\u001b[49m\n\u001b[1;32m    487\u001b[0m \u001b[43m        \u001b[49m\u001b[43muser_prompt\u001b[49m\u001b[43m,\u001b[49m\n\u001b[1;32m    488\u001b[0m \u001b[43m        \u001b[49m\u001b[43meval_dataset\u001b[49m\u001b[43m[\u001b[49m\u001b[43minput_column\u001b[49m\u001b[43m]\u001b[49m\u001b[43m[\u001b[49m\u001b[43mi\u001b[49m\u001b[43m]\u001b[49m\u001b[43m,\u001b[49m\n\u001b[1;32m    489\u001b[0m \u001b[43m        \u001b[49m\u001b[43mmodel\u001b[49m\u001b[38;5;241;43m=\u001b[39;49m\u001b[43mmodel\u001b[49m\u001b[43m,\u001b[49m\n\u001b[1;32m    490\u001b[0m \u001b[43m        \u001b[49m\u001b[43mmax_tokens\u001b[49m\u001b[38;5;241;43m=\u001b[39;49m\u001b[43mmax_new_tokens\u001b[49m\u001b[43m,\u001b[49m\n\u001b[1;32m    491\u001b[0m \u001b[43m        \u001b[49m\u001b[43mbase_url\u001b[49m\u001b[38;5;241;43m=\u001b[39;49m\u001b[43mbase_url\u001b[49m\u001b[43m,\u001b[49m\n\u001b[1;32m    492\u001b[0m \u001b[43m        \u001b[49m\u001b[43mapi_key\u001b[49m\u001b[38;5;241;43m=\u001b[39;49m\u001b[43mapi_key\u001b[49m\u001b[43m,\u001b[49m\n\u001b[1;32m    493\u001b[0m \u001b[43m        \u001b[49m\u001b[43mdebug\u001b[49m\u001b[38;5;241;43m=\u001b[39;49m\u001b[43mi\u001b[49m\u001b[43m \u001b[49m\u001b[38;5;241;43m==\u001b[39;49m\u001b[43m \u001b[49m\u001b[38;5;241;43m0\u001b[39;49m\u001b[43m \u001b[49m\u001b[38;5;129;43;01mand\u001b[39;49;00m\u001b[43m \u001b[49m\u001b[43mdebug\u001b[49m\u001b[43m,\u001b[49m\n\u001b[1;32m    494\u001b[0m \u001b[43m    \u001b[49m\u001b[43m)\u001b[49m\n\u001b[1;32m    495\u001b[0m     predictions\u001b[38;5;241m.\u001b[39mappend(output)\n\u001b[1;32m    497\u001b[0m \u001b[38;5;28;01mreturn\u001b[39;00m predictions\n",
      "File \u001b[0;32m~/code/papers/maritime-incidents-ai-agents/llm_toolkit/llm_utils.py:458\u001b[0m, in \u001b[0;36minvoke_openai_model\u001b[0;34m(system_prompt, user_prompt, input, max_tokens, model, base_url, api_key, debug)\u001b[0m\n\u001b[1;32m    444\u001b[0m prompt \u001b[38;5;241m=\u001b[39m ChatPromptTemplate\u001b[38;5;241m.\u001b[39mfrom_messages(\n\u001b[1;32m    445\u001b[0m     [\n\u001b[1;32m    446\u001b[0m         (\n\u001b[0;32m   (...)\u001b[0m\n\u001b[1;32m    454\u001b[0m     ]\n\u001b[1;32m    455\u001b[0m )\n\u001b[1;32m    457\u001b[0m chain \u001b[38;5;241m=\u001b[39m prompt \u001b[38;5;241m|\u001b[39m llm\n\u001b[0;32m--> 458\u001b[0m response \u001b[38;5;241m=\u001b[39m \u001b[43mchain\u001b[49m\u001b[38;5;241;43m.\u001b[39;49m\u001b[43minvoke\u001b[49m\u001b[43m(\u001b[49m\n\u001b[1;32m    459\u001b[0m \u001b[43m    \u001b[49m\u001b[43m{\u001b[49m\n\u001b[1;32m    460\u001b[0m \u001b[43m        \u001b[49m\u001b[38;5;124;43m\"\u001b[39;49m\u001b[38;5;124;43minput\u001b[39;49m\u001b[38;5;124;43m\"\u001b[39;49m\u001b[43m:\u001b[49m\u001b[43m \u001b[49m\u001b[38;5;28;43minput\u001b[39;49m\u001b[43m,\u001b[49m\n\u001b[1;32m    461\u001b[0m \u001b[43m    \u001b[49m\u001b[43m}\u001b[49m\n\u001b[1;32m    462\u001b[0m \u001b[43m\u001b[49m\u001b[43m)\u001b[49m\n\u001b[1;32m    464\u001b[0m \u001b[38;5;28;01mif\u001b[39;00m debug:\n\u001b[1;32m    465\u001b[0m     set_debug_mode(\u001b[38;5;28;01mFalse\u001b[39;00m)\n",
      "File \u001b[0;32m/opt/miniconda3/envs/maritime/lib/python3.11/site-packages/langchain_core/runnables/base.py:3024\u001b[0m, in \u001b[0;36mRunnableSequence.invoke\u001b[0;34m(self, input, config, **kwargs)\u001b[0m\n\u001b[1;32m   3022\u001b[0m             \u001b[38;5;28minput\u001b[39m \u001b[38;5;241m=\u001b[39m context\u001b[38;5;241m.\u001b[39mrun(step\u001b[38;5;241m.\u001b[39minvoke, \u001b[38;5;28minput\u001b[39m, config, \u001b[38;5;241m*\u001b[39m\u001b[38;5;241m*\u001b[39mkwargs)\n\u001b[1;32m   3023\u001b[0m         \u001b[38;5;28;01melse\u001b[39;00m:\n\u001b[0;32m-> 3024\u001b[0m             \u001b[38;5;28minput\u001b[39m \u001b[38;5;241m=\u001b[39m context\u001b[38;5;241m.\u001b[39mrun(step\u001b[38;5;241m.\u001b[39minvoke, \u001b[38;5;28minput\u001b[39m, config)\n\u001b[1;32m   3025\u001b[0m \u001b[38;5;66;03m# finish the root run\u001b[39;00m\n\u001b[1;32m   3026\u001b[0m \u001b[38;5;28;01mexcept\u001b[39;00m \u001b[38;5;167;01mBaseException\u001b[39;00m \u001b[38;5;28;01mas\u001b[39;00m e:\n",
      "File \u001b[0;32m/opt/miniconda3/envs/maritime/lib/python3.11/site-packages/langchain_core/language_models/chat_models.py:286\u001b[0m, in \u001b[0;36mBaseChatModel.invoke\u001b[0;34m(self, input, config, stop, **kwargs)\u001b[0m\n\u001b[1;32m    275\u001b[0m \u001b[38;5;28;01mdef\u001b[39;00m \u001b[38;5;21minvoke\u001b[39m(\n\u001b[1;32m    276\u001b[0m     \u001b[38;5;28mself\u001b[39m,\n\u001b[1;32m    277\u001b[0m     \u001b[38;5;28minput\u001b[39m: LanguageModelInput,\n\u001b[0;32m   (...)\u001b[0m\n\u001b[1;32m    281\u001b[0m     \u001b[38;5;241m*\u001b[39m\u001b[38;5;241m*\u001b[39mkwargs: Any,\n\u001b[1;32m    282\u001b[0m ) \u001b[38;5;241m-\u001b[39m\u001b[38;5;241m>\u001b[39m BaseMessage:\n\u001b[1;32m    283\u001b[0m     config \u001b[38;5;241m=\u001b[39m ensure_config(config)\n\u001b[1;32m    284\u001b[0m     \u001b[38;5;28;01mreturn\u001b[39;00m cast(\n\u001b[1;32m    285\u001b[0m         ChatGeneration,\n\u001b[0;32m--> 286\u001b[0m         \u001b[38;5;28;43mself\u001b[39;49m\u001b[38;5;241;43m.\u001b[39;49m\u001b[43mgenerate_prompt\u001b[49m\u001b[43m(\u001b[49m\n\u001b[1;32m    287\u001b[0m \u001b[43m            \u001b[49m\u001b[43m[\u001b[49m\u001b[38;5;28;43mself\u001b[39;49m\u001b[38;5;241;43m.\u001b[39;49m\u001b[43m_convert_input\u001b[49m\u001b[43m(\u001b[49m\u001b[38;5;28;43minput\u001b[39;49m\u001b[43m)\u001b[49m\u001b[43m]\u001b[49m\u001b[43m,\u001b[49m\n\u001b[1;32m    288\u001b[0m \u001b[43m            \u001b[49m\u001b[43mstop\u001b[49m\u001b[38;5;241;43m=\u001b[39;49m\u001b[43mstop\u001b[49m\u001b[43m,\u001b[49m\n\u001b[1;32m    289\u001b[0m \u001b[43m            \u001b[49m\u001b[43mcallbacks\u001b[49m\u001b[38;5;241;43m=\u001b[39;49m\u001b[43mconfig\u001b[49m\u001b[38;5;241;43m.\u001b[39;49m\u001b[43mget\u001b[49m\u001b[43m(\u001b[49m\u001b[38;5;124;43m\"\u001b[39;49m\u001b[38;5;124;43mcallbacks\u001b[39;49m\u001b[38;5;124;43m\"\u001b[39;49m\u001b[43m)\u001b[49m\u001b[43m,\u001b[49m\n\u001b[1;32m    290\u001b[0m \u001b[43m            \u001b[49m\u001b[43mtags\u001b[49m\u001b[38;5;241;43m=\u001b[39;49m\u001b[43mconfig\u001b[49m\u001b[38;5;241;43m.\u001b[39;49m\u001b[43mget\u001b[49m\u001b[43m(\u001b[49m\u001b[38;5;124;43m\"\u001b[39;49m\u001b[38;5;124;43mtags\u001b[39;49m\u001b[38;5;124;43m\"\u001b[39;49m\u001b[43m)\u001b[49m\u001b[43m,\u001b[49m\n\u001b[1;32m    291\u001b[0m \u001b[43m            \u001b[49m\u001b[43mmetadata\u001b[49m\u001b[38;5;241;43m=\u001b[39;49m\u001b[43mconfig\u001b[49m\u001b[38;5;241;43m.\u001b[39;49m\u001b[43mget\u001b[49m\u001b[43m(\u001b[49m\u001b[38;5;124;43m\"\u001b[39;49m\u001b[38;5;124;43mmetadata\u001b[39;49m\u001b[38;5;124;43m\"\u001b[39;49m\u001b[43m)\u001b[49m\u001b[43m,\u001b[49m\n\u001b[1;32m    292\u001b[0m \u001b[43m            \u001b[49m\u001b[43mrun_name\u001b[49m\u001b[38;5;241;43m=\u001b[39;49m\u001b[43mconfig\u001b[49m\u001b[38;5;241;43m.\u001b[39;49m\u001b[43mget\u001b[49m\u001b[43m(\u001b[49m\u001b[38;5;124;43m\"\u001b[39;49m\u001b[38;5;124;43mrun_name\u001b[39;49m\u001b[38;5;124;43m\"\u001b[39;49m\u001b[43m)\u001b[49m\u001b[43m,\u001b[49m\n\u001b[1;32m    293\u001b[0m \u001b[43m            \u001b[49m\u001b[43mrun_id\u001b[49m\u001b[38;5;241;43m=\u001b[39;49m\u001b[43mconfig\u001b[49m\u001b[38;5;241;43m.\u001b[39;49m\u001b[43mpop\u001b[49m\u001b[43m(\u001b[49m\u001b[38;5;124;43m\"\u001b[39;49m\u001b[38;5;124;43mrun_id\u001b[39;49m\u001b[38;5;124;43m\"\u001b[39;49m\u001b[43m,\u001b[49m\u001b[43m \u001b[49m\u001b[38;5;28;43;01mNone\u001b[39;49;00m\u001b[43m)\u001b[49m\u001b[43m,\u001b[49m\n\u001b[1;32m    294\u001b[0m \u001b[43m            \u001b[49m\u001b[38;5;241;43m*\u001b[39;49m\u001b[38;5;241;43m*\u001b[39;49m\u001b[43mkwargs\u001b[49m\u001b[43m,\u001b[49m\n\u001b[1;32m    295\u001b[0m \u001b[43m        \u001b[49m\u001b[43m)\u001b[49m\u001b[38;5;241m.\u001b[39mgenerations[\u001b[38;5;241m0\u001b[39m][\u001b[38;5;241m0\u001b[39m],\n\u001b[1;32m    296\u001b[0m     )\u001b[38;5;241m.\u001b[39mmessage\n",
      "File \u001b[0;32m/opt/miniconda3/envs/maritime/lib/python3.11/site-packages/langchain_core/language_models/chat_models.py:786\u001b[0m, in \u001b[0;36mBaseChatModel.generate_prompt\u001b[0;34m(self, prompts, stop, callbacks, **kwargs)\u001b[0m\n\u001b[1;32m    778\u001b[0m \u001b[38;5;28;01mdef\u001b[39;00m \u001b[38;5;21mgenerate_prompt\u001b[39m(\n\u001b[1;32m    779\u001b[0m     \u001b[38;5;28mself\u001b[39m,\n\u001b[1;32m    780\u001b[0m     prompts: \u001b[38;5;28mlist\u001b[39m[PromptValue],\n\u001b[0;32m   (...)\u001b[0m\n\u001b[1;32m    783\u001b[0m     \u001b[38;5;241m*\u001b[39m\u001b[38;5;241m*\u001b[39mkwargs: Any,\n\u001b[1;32m    784\u001b[0m ) \u001b[38;5;241m-\u001b[39m\u001b[38;5;241m>\u001b[39m LLMResult:\n\u001b[1;32m    785\u001b[0m     prompt_messages \u001b[38;5;241m=\u001b[39m [p\u001b[38;5;241m.\u001b[39mto_messages() \u001b[38;5;28;01mfor\u001b[39;00m p \u001b[38;5;129;01min\u001b[39;00m prompts]\n\u001b[0;32m--> 786\u001b[0m     \u001b[38;5;28;01mreturn\u001b[39;00m \u001b[38;5;28;43mself\u001b[39;49m\u001b[38;5;241;43m.\u001b[39;49m\u001b[43mgenerate\u001b[49m\u001b[43m(\u001b[49m\u001b[43mprompt_messages\u001b[49m\u001b[43m,\u001b[49m\u001b[43m \u001b[49m\u001b[43mstop\u001b[49m\u001b[38;5;241;43m=\u001b[39;49m\u001b[43mstop\u001b[49m\u001b[43m,\u001b[49m\u001b[43m \u001b[49m\u001b[43mcallbacks\u001b[49m\u001b[38;5;241;43m=\u001b[39;49m\u001b[43mcallbacks\u001b[49m\u001b[43m,\u001b[49m\u001b[43m \u001b[49m\u001b[38;5;241;43m*\u001b[39;49m\u001b[38;5;241;43m*\u001b[39;49m\u001b[43mkwargs\u001b[49m\u001b[43m)\u001b[49m\n",
      "File \u001b[0;32m/opt/miniconda3/envs/maritime/lib/python3.11/site-packages/langchain_core/language_models/chat_models.py:643\u001b[0m, in \u001b[0;36mBaseChatModel.generate\u001b[0;34m(self, messages, stop, callbacks, tags, metadata, run_name, run_id, **kwargs)\u001b[0m\n\u001b[1;32m    641\u001b[0m         \u001b[38;5;28;01mif\u001b[39;00m run_managers:\n\u001b[1;32m    642\u001b[0m             run_managers[i]\u001b[38;5;241m.\u001b[39mon_llm_error(e, response\u001b[38;5;241m=\u001b[39mLLMResult(generations\u001b[38;5;241m=\u001b[39m[]))\n\u001b[0;32m--> 643\u001b[0m         \u001b[38;5;28;01mraise\u001b[39;00m e\n\u001b[1;32m    644\u001b[0m flattened_outputs \u001b[38;5;241m=\u001b[39m [\n\u001b[1;32m    645\u001b[0m     LLMResult(generations\u001b[38;5;241m=\u001b[39m[res\u001b[38;5;241m.\u001b[39mgenerations], llm_output\u001b[38;5;241m=\u001b[39mres\u001b[38;5;241m.\u001b[39mllm_output)  \u001b[38;5;66;03m# type: ignore[list-item]\u001b[39;00m\n\u001b[1;32m    646\u001b[0m     \u001b[38;5;28;01mfor\u001b[39;00m res \u001b[38;5;129;01min\u001b[39;00m results\n\u001b[1;32m    647\u001b[0m ]\n\u001b[1;32m    648\u001b[0m llm_output \u001b[38;5;241m=\u001b[39m \u001b[38;5;28mself\u001b[39m\u001b[38;5;241m.\u001b[39m_combine_llm_outputs([res\u001b[38;5;241m.\u001b[39mllm_output \u001b[38;5;28;01mfor\u001b[39;00m res \u001b[38;5;129;01min\u001b[39;00m results])\n",
      "File \u001b[0;32m/opt/miniconda3/envs/maritime/lib/python3.11/site-packages/langchain_core/language_models/chat_models.py:633\u001b[0m, in \u001b[0;36mBaseChatModel.generate\u001b[0;34m(self, messages, stop, callbacks, tags, metadata, run_name, run_id, **kwargs)\u001b[0m\n\u001b[1;32m    630\u001b[0m \u001b[38;5;28;01mfor\u001b[39;00m i, m \u001b[38;5;129;01min\u001b[39;00m \u001b[38;5;28menumerate\u001b[39m(messages):\n\u001b[1;32m    631\u001b[0m     \u001b[38;5;28;01mtry\u001b[39;00m:\n\u001b[1;32m    632\u001b[0m         results\u001b[38;5;241m.\u001b[39mappend(\n\u001b[0;32m--> 633\u001b[0m             \u001b[38;5;28;43mself\u001b[39;49m\u001b[38;5;241;43m.\u001b[39;49m\u001b[43m_generate_with_cache\u001b[49m\u001b[43m(\u001b[49m\n\u001b[1;32m    634\u001b[0m \u001b[43m                \u001b[49m\u001b[43mm\u001b[49m\u001b[43m,\u001b[49m\n\u001b[1;32m    635\u001b[0m \u001b[43m                \u001b[49m\u001b[43mstop\u001b[49m\u001b[38;5;241;43m=\u001b[39;49m\u001b[43mstop\u001b[49m\u001b[43m,\u001b[49m\n\u001b[1;32m    636\u001b[0m \u001b[43m                \u001b[49m\u001b[43mrun_manager\u001b[49m\u001b[38;5;241;43m=\u001b[39;49m\u001b[43mrun_managers\u001b[49m\u001b[43m[\u001b[49m\u001b[43mi\u001b[49m\u001b[43m]\u001b[49m\u001b[43m \u001b[49m\u001b[38;5;28;43;01mif\u001b[39;49;00m\u001b[43m \u001b[49m\u001b[43mrun_managers\u001b[49m\u001b[43m \u001b[49m\u001b[38;5;28;43;01melse\u001b[39;49;00m\u001b[43m \u001b[49m\u001b[38;5;28;43;01mNone\u001b[39;49;00m\u001b[43m,\u001b[49m\n\u001b[1;32m    637\u001b[0m \u001b[43m                \u001b[49m\u001b[38;5;241;43m*\u001b[39;49m\u001b[38;5;241;43m*\u001b[39;49m\u001b[43mkwargs\u001b[49m\u001b[43m,\u001b[49m\n\u001b[1;32m    638\u001b[0m \u001b[43m            \u001b[49m\u001b[43m)\u001b[49m\n\u001b[1;32m    639\u001b[0m         )\n\u001b[1;32m    640\u001b[0m     \u001b[38;5;28;01mexcept\u001b[39;00m \u001b[38;5;167;01mBaseException\u001b[39;00m \u001b[38;5;28;01mas\u001b[39;00m e:\n\u001b[1;32m    641\u001b[0m         \u001b[38;5;28;01mif\u001b[39;00m run_managers:\n",
      "File \u001b[0;32m/opt/miniconda3/envs/maritime/lib/python3.11/site-packages/langchain_core/language_models/chat_models.py:851\u001b[0m, in \u001b[0;36mBaseChatModel._generate_with_cache\u001b[0;34m(self, messages, stop, run_manager, **kwargs)\u001b[0m\n\u001b[1;32m    849\u001b[0m \u001b[38;5;28;01melse\u001b[39;00m:\n\u001b[1;32m    850\u001b[0m     \u001b[38;5;28;01mif\u001b[39;00m inspect\u001b[38;5;241m.\u001b[39msignature(\u001b[38;5;28mself\u001b[39m\u001b[38;5;241m.\u001b[39m_generate)\u001b[38;5;241m.\u001b[39mparameters\u001b[38;5;241m.\u001b[39mget(\u001b[38;5;124m\"\u001b[39m\u001b[38;5;124mrun_manager\u001b[39m\u001b[38;5;124m\"\u001b[39m):\n\u001b[0;32m--> 851\u001b[0m         result \u001b[38;5;241m=\u001b[39m \u001b[38;5;28;43mself\u001b[39;49m\u001b[38;5;241;43m.\u001b[39;49m\u001b[43m_generate\u001b[49m\u001b[43m(\u001b[49m\n\u001b[1;32m    852\u001b[0m \u001b[43m            \u001b[49m\u001b[43mmessages\u001b[49m\u001b[43m,\u001b[49m\u001b[43m \u001b[49m\u001b[43mstop\u001b[49m\u001b[38;5;241;43m=\u001b[39;49m\u001b[43mstop\u001b[49m\u001b[43m,\u001b[49m\u001b[43m \u001b[49m\u001b[43mrun_manager\u001b[49m\u001b[38;5;241;43m=\u001b[39;49m\u001b[43mrun_manager\u001b[49m\u001b[43m,\u001b[49m\u001b[43m \u001b[49m\u001b[38;5;241;43m*\u001b[39;49m\u001b[38;5;241;43m*\u001b[39;49m\u001b[43mkwargs\u001b[49m\n\u001b[1;32m    853\u001b[0m \u001b[43m        \u001b[49m\u001b[43m)\u001b[49m\n\u001b[1;32m    854\u001b[0m     \u001b[38;5;28;01melse\u001b[39;00m:\n\u001b[1;32m    855\u001b[0m         result \u001b[38;5;241m=\u001b[39m \u001b[38;5;28mself\u001b[39m\u001b[38;5;241m.\u001b[39m_generate(messages, stop\u001b[38;5;241m=\u001b[39mstop, \u001b[38;5;241m*\u001b[39m\u001b[38;5;241m*\u001b[39mkwargs)\n",
      "File \u001b[0;32m/opt/miniconda3/envs/maritime/lib/python3.11/site-packages/langchain_ollama/chat_models.py:690\u001b[0m, in \u001b[0;36mChatOllama._generate\u001b[0;34m(self, messages, stop, run_manager, **kwargs)\u001b[0m\n\u001b[1;32m    683\u001b[0m \u001b[38;5;28;01mdef\u001b[39;00m \u001b[38;5;21m_generate\u001b[39m(\n\u001b[1;32m    684\u001b[0m     \u001b[38;5;28mself\u001b[39m,\n\u001b[1;32m    685\u001b[0m     messages: List[BaseMessage],\n\u001b[0;32m   (...)\u001b[0m\n\u001b[1;32m    688\u001b[0m     \u001b[38;5;241m*\u001b[39m\u001b[38;5;241m*\u001b[39mkwargs: Any,\n\u001b[1;32m    689\u001b[0m ) \u001b[38;5;241m-\u001b[39m\u001b[38;5;241m>\u001b[39m ChatResult:\n\u001b[0;32m--> 690\u001b[0m     final_chunk \u001b[38;5;241m=\u001b[39m \u001b[38;5;28;43mself\u001b[39;49m\u001b[38;5;241;43m.\u001b[39;49m\u001b[43m_chat_stream_with_aggregation\u001b[49m\u001b[43m(\u001b[49m\n\u001b[1;32m    691\u001b[0m \u001b[43m        \u001b[49m\u001b[43mmessages\u001b[49m\u001b[43m,\u001b[49m\u001b[43m \u001b[49m\u001b[43mstop\u001b[49m\u001b[43m,\u001b[49m\u001b[43m \u001b[49m\u001b[43mrun_manager\u001b[49m\u001b[43m,\u001b[49m\u001b[43m \u001b[49m\u001b[43mverbose\u001b[49m\u001b[38;5;241;43m=\u001b[39;49m\u001b[38;5;28;43mself\u001b[39;49m\u001b[38;5;241;43m.\u001b[39;49m\u001b[43mverbose\u001b[49m\u001b[43m,\u001b[49m\u001b[43m \u001b[49m\u001b[38;5;241;43m*\u001b[39;49m\u001b[38;5;241;43m*\u001b[39;49m\u001b[43mkwargs\u001b[49m\n\u001b[1;32m    692\u001b[0m \u001b[43m    \u001b[49m\u001b[43m)\u001b[49m\n\u001b[1;32m    693\u001b[0m     generation_info \u001b[38;5;241m=\u001b[39m final_chunk\u001b[38;5;241m.\u001b[39mgeneration_info\n\u001b[1;32m    694\u001b[0m     chat_generation \u001b[38;5;241m=\u001b[39m ChatGeneration(\n\u001b[1;32m    695\u001b[0m         message\u001b[38;5;241m=\u001b[39mAIMessage(\n\u001b[1;32m    696\u001b[0m             content\u001b[38;5;241m=\u001b[39mfinal_chunk\u001b[38;5;241m.\u001b[39mtext,\n\u001b[0;32m   (...)\u001b[0m\n\u001b[1;32m    700\u001b[0m         generation_info\u001b[38;5;241m=\u001b[39mgeneration_info,\n\u001b[1;32m    701\u001b[0m     )\n",
      "File \u001b[0;32m/opt/miniconda3/envs/maritime/lib/python3.11/site-packages/langchain_ollama/chat_models.py:591\u001b[0m, in \u001b[0;36mChatOllama._chat_stream_with_aggregation\u001b[0;34m(self, messages, stop, run_manager, verbose, **kwargs)\u001b[0m\n\u001b[1;32m    582\u001b[0m \u001b[38;5;28;01mdef\u001b[39;00m \u001b[38;5;21m_chat_stream_with_aggregation\u001b[39m(\n\u001b[1;32m    583\u001b[0m     \u001b[38;5;28mself\u001b[39m,\n\u001b[1;32m    584\u001b[0m     messages: List[BaseMessage],\n\u001b[0;32m   (...)\u001b[0m\n\u001b[1;32m    588\u001b[0m     \u001b[38;5;241m*\u001b[39m\u001b[38;5;241m*\u001b[39mkwargs: Any,\n\u001b[1;32m    589\u001b[0m ) \u001b[38;5;241m-\u001b[39m\u001b[38;5;241m>\u001b[39m ChatGenerationChunk:\n\u001b[1;32m    590\u001b[0m     final_chunk \u001b[38;5;241m=\u001b[39m \u001b[38;5;28;01mNone\u001b[39;00m\n\u001b[0;32m--> 591\u001b[0m \u001b[43m    \u001b[49m\u001b[38;5;28;43;01mfor\u001b[39;49;00m\u001b[43m \u001b[49m\u001b[43mstream_resp\u001b[49m\u001b[43m \u001b[49m\u001b[38;5;129;43;01min\u001b[39;49;00m\u001b[43m \u001b[49m\u001b[38;5;28;43mself\u001b[39;49m\u001b[38;5;241;43m.\u001b[39;49m\u001b[43m_create_chat_stream\u001b[49m\u001b[43m(\u001b[49m\u001b[43mmessages\u001b[49m\u001b[43m,\u001b[49m\u001b[43m \u001b[49m\u001b[43mstop\u001b[49m\u001b[43m,\u001b[49m\u001b[43m \u001b[49m\u001b[38;5;241;43m*\u001b[39;49m\u001b[38;5;241;43m*\u001b[39;49m\u001b[43mkwargs\u001b[49m\u001b[43m)\u001b[49m\u001b[43m:\u001b[49m\n\u001b[1;32m    592\u001b[0m \u001b[43m        \u001b[49m\u001b[38;5;28;43;01mif\u001b[39;49;00m\u001b[43m \u001b[49m\u001b[38;5;129;43;01mnot\u001b[39;49;00m\u001b[43m \u001b[49m\u001b[38;5;28;43misinstance\u001b[39;49m\u001b[43m(\u001b[49m\u001b[43mstream_resp\u001b[49m\u001b[43m,\u001b[49m\u001b[43m \u001b[49m\u001b[38;5;28;43mstr\u001b[39;49m\u001b[43m)\u001b[49m\u001b[43m:\u001b[49m\n\u001b[1;32m    593\u001b[0m \u001b[43m            \u001b[49m\u001b[43mchunk\u001b[49m\u001b[43m \u001b[49m\u001b[38;5;241;43m=\u001b[39;49m\u001b[43m \u001b[49m\u001b[43mChatGenerationChunk\u001b[49m\u001b[43m(\u001b[49m\n\u001b[1;32m    594\u001b[0m \u001b[43m                \u001b[49m\u001b[43mmessage\u001b[49m\u001b[38;5;241;43m=\u001b[39;49m\u001b[43mAIMessageChunk\u001b[49m\u001b[43m(\u001b[49m\n\u001b[1;32m    595\u001b[0m \u001b[43m                    \u001b[49m\u001b[43mcontent\u001b[49m\u001b[38;5;241;43m=\u001b[39;49m\u001b[43m(\u001b[49m\n\u001b[0;32m   (...)\u001b[0m\n\u001b[1;32m    608\u001b[0m \u001b[43m                \u001b[49m\u001b[43m)\u001b[49m\u001b[43m,\u001b[49m\n\u001b[1;32m    609\u001b[0m \u001b[43m            \u001b[49m\u001b[43m)\u001b[49m\n",
      "File \u001b[0;32m/opt/miniconda3/envs/maritime/lib/python3.11/site-packages/langchain_ollama/chat_models.py:578\u001b[0m, in \u001b[0;36mChatOllama._create_chat_stream\u001b[0;34m(self, messages, stop, **kwargs)\u001b[0m\n\u001b[1;32m    575\u001b[0m chat_params \u001b[38;5;241m=\u001b[39m \u001b[38;5;28mself\u001b[39m\u001b[38;5;241m.\u001b[39m_chat_params(messages, stop, \u001b[38;5;241m*\u001b[39m\u001b[38;5;241m*\u001b[39mkwargs)\n\u001b[1;32m    577\u001b[0m \u001b[38;5;28;01mif\u001b[39;00m chat_params[\u001b[38;5;124m\"\u001b[39m\u001b[38;5;124mstream\u001b[39m\u001b[38;5;124m\"\u001b[39m]:\n\u001b[0;32m--> 578\u001b[0m     \u001b[38;5;28;01myield from\u001b[39;00m \u001b[38;5;28mself\u001b[39m\u001b[38;5;241m.\u001b[39m_client\u001b[38;5;241m.\u001b[39mchat(\u001b[38;5;241m*\u001b[39m\u001b[38;5;241m*\u001b[39mchat_params)\n\u001b[1;32m    579\u001b[0m \u001b[38;5;28;01melse\u001b[39;00m:\n\u001b[1;32m    580\u001b[0m     \u001b[38;5;28;01myield\u001b[39;00m \u001b[38;5;28mself\u001b[39m\u001b[38;5;241m.\u001b[39m_client\u001b[38;5;241m.\u001b[39mchat(\u001b[38;5;241m*\u001b[39m\u001b[38;5;241m*\u001b[39mchat_params)\n",
      "File \u001b[0;32m/opt/miniconda3/envs/maritime/lib/python3.11/site-packages/ollama/_client.py:169\u001b[0m, in \u001b[0;36mClient._request.<locals>.inner\u001b[0;34m()\u001b[0m\n\u001b[1;32m    166\u001b[0m   e\u001b[38;5;241m.\u001b[39mresponse\u001b[38;5;241m.\u001b[39mread()\n\u001b[1;32m    167\u001b[0m   \u001b[38;5;28;01mraise\u001b[39;00m ResponseError(e\u001b[38;5;241m.\u001b[39mresponse\u001b[38;5;241m.\u001b[39mtext, e\u001b[38;5;241m.\u001b[39mresponse\u001b[38;5;241m.\u001b[39mstatus_code) \u001b[38;5;28;01mfrom\u001b[39;00m \u001b[38;5;28;01mNone\u001b[39;00m\n\u001b[0;32m--> 169\u001b[0m \u001b[43m\u001b[49m\u001b[38;5;28;43;01mfor\u001b[39;49;00m\u001b[43m \u001b[49m\u001b[43mline\u001b[49m\u001b[43m \u001b[49m\u001b[38;5;129;43;01min\u001b[39;49;00m\u001b[43m \u001b[49m\u001b[43mr\u001b[49m\u001b[38;5;241;43m.\u001b[39;49m\u001b[43miter_lines\u001b[49m\u001b[43m(\u001b[49m\u001b[43m)\u001b[49m\u001b[43m:\u001b[49m\n\u001b[1;32m    170\u001b[0m \u001b[43m  \u001b[49m\u001b[43mpart\u001b[49m\u001b[43m \u001b[49m\u001b[38;5;241;43m=\u001b[39;49m\u001b[43m \u001b[49m\u001b[43mjson\u001b[49m\u001b[38;5;241;43m.\u001b[39;49m\u001b[43mloads\u001b[49m\u001b[43m(\u001b[49m\u001b[43mline\u001b[49m\u001b[43m)\u001b[49m\n\u001b[1;32m    171\u001b[0m \u001b[43m  \u001b[49m\u001b[38;5;28;43;01mif\u001b[39;49;00m\u001b[43m \u001b[49m\u001b[43merr\u001b[49m\u001b[43m \u001b[49m\u001b[38;5;241;43m:=\u001b[39;49m\u001b[43m \u001b[49m\u001b[43mpart\u001b[49m\u001b[38;5;241;43m.\u001b[39;49m\u001b[43mget\u001b[49m\u001b[43m(\u001b[49m\u001b[38;5;124;43m'\u001b[39;49m\u001b[38;5;124;43merror\u001b[39;49m\u001b[38;5;124;43m'\u001b[39;49m\u001b[43m)\u001b[49m\u001b[43m:\u001b[49m\n",
      "File \u001b[0;32m/opt/miniconda3/envs/maritime/lib/python3.11/site-packages/httpx/_models.py:863\u001b[0m, in \u001b[0;36mResponse.iter_lines\u001b[0;34m(self)\u001b[0m\n\u001b[1;32m    861\u001b[0m decoder \u001b[38;5;241m=\u001b[39m LineDecoder()\n\u001b[1;32m    862\u001b[0m \u001b[38;5;28;01mwith\u001b[39;00m request_context(request\u001b[38;5;241m=\u001b[39m\u001b[38;5;28mself\u001b[39m\u001b[38;5;241m.\u001b[39m_request):\n\u001b[0;32m--> 863\u001b[0m \u001b[43m    \u001b[49m\u001b[38;5;28;43;01mfor\u001b[39;49;00m\u001b[43m \u001b[49m\u001b[43mtext\u001b[49m\u001b[43m \u001b[49m\u001b[38;5;129;43;01min\u001b[39;49;00m\u001b[43m \u001b[49m\u001b[38;5;28;43mself\u001b[39;49m\u001b[38;5;241;43m.\u001b[39;49m\u001b[43miter_text\u001b[49m\u001b[43m(\u001b[49m\u001b[43m)\u001b[49m\u001b[43m:\u001b[49m\n\u001b[1;32m    864\u001b[0m \u001b[43m        \u001b[49m\u001b[38;5;28;43;01mfor\u001b[39;49;00m\u001b[43m \u001b[49m\u001b[43mline\u001b[49m\u001b[43m \u001b[49m\u001b[38;5;129;43;01min\u001b[39;49;00m\u001b[43m \u001b[49m\u001b[43mdecoder\u001b[49m\u001b[38;5;241;43m.\u001b[39;49m\u001b[43mdecode\u001b[49m\u001b[43m(\u001b[49m\u001b[43mtext\u001b[49m\u001b[43m)\u001b[49m\u001b[43m:\u001b[49m\n\u001b[1;32m    865\u001b[0m \u001b[43m            \u001b[49m\u001b[38;5;28;43;01myield\u001b[39;49;00m\u001b[43m \u001b[49m\u001b[43mline\u001b[49m\n",
      "File \u001b[0;32m/opt/miniconda3/envs/maritime/lib/python3.11/site-packages/httpx/_models.py:850\u001b[0m, in \u001b[0;36mResponse.iter_text\u001b[0;34m(self, chunk_size)\u001b[0m\n\u001b[1;32m    848\u001b[0m chunker \u001b[38;5;241m=\u001b[39m TextChunker(chunk_size\u001b[38;5;241m=\u001b[39mchunk_size)\n\u001b[1;32m    849\u001b[0m \u001b[38;5;28;01mwith\u001b[39;00m request_context(request\u001b[38;5;241m=\u001b[39m\u001b[38;5;28mself\u001b[39m\u001b[38;5;241m.\u001b[39m_request):\n\u001b[0;32m--> 850\u001b[0m \u001b[43m    \u001b[49m\u001b[38;5;28;43;01mfor\u001b[39;49;00m\u001b[43m \u001b[49m\u001b[43mbyte_content\u001b[49m\u001b[43m \u001b[49m\u001b[38;5;129;43;01min\u001b[39;49;00m\u001b[43m \u001b[49m\u001b[38;5;28;43mself\u001b[39;49m\u001b[38;5;241;43m.\u001b[39;49m\u001b[43miter_bytes\u001b[49m\u001b[43m(\u001b[49m\u001b[43m)\u001b[49m\u001b[43m:\u001b[49m\n\u001b[1;32m    851\u001b[0m \u001b[43m        \u001b[49m\u001b[43mtext_content\u001b[49m\u001b[43m \u001b[49m\u001b[38;5;241;43m=\u001b[39;49m\u001b[43m \u001b[49m\u001b[43mdecoder\u001b[49m\u001b[38;5;241;43m.\u001b[39;49m\u001b[43mdecode\u001b[49m\u001b[43m(\u001b[49m\u001b[43mbyte_content\u001b[49m\u001b[43m)\u001b[49m\n\u001b[1;32m    852\u001b[0m \u001b[43m        \u001b[49m\u001b[38;5;28;43;01mfor\u001b[39;49;00m\u001b[43m \u001b[49m\u001b[43mchunk\u001b[49m\u001b[43m \u001b[49m\u001b[38;5;129;43;01min\u001b[39;49;00m\u001b[43m \u001b[49m\u001b[43mchunker\u001b[49m\u001b[38;5;241;43m.\u001b[39;49m\u001b[43mdecode\u001b[49m\u001b[43m(\u001b[49m\u001b[43mtext_content\u001b[49m\u001b[43m)\u001b[49m\u001b[43m:\u001b[49m\n",
      "File \u001b[0;32m/opt/miniconda3/envs/maritime/lib/python3.11/site-packages/httpx/_models.py:831\u001b[0m, in \u001b[0;36mResponse.iter_bytes\u001b[0;34m(self, chunk_size)\u001b[0m\n\u001b[1;32m    829\u001b[0m chunker \u001b[38;5;241m=\u001b[39m ByteChunker(chunk_size\u001b[38;5;241m=\u001b[39mchunk_size)\n\u001b[1;32m    830\u001b[0m \u001b[38;5;28;01mwith\u001b[39;00m request_context(request\u001b[38;5;241m=\u001b[39m\u001b[38;5;28mself\u001b[39m\u001b[38;5;241m.\u001b[39m_request):\n\u001b[0;32m--> 831\u001b[0m \u001b[43m    \u001b[49m\u001b[38;5;28;43;01mfor\u001b[39;49;00m\u001b[43m \u001b[49m\u001b[43mraw_bytes\u001b[49m\u001b[43m \u001b[49m\u001b[38;5;129;43;01min\u001b[39;49;00m\u001b[43m \u001b[49m\u001b[38;5;28;43mself\u001b[39;49m\u001b[38;5;241;43m.\u001b[39;49m\u001b[43miter_raw\u001b[49m\u001b[43m(\u001b[49m\u001b[43m)\u001b[49m\u001b[43m:\u001b[49m\n\u001b[1;32m    832\u001b[0m \u001b[43m        \u001b[49m\u001b[43mdecoded\u001b[49m\u001b[43m \u001b[49m\u001b[38;5;241;43m=\u001b[39;49m\u001b[43m \u001b[49m\u001b[43mdecoder\u001b[49m\u001b[38;5;241;43m.\u001b[39;49m\u001b[43mdecode\u001b[49m\u001b[43m(\u001b[49m\u001b[43mraw_bytes\u001b[49m\u001b[43m)\u001b[49m\n\u001b[1;32m    833\u001b[0m \u001b[43m        \u001b[49m\u001b[38;5;28;43;01mfor\u001b[39;49;00m\u001b[43m \u001b[49m\u001b[43mchunk\u001b[49m\u001b[43m \u001b[49m\u001b[38;5;129;43;01min\u001b[39;49;00m\u001b[43m \u001b[49m\u001b[43mchunker\u001b[49m\u001b[38;5;241;43m.\u001b[39;49m\u001b[43mdecode\u001b[49m\u001b[43m(\u001b[49m\u001b[43mdecoded\u001b[49m\u001b[43m)\u001b[49m\u001b[43m:\u001b[49m\n",
      "File \u001b[0;32m/opt/miniconda3/envs/maritime/lib/python3.11/site-packages/httpx/_models.py:885\u001b[0m, in \u001b[0;36mResponse.iter_raw\u001b[0;34m(self, chunk_size)\u001b[0m\n\u001b[1;32m    882\u001b[0m chunker \u001b[38;5;241m=\u001b[39m ByteChunker(chunk_size\u001b[38;5;241m=\u001b[39mchunk_size)\n\u001b[1;32m    884\u001b[0m \u001b[38;5;28;01mwith\u001b[39;00m request_context(request\u001b[38;5;241m=\u001b[39m\u001b[38;5;28mself\u001b[39m\u001b[38;5;241m.\u001b[39m_request):\n\u001b[0;32m--> 885\u001b[0m \u001b[43m    \u001b[49m\u001b[38;5;28;43;01mfor\u001b[39;49;00m\u001b[43m \u001b[49m\u001b[43mraw_stream_bytes\u001b[49m\u001b[43m \u001b[49m\u001b[38;5;129;43;01min\u001b[39;49;00m\u001b[43m \u001b[49m\u001b[38;5;28;43mself\u001b[39;49m\u001b[38;5;241;43m.\u001b[39;49m\u001b[43mstream\u001b[49m\u001b[43m:\u001b[49m\n\u001b[1;32m    886\u001b[0m \u001b[43m        \u001b[49m\u001b[38;5;28;43mself\u001b[39;49m\u001b[38;5;241;43m.\u001b[39;49m\u001b[43m_num_bytes_downloaded\u001b[49m\u001b[43m \u001b[49m\u001b[38;5;241;43m+\u001b[39;49m\u001b[38;5;241;43m=\u001b[39;49m\u001b[43m \u001b[49m\u001b[38;5;28;43mlen\u001b[39;49m\u001b[43m(\u001b[49m\u001b[43mraw_stream_bytes\u001b[49m\u001b[43m)\u001b[49m\n\u001b[1;32m    887\u001b[0m \u001b[43m        \u001b[49m\u001b[38;5;28;43;01mfor\u001b[39;49;00m\u001b[43m \u001b[49m\u001b[43mchunk\u001b[49m\u001b[43m \u001b[49m\u001b[38;5;129;43;01min\u001b[39;49;00m\u001b[43m \u001b[49m\u001b[43mchunker\u001b[49m\u001b[38;5;241;43m.\u001b[39;49m\u001b[43mdecode\u001b[49m\u001b[43m(\u001b[49m\u001b[43mraw_stream_bytes\u001b[49m\u001b[43m)\u001b[49m\u001b[43m:\u001b[49m\n",
      "File \u001b[0;32m/opt/miniconda3/envs/maritime/lib/python3.11/site-packages/httpx/_client.py:127\u001b[0m, in \u001b[0;36mBoundSyncStream.__iter__\u001b[0;34m(self)\u001b[0m\n\u001b[1;32m    126\u001b[0m \u001b[38;5;28;01mdef\u001b[39;00m \u001b[38;5;21m__iter__\u001b[39m(\u001b[38;5;28mself\u001b[39m) \u001b[38;5;241m-\u001b[39m\u001b[38;5;241m>\u001b[39m typing\u001b[38;5;241m.\u001b[39mIterator[\u001b[38;5;28mbytes\u001b[39m]:\n\u001b[0;32m--> 127\u001b[0m \u001b[43m    \u001b[49m\u001b[38;5;28;43;01mfor\u001b[39;49;00m\u001b[43m \u001b[49m\u001b[43mchunk\u001b[49m\u001b[43m \u001b[49m\u001b[38;5;129;43;01min\u001b[39;49;00m\u001b[43m \u001b[49m\u001b[38;5;28;43mself\u001b[39;49m\u001b[38;5;241;43m.\u001b[39;49m\u001b[43m_stream\u001b[49m\u001b[43m:\u001b[49m\n\u001b[1;32m    128\u001b[0m \u001b[43m        \u001b[49m\u001b[38;5;28;43;01myield\u001b[39;49;00m\u001b[43m \u001b[49m\u001b[43mchunk\u001b[49m\n",
      "File \u001b[0;32m/opt/miniconda3/envs/maritime/lib/python3.11/site-packages/httpx/_transports/default.py:116\u001b[0m, in \u001b[0;36mResponseStream.__iter__\u001b[0;34m(self)\u001b[0m\n\u001b[1;32m    114\u001b[0m \u001b[38;5;28;01mdef\u001b[39;00m \u001b[38;5;21m__iter__\u001b[39m(\u001b[38;5;28mself\u001b[39m) \u001b[38;5;241m-\u001b[39m\u001b[38;5;241m>\u001b[39m typing\u001b[38;5;241m.\u001b[39mIterator[\u001b[38;5;28mbytes\u001b[39m]:\n\u001b[1;32m    115\u001b[0m     \u001b[38;5;28;01mwith\u001b[39;00m map_httpcore_exceptions():\n\u001b[0;32m--> 116\u001b[0m \u001b[43m        \u001b[49m\u001b[38;5;28;43;01mfor\u001b[39;49;00m\u001b[43m \u001b[49m\u001b[43mpart\u001b[49m\u001b[43m \u001b[49m\u001b[38;5;129;43;01min\u001b[39;49;00m\u001b[43m \u001b[49m\u001b[38;5;28;43mself\u001b[39;49m\u001b[38;5;241;43m.\u001b[39;49m\u001b[43m_httpcore_stream\u001b[49m\u001b[43m:\u001b[49m\n\u001b[1;32m    117\u001b[0m \u001b[43m            \u001b[49m\u001b[38;5;28;43;01myield\u001b[39;49;00m\u001b[43m \u001b[49m\u001b[43mpart\u001b[49m\n",
      "File \u001b[0;32m/opt/miniconda3/envs/maritime/lib/python3.11/site-packages/httpcore/_sync/connection_pool.py:407\u001b[0m, in \u001b[0;36mPoolByteStream.__iter__\u001b[0;34m(self)\u001b[0m\n\u001b[1;32m    405\u001b[0m \u001b[38;5;28;01mexcept\u001b[39;00m \u001b[38;5;167;01mBaseException\u001b[39;00m \u001b[38;5;28;01mas\u001b[39;00m exc:\n\u001b[1;32m    406\u001b[0m     \u001b[38;5;28mself\u001b[39m\u001b[38;5;241m.\u001b[39mclose()\n\u001b[0;32m--> 407\u001b[0m     \u001b[38;5;28;01mraise\u001b[39;00m exc \u001b[38;5;28;01mfrom\u001b[39;00m \u001b[38;5;28;01mNone\u001b[39;00m\n",
      "File \u001b[0;32m/opt/miniconda3/envs/maritime/lib/python3.11/site-packages/httpcore/_sync/connection_pool.py:403\u001b[0m, in \u001b[0;36mPoolByteStream.__iter__\u001b[0;34m(self)\u001b[0m\n\u001b[1;32m    401\u001b[0m \u001b[38;5;28;01mdef\u001b[39;00m \u001b[38;5;21m__iter__\u001b[39m(\u001b[38;5;28mself\u001b[39m) \u001b[38;5;241m-\u001b[39m\u001b[38;5;241m>\u001b[39m typing\u001b[38;5;241m.\u001b[39mIterator[\u001b[38;5;28mbytes\u001b[39m]:\n\u001b[1;32m    402\u001b[0m     \u001b[38;5;28;01mtry\u001b[39;00m:\n\u001b[0;32m--> 403\u001b[0m \u001b[43m        \u001b[49m\u001b[38;5;28;43;01mfor\u001b[39;49;00m\u001b[43m \u001b[49m\u001b[43mpart\u001b[49m\u001b[43m \u001b[49m\u001b[38;5;129;43;01min\u001b[39;49;00m\u001b[43m \u001b[49m\u001b[38;5;28;43mself\u001b[39;49m\u001b[38;5;241;43m.\u001b[39;49m\u001b[43m_stream\u001b[49m\u001b[43m:\u001b[49m\n\u001b[1;32m    404\u001b[0m \u001b[43m            \u001b[49m\u001b[38;5;28;43;01myield\u001b[39;49;00m\u001b[43m \u001b[49m\u001b[43mpart\u001b[49m\n\u001b[1;32m    405\u001b[0m     \u001b[38;5;28;01mexcept\u001b[39;00m \u001b[38;5;167;01mBaseException\u001b[39;00m \u001b[38;5;28;01mas\u001b[39;00m exc:\n",
      "File \u001b[0;32m/opt/miniconda3/envs/maritime/lib/python3.11/site-packages/httpcore/_sync/http11.py:342\u001b[0m, in \u001b[0;36mHTTP11ConnectionByteStream.__iter__\u001b[0;34m(self)\u001b[0m\n\u001b[1;32m    340\u001b[0m \u001b[38;5;28;01mwith\u001b[39;00m ShieldCancellation():\n\u001b[1;32m    341\u001b[0m     \u001b[38;5;28mself\u001b[39m\u001b[38;5;241m.\u001b[39mclose()\n\u001b[0;32m--> 342\u001b[0m \u001b[38;5;28;01mraise\u001b[39;00m exc\n",
      "File \u001b[0;32m/opt/miniconda3/envs/maritime/lib/python3.11/site-packages/httpcore/_sync/http11.py:334\u001b[0m, in \u001b[0;36mHTTP11ConnectionByteStream.__iter__\u001b[0;34m(self)\u001b[0m\n\u001b[1;32m    332\u001b[0m \u001b[38;5;28;01mtry\u001b[39;00m:\n\u001b[1;32m    333\u001b[0m     \u001b[38;5;28;01mwith\u001b[39;00m Trace(\u001b[38;5;124m\"\u001b[39m\u001b[38;5;124mreceive_response_body\u001b[39m\u001b[38;5;124m\"\u001b[39m, logger, \u001b[38;5;28mself\u001b[39m\u001b[38;5;241m.\u001b[39m_request, kwargs):\n\u001b[0;32m--> 334\u001b[0m \u001b[43m        \u001b[49m\u001b[38;5;28;43;01mfor\u001b[39;49;00m\u001b[43m \u001b[49m\u001b[43mchunk\u001b[49m\u001b[43m \u001b[49m\u001b[38;5;129;43;01min\u001b[39;49;00m\u001b[43m \u001b[49m\u001b[38;5;28;43mself\u001b[39;49m\u001b[38;5;241;43m.\u001b[39;49m\u001b[43m_connection\u001b[49m\u001b[38;5;241;43m.\u001b[39;49m\u001b[43m_receive_response_body\u001b[49m\u001b[43m(\u001b[49m\u001b[38;5;241;43m*\u001b[39;49m\u001b[38;5;241;43m*\u001b[39;49m\u001b[43mkwargs\u001b[49m\u001b[43m)\u001b[49m\u001b[43m:\u001b[49m\n\u001b[1;32m    335\u001b[0m \u001b[43m            \u001b[49m\u001b[38;5;28;43;01myield\u001b[39;49;00m\u001b[43m \u001b[49m\u001b[43mchunk\u001b[49m\n\u001b[1;32m    336\u001b[0m \u001b[38;5;28;01mexcept\u001b[39;00m \u001b[38;5;167;01mBaseException\u001b[39;00m \u001b[38;5;28;01mas\u001b[39;00m exc:\n\u001b[1;32m    337\u001b[0m     \u001b[38;5;66;03m# If we get an exception while streaming the response,\u001b[39;00m\n\u001b[1;32m    338\u001b[0m     \u001b[38;5;66;03m# we want to close the response (and possibly the connection)\u001b[39;00m\n\u001b[1;32m    339\u001b[0m     \u001b[38;5;66;03m# before raising that exception.\u001b[39;00m\n",
      "File \u001b[0;32m/opt/miniconda3/envs/maritime/lib/python3.11/site-packages/httpcore/_sync/http11.py:203\u001b[0m, in \u001b[0;36mHTTP11Connection._receive_response_body\u001b[0;34m(self, request)\u001b[0m\n\u001b[1;32m    200\u001b[0m timeout \u001b[38;5;241m=\u001b[39m timeouts\u001b[38;5;241m.\u001b[39mget(\u001b[38;5;124m\"\u001b[39m\u001b[38;5;124mread\u001b[39m\u001b[38;5;124m\"\u001b[39m, \u001b[38;5;28;01mNone\u001b[39;00m)\n\u001b[1;32m    202\u001b[0m \u001b[38;5;28;01mwhile\u001b[39;00m \u001b[38;5;28;01mTrue\u001b[39;00m:\n\u001b[0;32m--> 203\u001b[0m     event \u001b[38;5;241m=\u001b[39m \u001b[38;5;28;43mself\u001b[39;49m\u001b[38;5;241;43m.\u001b[39;49m\u001b[43m_receive_event\u001b[49m\u001b[43m(\u001b[49m\u001b[43mtimeout\u001b[49m\u001b[38;5;241;43m=\u001b[39;49m\u001b[43mtimeout\u001b[49m\u001b[43m)\u001b[49m\n\u001b[1;32m    204\u001b[0m     \u001b[38;5;28;01mif\u001b[39;00m \u001b[38;5;28misinstance\u001b[39m(event, h11\u001b[38;5;241m.\u001b[39mData):\n\u001b[1;32m    205\u001b[0m         \u001b[38;5;28;01myield\u001b[39;00m \u001b[38;5;28mbytes\u001b[39m(event\u001b[38;5;241m.\u001b[39mdata)\n",
      "File \u001b[0;32m/opt/miniconda3/envs/maritime/lib/python3.11/site-packages/httpcore/_sync/http11.py:217\u001b[0m, in \u001b[0;36mHTTP11Connection._receive_event\u001b[0;34m(self, timeout)\u001b[0m\n\u001b[1;32m    214\u001b[0m     event \u001b[38;5;241m=\u001b[39m \u001b[38;5;28mself\u001b[39m\u001b[38;5;241m.\u001b[39m_h11_state\u001b[38;5;241m.\u001b[39mnext_event()\n\u001b[1;32m    216\u001b[0m \u001b[38;5;28;01mif\u001b[39;00m event \u001b[38;5;129;01mis\u001b[39;00m h11\u001b[38;5;241m.\u001b[39mNEED_DATA:\n\u001b[0;32m--> 217\u001b[0m     data \u001b[38;5;241m=\u001b[39m \u001b[38;5;28;43mself\u001b[39;49m\u001b[38;5;241;43m.\u001b[39;49m\u001b[43m_network_stream\u001b[49m\u001b[38;5;241;43m.\u001b[39;49m\u001b[43mread\u001b[49m\u001b[43m(\u001b[49m\n\u001b[1;32m    218\u001b[0m \u001b[43m        \u001b[49m\u001b[38;5;28;43mself\u001b[39;49m\u001b[38;5;241;43m.\u001b[39;49m\u001b[43mREAD_NUM_BYTES\u001b[49m\u001b[43m,\u001b[49m\u001b[43m \u001b[49m\u001b[43mtimeout\u001b[49m\u001b[38;5;241;43m=\u001b[39;49m\u001b[43mtimeout\u001b[49m\n\u001b[1;32m    219\u001b[0m \u001b[43m    \u001b[49m\u001b[43m)\u001b[49m\n\u001b[1;32m    221\u001b[0m     \u001b[38;5;66;03m# If we feed this case through h11 we'll raise an exception like:\u001b[39;00m\n\u001b[1;32m    222\u001b[0m     \u001b[38;5;66;03m#\u001b[39;00m\n\u001b[1;32m    223\u001b[0m     \u001b[38;5;66;03m#     httpcore.RemoteProtocolError: can't handle event type\u001b[39;00m\n\u001b[0;32m   (...)\u001b[0m\n\u001b[1;32m    227\u001b[0m     \u001b[38;5;66;03m# perspective. Instead we handle this case distinctly and treat\u001b[39;00m\n\u001b[1;32m    228\u001b[0m     \u001b[38;5;66;03m# it as a ConnectError.\u001b[39;00m\n\u001b[1;32m    229\u001b[0m     \u001b[38;5;28;01mif\u001b[39;00m data \u001b[38;5;241m==\u001b[39m \u001b[38;5;124mb\u001b[39m\u001b[38;5;124m\"\u001b[39m\u001b[38;5;124m\"\u001b[39m \u001b[38;5;129;01mand\u001b[39;00m \u001b[38;5;28mself\u001b[39m\u001b[38;5;241m.\u001b[39m_h11_state\u001b[38;5;241m.\u001b[39mtheir_state \u001b[38;5;241m==\u001b[39m h11\u001b[38;5;241m.\u001b[39mSEND_RESPONSE:\n",
      "File \u001b[0;32m/opt/miniconda3/envs/maritime/lib/python3.11/site-packages/httpcore/_backends/sync.py:128\u001b[0m, in \u001b[0;36mSyncStream.read\u001b[0;34m(self, max_bytes, timeout)\u001b[0m\n\u001b[1;32m    126\u001b[0m \u001b[38;5;28;01mwith\u001b[39;00m map_exceptions(exc_map):\n\u001b[1;32m    127\u001b[0m     \u001b[38;5;28mself\u001b[39m\u001b[38;5;241m.\u001b[39m_sock\u001b[38;5;241m.\u001b[39msettimeout(timeout)\n\u001b[0;32m--> 128\u001b[0m     \u001b[38;5;28;01mreturn\u001b[39;00m \u001b[38;5;28;43mself\u001b[39;49m\u001b[38;5;241;43m.\u001b[39;49m\u001b[43m_sock\u001b[49m\u001b[38;5;241;43m.\u001b[39;49m\u001b[43mrecv\u001b[49m\u001b[43m(\u001b[49m\u001b[43mmax_bytes\u001b[49m\u001b[43m)\u001b[49m\n",
      "\u001b[0;31mKeyboardInterrupt\u001b[0m: "
     ]
    }
   ],
   "source": [
    "%%time\n",
    "\n",
    "evaluate_model_with_num_shots(\n",
    "    \"llama3.3:70b\",\n",
    "    data_path,\n",
    "    results_path=results_path,\n",
    "    ollama=True,\n",
    "    range_num_shots=[0, 1, 2, 4, 8, 10],\n",
    ")"
   ]
  },
  {
   "cell_type": "code",
   "execution_count": 18,
   "id": "f8613fdc",
   "metadata": {},
   "outputs": [],
   "source": [
    "# %%time\n",
    "\n",
    "# from llm_toolkit.eval_openai import *\n",
    "\n",
    "# evaluate_model_with_num_shots(\n",
    "#     \"qwen2.5:72b\",\n",
    "#     data_path,\n",
    "#     results_path=results_path,\n",
    "#     ollama=True,\n",
    "#     range_num_shots=[0, 1, 2, 4, 8, 10],\n",
    "# )"
   ]
  },
  {
   "cell_type": "code",
   "execution_count": 19,
   "id": "0c12f8a9",
   "metadata": {},
   "outputs": [],
   "source": [
    "# %%time\n",
    "\n",
    "# from llm_toolkit.eval_openai import *\n",
    "\n",
    "# evaluate_model_with_num_shots(\n",
    "#     \"llama3.2-vision:90b\",\n",
    "#     data_path,\n",
    "#     results_path=results_path,\n",
    "#     ollama=True,\n",
    "#     range_num_shots=[0, 1, 2, 4, 8, 10],\n",
    "# )"
   ]
  },
  {
   "cell_type": "code",
   "execution_count": 25,
   "id": "a7454a6c",
   "metadata": {},
   "outputs": [
    {
     "name": "stderr",
     "output_type": "stream",
     "text": [
      "python(72797) MallocStackLogging: can't turn off malloc stack logging because it was not enabled.\n"
     ]
    },
    {
     "name": "stdout",
     "output_type": "stream",
     "text": [
      "\u001b[?25lpulling manifest ⠋ \u001b[?25h\u001b[?25l\u001b[2K\u001b[1Gpulling manifest ⠙ \u001b[?25h\u001b[?25l\u001b[2K\u001b[1Gpulling manifest ⠹ \u001b[?25h\u001b[?25l\u001b[2K\u001b[1Gpulling manifest ⠸ \u001b[?25h\u001b[?25l\u001b[2K\u001b[1Gpulling manifest ⠼ \u001b[?25h\u001b[?25l\u001b[2K\u001b[1Gpulling manifest ⠴ \u001b[?25h\u001b[?25l\u001b[2K\u001b[1Gpulling manifest ⠦ \u001b[?25h\u001b[?25l\u001b[2K\u001b[1Gpulling manifest ⠧ \u001b[?25h\u001b[?25l\u001b[2K\u001b[1Gpulling manifest ⠇ \u001b[?25h\u001b[?25l\u001b[2K\u001b[1Gpulling manifest \n",
      "pulling 6f96e01a3f55... 100% ▕████████████████▏ 994 MB                         \n",
      "pulling 66b9ea09bd5b... 100% ▕████████████████▏   68 B                         \n",
      "pulling eb4402837c78... 100% ▕████████████████▏ 1.5 KB                         \n",
      "pulling 832dd9e00a68... 100% ▕████████████████▏  11 KB                         \n",
      "pulling ff54cb6e5ade... 100% ▕████████████████▏  487 B                         \n",
      "verifying sha256 digest \n",
      "writing manifest \n",
      "success \u001b[?25h\n",
      "\u001b[?25lpulling manifest ⠋ \u001b[?25h\u001b[?25l\u001b[2K\u001b[1Gpulling manifest ⠙ \u001b[?25h\u001b[?25l\u001b[2K\u001b[1Gpulling manifest ⠹ \u001b[?25h\u001b[?25l\u001b[2K\u001b[1Gpulling manifest ⠸ \u001b[?25h\u001b[?25l\u001b[2K\u001b[1Gpulling manifest ⠼ \u001b[?25h\u001b[?25l\u001b[2K\u001b[1Gpulling manifest ⠴ \u001b[?25h\u001b[?25l\u001b[2K\u001b[1Gpulling manifest ⠦ \u001b[?25h\u001b[?25l\u001b[2K\u001b[1Gpulling manifest ⠧ \u001b[?25h\u001b[?25l\u001b[2K\u001b[1Gpulling manifest \n",
      "pulling 1ec85b6f7ac0... 100% ▕████████████████▏ 2.5 GB                         \n",
      "pulling 966de95ca8a6... 100% ▕████████████████▏ 1.4 KB                         \n",
      "pulling fcc5a6bec9da... 100% ▕████████████████▏ 7.7 KB                         \n",
      "pulling a70ff7e570d9... 100% ▕████████████████▏ 6.0 KB                         \n",
      "pulling 0c03e8bc38d4... 100% ▕████████████████▏  484 B                         \n",
      "verifying sha256 digest \n",
      "writing manifest \n",
      "success \u001b[?25h\n",
      "\u001b[?25lpulling manifest ⠋ \u001b[?25h\u001b[?25l\u001b[2K\u001b[1Gpulling manifest ⠙ \u001b[?25h\u001b[?25l\u001b[2K\u001b[1Gpulling manifest ⠹ \u001b[?25h\u001b[?25l\u001b[2K\u001b[1Gpulling manifest ⠸ \u001b[?25h\u001b[?25l\u001b[2K\u001b[1Gpulling manifest ⠼ \u001b[?25h\u001b[?25l\u001b[2K\u001b[1Gpulling manifest ⠴ \u001b[?25h\u001b[?25l\u001b[2K\u001b[1Gpulling manifest ⠦ \u001b[?25h\u001b[?25l\u001b[2K\u001b[1Gpulling manifest ⠧ \u001b[?25h\u001b[?25l\u001b[2K\u001b[1Gpulling manifest \n",
      "pulling 2b9e80eacde5... 100% ▕████████████████▏ 3.1 GB                         \n",
      "pulling 66b9ea09bd5b... 100% ▕████████████████▏   68 B                         \n",
      "pulling eb4402837c78... 100% ▕████████████████▏ 1.5 KB                         \n",
      "pulling 832dd9e00a68... 100% ▕████████████████▏  11 KB                         \n",
      "pulling 5fcbf6f0f1c0... 100% ▕████████████████▏  484 B                         \n",
      "verifying sha256 digest \n",
      "writing manifest \n",
      "success \u001b[?25h\n",
      "\u001b[?25lpulling manifest ⠋ \u001b[?25h\u001b[?25l\u001b[2K\u001b[1Gpulling manifest ⠙ \u001b[?25h\u001b[?25l\u001b[2K\u001b[1Gpulling manifest ⠹ \u001b[?25h\u001b[?25l\u001b[2K\u001b[1Gpulling manifest ⠸ \u001b[?25h\u001b[?25l\u001b[2K\u001b[1Gpulling manifest ⠼ \u001b[?25h\u001b[?25l\u001b[2K\u001b[1Gpulling manifest ⠴ \u001b[?25h\u001b[?25l\u001b[2K\u001b[1Gpulling manifest ⠦ \u001b[?25h\u001b[?25l\u001b[2K\u001b[1Gpulling manifest ⠧ \u001b[?25h\u001b[?25l\u001b[2K\u001b[1Gpulling manifest ⠇ \u001b[?25h\u001b[?25l\u001b[2K\u001b[1Gpulling manifest \n",
      "pulling e2f46f5b501c... 100% ▕████████████████▏ 6.4 GB                         \n",
      "pulling 966de95ca8a6... 100% ▕████████████████▏ 1.4 KB                         \n",
      "pulling fcc5a6bec9da... 100% ▕████████████████▏ 7.7 KB                         \n",
      "pulling a70ff7e570d9... 100% ▕████████████████▏ 6.0 KB                         \n",
      "pulling 56bb8bd477a5... 100% ▕████████████████▏   96 B                         \n",
      "pulling 1bc315994ceb... 100% ▕████████████████▏  558 B                         \n",
      "verifying sha256 digest \n",
      "writing manifest \n",
      "success \u001b[?25h\n",
      "\u001b[?25lpulling manifest ⠋ \u001b[?25h\u001b[?25l\u001b[2K\u001b[1Gpulling manifest ⠙ \u001b[?25h\u001b[?25l\u001b[2K\u001b[1Gpulling manifest ⠹ \u001b[?25h\u001b[?25l\u001b[2K\u001b[1Gpulling manifest ⠸ \u001b[?25h\u001b[?25l\u001b[2K\u001b[1Gpulling manifest ⠼ \u001b[?25h\u001b[?25l\u001b[2K\u001b[1Gpulling manifest ⠴ \u001b[?25h\u001b[?25l\u001b[2K\u001b[1Gpulling manifest ⠦ \u001b[?25h\u001b[?25l\u001b[2K\u001b[1Gpulling manifest ⠧ \u001b[?25h\u001b[?25l\u001b[2K\u001b[1Gpulling manifest \n",
      "pulling bfa0216b48c7... 100% ▕████████████████▏ 6.2 GB                         \n",
      "pulling 66b9ea09bd5b... 100% ▕████████████████▏   68 B                         \n",
      "pulling eb4402837c78... 100% ▕████████████████▏ 1.5 KB                         \n",
      "pulling b5c0e5cf74cf... 100% ▕████████████████▏ 7.4 KB                         \n",
      "pulling 01f090b94b72... 100% ▕████████████████▏  484 B                         \n",
      "verifying sha256 digest \n",
      "writing manifest \n",
      "success \u001b[?25h\n",
      "\u001b[?25lpulling manifest ⠋ \u001b[?25h\u001b[?25l\u001b[2K\u001b[1Gpulling manifest ⠙ \u001b[?25h\u001b[?25l\u001b[2K\u001b[1Gpulling manifest ⠹ \u001b[?25h\u001b[?25l\u001b[2K\u001b[1Gpulling manifest ⠸ \u001b[?25h\u001b[?25l\u001b[2K\u001b[1Gpulling manifest ⠼ \u001b[?25h\u001b[?25l\u001b[2K\u001b[1Gpulling manifest ⠴ \u001b[?25h\u001b[?25l\u001b[2K\u001b[1Gpulling manifest ⠦ \u001b[?25h\u001b[?25l\u001b[2K\u001b[1Gpulling manifest ⠧ \u001b[?25h\u001b[?25l\u001b[2K\u001b[1Gpulling manifest \n",
      "pulling 678e1e088363... 100% ▕████████████████▏  15 GB                         \n",
      "pulling 66b9ea09bd5b... 100% ▕████████████████▏   68 B                         \n",
      "pulling eb4402837c78... 100% ▕████████████████▏ 1.5 KB                         \n",
      "pulling 832dd9e00a68... 100% ▕████████████████▏  11 KB                         \n",
      "pulling ff9b12c12adb... 100% ▕████████████████▏  484 B                         \n",
      "verifying sha256 digest \n",
      "writing manifest \n",
      "success \u001b[?25h\n",
      "\u001b[?25lpulling manifest ⠋ \u001b[?25h\u001b[?25l\u001b[2K\u001b[1Gpulling manifest ⠙ \u001b[?25h\u001b[?25l\u001b[2K\u001b[1Gpulling manifest ⠹ \u001b[?25h\u001b[?25l\u001b[2K\u001b[1Gpulling manifest ⠸ \u001b[?25h\u001b[?25l\u001b[2K\u001b[1Gpulling manifest ⠼ \u001b[?25h\u001b[?25l\u001b[2K\u001b[1Gpulling manifest ⠴ \u001b[?25h\u001b[?25l\u001b[2K\u001b[1Gpulling manifest ⠦ \u001b[?25h\u001b[?25l\u001b[2K\u001b[1Gpulling manifest ⠧ \u001b[?25h\u001b[?25l\u001b[2K\u001b[1Gpulling manifest \n",
      "pulling 09cd6813dc2e... 100% ▕████████████████▏  16 GB                         \n",
      "pulling 948af2743fc7... 100% ▕████████████████▏ 1.5 KB                         \n",
      "pulling 0ba8f0e314b4... 100% ▕████████████████▏  12 KB                         \n",
      "pulling 56bb8bd477a5... 100% ▕████████████████▏   96 B                         \n",
      "pulling daa7d15f6d0b... 100% ▕████████████████▏  484 B                         \n",
      "verifying sha256 digest \n",
      "writing manifest \n",
      "success \u001b[?25h\n",
      "\u001b[?25lpulling manifest ⠋ \u001b[?25h\u001b[?25l\u001b[2K\u001b[1Gpulling manifest ⠙ \u001b[?25h\u001b[?25l\u001b[2K\u001b[1Gpulling manifest ⠹ \u001b[?25h\u001b[?25l\u001b[2K\u001b[1Gpulling manifest ⠸ \u001b[?25h\u001b[?25l\u001b[2K\u001b[1Gpulling manifest ⠼ \u001b[?25h\u001b[?25l\u001b[2K\u001b[1Gpulling manifest ⠴ \u001b[?25h\u001b[?25l\u001b[2K\u001b[1Gpulling manifest ⠦ \u001b[?25h\u001b[?25l\u001b[2K\u001b[1Gpulling manifest ⠧ \u001b[?25h\u001b[?25l\u001b[2K\u001b[1Gpulling manifest \n",
      "pulling 245dc7e65892... 100% ▕████████████████▏  19 GB                         \n",
      "pulling ece5e659647a... 100% ▕████████████████▏ 1.9 GB                         \n",
      "pulling 715415638c9c... 100% ▕████████████████▏  269 B                         \n",
      "pulling 0b4284c1f870... 100% ▕████████████████▏ 7.7 KB                         \n",
      "pulling fefc914e46e6... 100% ▕████████████████▏   32 B                         \n",
      "pulling ca29716d00ed... 100% ▕████████████████▏  569 B                         \n",
      "verifying sha256 digest \n",
      "writing manifest \n",
      "success \u001b[?25h\n",
      "\u001b[?25lpulling manifest ⠋ \u001b[?25h\u001b[?25l\u001b[2K\u001b[1Gpulling manifest ⠙ \u001b[?25h\u001b[?25l\u001b[2K\u001b[1Gpulling manifest ⠹ \u001b[?25h\u001b[?25l\u001b[2K\u001b[1Gpulling manifest ⠸ \u001b[?25h\u001b[?25l\u001b[2K\u001b[1Gpulling manifest ⠼ \u001b[?25h\u001b[?25l\u001b[2K\u001b[1Gpulling manifest ⠴ \u001b[?25h\u001b[?25l\u001b[2K\u001b[1Gpulling manifest ⠦ \u001b[?25h\u001b[?25l\u001b[2K\u001b[1Gpulling manifest ⠧ \u001b[?25h\u001b[?25l\u001b[2K\u001b[1Gpulling manifest \n",
      "pulling c599ec1e5773... 100% ▕████████████████▏  29 GB                         \n",
      "pulling 66b9ea09bd5b... 100% ▕████████████████▏   68 B                         \n",
      "pulling eb4402837c78... 100% ▕████████████████▏ 1.5 KB                         \n",
      "pulling 832dd9e00a68... 100% ▕████████████████▏  11 KB                         \n",
      "pulling 75aae8d90371... 100% ▕████████████████▏  485 B                         \n",
      "verifying sha256 digest \n",
      "writing manifest \n",
      "success \u001b[?25h\n"
     ]
    }
   ],
   "source": [
    "!./scripts/ollama-pull-fp16.sh"
   ]
  },
  {
   "cell_type": "code",
   "execution_count": 26,
   "id": "58147bfb",
   "metadata": {},
   "outputs": [
    {
     "name": "stdout",
     "output_type": "stream",
     "text": [
      "Evaluating model: qwen2.5:0.5b-instruct-fp16\n",
      "loading train/test data files\n",
      "DatasetDict({\n",
      "    train: Dataset({\n",
      "        features: ['id', 'Headline', 'Details', 'Severity', 'Region', 'Datetime', 'lat', 'lon', 'maritime_label', 'found_ports', 'contains_port_info', 'if_labeled', 'Headline_Details', 'Year', 'Month', 'Week', 'Details_cleaned', 'Category', 'Summarized_label', 'gpt-4o_label'],\n",
      "        num_rows: 4594\n",
      "    })\n",
      "    test: Dataset({\n",
      "        features: ['id', 'Headline', 'Details', 'Severity', 'Region', 'Datetime', 'lat', 'lon', 'maritime_label', 'found_ports', 'contains_port_info', 'if_labeled', 'Headline_Details', 'Year', 'Month', 'Week', 'Details_cleaned', 'Category', 'Summarized_label', 'gpt-4o_label'],\n",
      "        num_rows: 1147\n",
      "    })\n",
      "})\n",
      "* Evaluating with num_shots: 0\n",
      "Generating prompt templates for 0 shots with Headline_Details and Summarized_label\n"
     ]
    },
    {
     "name": "stderr",
     "output_type": "stream",
     "text": [
      "100%|██████████| 1147/1147 [04:41<00:00,  4.07it/s]\n"
     ]
    },
    {
     "name": "stdout",
     "output_type": "stream",
     "text": [
      "*** Execution time for num_shots 0: 281.63 seconds\n",
      "'float' object has no attribute 'size'\n",
      "* Evaluating with num_shots: 1\n",
      "Generating prompt templates for 1 shots with Headline_Details and Summarized_label\n"
     ]
    },
    {
     "name": "stderr",
     "output_type": "stream",
     "text": [
      "100%|██████████| 1147/1147 [04:36<00:00,  4.16it/s]\n"
     ]
    },
    {
     "name": "stdout",
     "output_type": "stream",
     "text": [
      "*** Execution time for num_shots 1: 276.01 seconds\n",
      "'float' object has no attribute 'size'\n",
      "* Evaluating with num_shots: 2\n",
      "Generating prompt templates for 2 shots with Headline_Details and Summarized_label\n"
     ]
    },
    {
     "name": "stderr",
     "output_type": "stream",
     "text": [
      "100%|██████████| 1147/1147 [04:43<00:00,  4.04it/s]\n"
     ]
    },
    {
     "name": "stdout",
     "output_type": "stream",
     "text": [
      "*** Execution time for num_shots 2: 283.84 seconds\n",
      "'float' object has no attribute 'size'\n",
      "* Evaluating with num_shots: 4\n",
      "Generating prompt templates for 4 shots with Headline_Details and Summarized_label\n"
     ]
    },
    {
     "name": "stderr",
     "output_type": "stream",
     "text": [
      "100%|██████████| 1147/1147 [04:46<00:00,  4.00it/s]\n"
     ]
    },
    {
     "name": "stdout",
     "output_type": "stream",
     "text": [
      "*** Execution time for num_shots 4: 286.50 seconds\n",
      "'float' object has no attribute 'size'\n",
      "* Evaluating with num_shots: 8\n",
      "Generating prompt templates for 8 shots with Headline_Details and Summarized_label\n"
     ]
    },
    {
     "name": "stderr",
     "output_type": "stream",
     "text": [
      "100%|██████████| 1147/1147 [04:58<00:00,  3.84it/s]\n"
     ]
    },
    {
     "name": "stdout",
     "output_type": "stream",
     "text": [
      "*** Execution time for num_shots 8: 298.65 seconds\n",
      "'float' object has no attribute 'size'\n",
      "* Evaluating with num_shots: 10\n",
      "Generating prompt templates for 10 shots with Headline_Details and Summarized_label\n"
     ]
    },
    {
     "name": "stderr",
     "output_type": "stream",
     "text": [
      "100%|██████████| 1147/1147 [05:08<00:00,  3.71it/s]\n"
     ]
    },
    {
     "name": "stdout",
     "output_type": "stream",
     "text": [
      "*** Execution time for num_shots 10: 308.94 seconds\n",
      "'float' object has no attribute 'size'\n",
      "Evaluating model: llama3.2:1b-instruct-fp16\n",
      "loading train/test data files\n",
      "DatasetDict({\n",
      "    train: Dataset({\n",
      "        features: ['id', 'Headline', 'Details', 'Severity', 'Region', 'Datetime', 'lat', 'lon', 'maritime_label', 'found_ports', 'contains_port_info', 'if_labeled', 'Headline_Details', 'Year', 'Month', 'Week', 'Details_cleaned', 'Category', 'Summarized_label', 'gpt-4o_label'],\n",
      "        num_rows: 4594\n",
      "    })\n",
      "    test: Dataset({\n",
      "        features: ['id', 'Headline', 'Details', 'Severity', 'Region', 'Datetime', 'lat', 'lon', 'maritime_label', 'found_ports', 'contains_port_info', 'if_labeled', 'Headline_Details', 'Year', 'Month', 'Week', 'Details_cleaned', 'Category', 'Summarized_label', 'gpt-4o_label'],\n",
      "        num_rows: 1147\n",
      "    })\n",
      "})\n",
      "* Evaluating with num_shots: 0\n",
      "Generating prompt templates for 0 shots with Headline_Details and Summarized_label\n"
     ]
    },
    {
     "name": "stderr",
     "output_type": "stream",
     "text": [
      "100%|██████████| 1147/1147 [11:14<00:00,  1.70it/s]\n"
     ]
    },
    {
     "name": "stdout",
     "output_type": "stream",
     "text": [
      "*** Execution time for num_shots 0: 674.95 seconds\n",
      "'float' object has no attribute 'size'\n",
      "* Evaluating with num_shots: 1\n",
      "Generating prompt templates for 1 shots with Headline_Details and Summarized_label\n"
     ]
    },
    {
     "name": "stderr",
     "output_type": "stream",
     "text": [
      "100%|██████████| 1147/1147 [13:09<00:00,  1.45it/s]\n"
     ]
    },
    {
     "name": "stdout",
     "output_type": "stream",
     "text": [
      "*** Execution time for num_shots 1: 789.58 seconds\n",
      "'float' object has no attribute 'size'\n",
      "* Evaluating with num_shots: 2\n",
      "Generating prompt templates for 2 shots with Headline_Details and Summarized_label\n"
     ]
    },
    {
     "name": "stderr",
     "output_type": "stream",
     "text": [
      "100%|██████████| 1147/1147 [14:03<00:00,  1.36it/s]\n"
     ]
    },
    {
     "name": "stdout",
     "output_type": "stream",
     "text": [
      "*** Execution time for num_shots 2: 843.99 seconds\n",
      "'float' object has no attribute 'size'\n",
      "* Evaluating with num_shots: 4\n",
      "Generating prompt templates for 4 shots with Headline_Details and Summarized_label\n"
     ]
    },
    {
     "name": "stderr",
     "output_type": "stream",
     "text": [
      "100%|██████████| 1147/1147 [14:01<00:00,  1.36it/s]\n"
     ]
    },
    {
     "name": "stdout",
     "output_type": "stream",
     "text": [
      "*** Execution time for num_shots 4: 841.41 seconds\n",
      "'float' object has no attribute 'size'\n",
      "* Evaluating with num_shots: 8\n",
      "Generating prompt templates for 8 shots with Headline_Details and Summarized_label\n"
     ]
    },
    {
     "name": "stderr",
     "output_type": "stream",
     "text": [
      "100%|██████████| 1147/1147 [13:52<00:00,  1.38it/s]\n"
     ]
    },
    {
     "name": "stdout",
     "output_type": "stream",
     "text": [
      "*** Execution time for num_shots 8: 832.57 seconds\n",
      "'float' object has no attribute 'size'\n",
      "* Evaluating with num_shots: 10\n",
      "Generating prompt templates for 10 shots with Headline_Details and Summarized_label\n"
     ]
    },
    {
     "name": "stderr",
     "output_type": "stream",
     "text": [
      "100%|██████████| 1147/1147 [15:25<00:00,  1.24it/s]\n"
     ]
    },
    {
     "name": "stdout",
     "output_type": "stream",
     "text": [
      "*** Execution time for num_shots 10: 925.65 seconds\n",
      "'float' object has no attribute 'size'\n",
      "Evaluating model: qwen2.5:1.5b-instruct-fp16\n",
      "loading train/test data files\n",
      "DatasetDict({\n",
      "    train: Dataset({\n",
      "        features: ['id', 'Headline', 'Details', 'Severity', 'Region', 'Datetime', 'lat', 'lon', 'maritime_label', 'found_ports', 'contains_port_info', 'if_labeled', 'Headline_Details', 'Year', 'Month', 'Week', 'Details_cleaned', 'Category', 'Summarized_label', 'gpt-4o_label'],\n",
      "        num_rows: 4594\n",
      "    })\n",
      "    test: Dataset({\n",
      "        features: ['id', 'Headline', 'Details', 'Severity', 'Region', 'Datetime', 'lat', 'lon', 'maritime_label', 'found_ports', 'contains_port_info', 'if_labeled', 'Headline_Details', 'Year', 'Month', 'Week', 'Details_cleaned', 'Category', 'Summarized_label', 'gpt-4o_label'],\n",
      "        num_rows: 1147\n",
      "    })\n",
      "})\n",
      "* Evaluating with num_shots: 0\n",
      "Generating prompt templates for 0 shots with Headline_Details and Summarized_label\n"
     ]
    },
    {
     "name": "stderr",
     "output_type": "stream",
     "text": [
      "100%|██████████| 1147/1147 [07:01<00:00,  2.72it/s]\n"
     ]
    },
    {
     "name": "stdout",
     "output_type": "stream",
     "text": [
      "*** Execution time for num_shots 0: 421.83 seconds\n",
      "'float' object has no attribute 'size'\n",
      "* Evaluating with num_shots: 1\n",
      "Generating prompt templates for 1 shots with Headline_Details and Summarized_label\n"
     ]
    },
    {
     "name": "stderr",
     "output_type": "stream",
     "text": [
      "100%|██████████| 1147/1147 [07:15<00:00,  2.63it/s]\n"
     ]
    },
    {
     "name": "stdout",
     "output_type": "stream",
     "text": [
      "*** Execution time for num_shots 1: 435.66 seconds\n",
      "'float' object has no attribute 'size'\n",
      "* Evaluating with num_shots: 2\n",
      "Generating prompt templates for 2 shots with Headline_Details and Summarized_label\n"
     ]
    },
    {
     "name": "stderr",
     "output_type": "stream",
     "text": [
      "100%|██████████| 1147/1147 [07:20<00:00,  2.60it/s]\n"
     ]
    },
    {
     "name": "stdout",
     "output_type": "stream",
     "text": [
      "*** Execution time for num_shots 2: 440.98 seconds\n",
      "'float' object has no attribute 'size'\n",
      "* Evaluating with num_shots: 4\n",
      "Generating prompt templates for 4 shots with Headline_Details and Summarized_label\n"
     ]
    },
    {
     "name": "stderr",
     "output_type": "stream",
     "text": [
      "100%|██████████| 1147/1147 [07:19<00:00,  2.61it/s]\n"
     ]
    },
    {
     "name": "stdout",
     "output_type": "stream",
     "text": [
      "*** Execution time for num_shots 4: 439.76 seconds\n",
      "'float' object has no attribute 'size'\n",
      "* Evaluating with num_shots: 8\n",
      "Generating prompt templates for 8 shots with Headline_Details and Summarized_label\n"
     ]
    },
    {
     "name": "stderr",
     "output_type": "stream",
     "text": [
      "100%|██████████| 1147/1147 [07:36<00:00,  2.51it/s]\n"
     ]
    },
    {
     "name": "stdout",
     "output_type": "stream",
     "text": [
      "*** Execution time for num_shots 8: 456.26 seconds\n",
      "'float' object has no attribute 'size'\n",
      "* Evaluating with num_shots: 10\n",
      "Generating prompt templates for 10 shots with Headline_Details and Summarized_label\n"
     ]
    },
    {
     "name": "stderr",
     "output_type": "stream",
     "text": [
      "100%|██████████| 1147/1147 [07:51<00:00,  2.43it/s]\n"
     ]
    },
    {
     "name": "stdout",
     "output_type": "stream",
     "text": [
      "*** Execution time for num_shots 10: 471.72 seconds\n",
      "'float' object has no attribute 'size'\n",
      "Evaluating model: llama3.2:3b-instruct-fp16\n",
      "loading train/test data files\n",
      "DatasetDict({\n",
      "    train: Dataset({\n",
      "        features: ['id', 'Headline', 'Details', 'Severity', 'Region', 'Datetime', 'lat', 'lon', 'maritime_label', 'found_ports', 'contains_port_info', 'if_labeled', 'Headline_Details', 'Year', 'Month', 'Week', 'Details_cleaned', 'Category', 'Summarized_label', 'gpt-4o_label'],\n",
      "        num_rows: 4594\n",
      "    })\n",
      "    test: Dataset({\n",
      "        features: ['id', 'Headline', 'Details', 'Severity', 'Region', 'Datetime', 'lat', 'lon', 'maritime_label', 'found_ports', 'contains_port_info', 'if_labeled', 'Headline_Details', 'Year', 'Month', 'Week', 'Details_cleaned', 'Category', 'Summarized_label', 'gpt-4o_label'],\n",
      "        num_rows: 1147\n",
      "    })\n",
      "})\n",
      "* Evaluating with num_shots: 0\n",
      "Generating prompt templates for 0 shots with Headline_Details and Summarized_label\n"
     ]
    },
    {
     "name": "stderr",
     "output_type": "stream",
     "text": [
      "100%|██████████| 1147/1147 [15:07<00:00,  1.26it/s]\n"
     ]
    },
    {
     "name": "stdout",
     "output_type": "stream",
     "text": [
      "*** Execution time for num_shots 0: 907.90 seconds\n",
      "category not in json: {}\n",
      "'float' object has no attribute 'size'\n",
      "* Evaluating with num_shots: 1\n",
      "Generating prompt templates for 1 shots with Headline_Details and Summarized_label\n"
     ]
    },
    {
     "name": "stderr",
     "output_type": "stream",
     "text": [
      "100%|██████████| 1147/1147 [13:35<00:00,  1.41it/s]\n"
     ]
    },
    {
     "name": "stdout",
     "output_type": "stream",
     "text": [
      "*** Execution time for num_shots 1: 815.91 seconds\n",
      "'float' object has no attribute 'size'\n",
      "* Evaluating with num_shots: 2\n",
      "Generating prompt templates for 2 shots with Headline_Details and Summarized_label\n"
     ]
    },
    {
     "name": "stderr",
     "output_type": "stream",
     "text": [
      "100%|██████████| 1147/1147 [13:53<00:00,  1.38it/s]\n"
     ]
    },
    {
     "name": "stdout",
     "output_type": "stream",
     "text": [
      "*** Execution time for num_shots 2: 834.00 seconds\n",
      "'float' object has no attribute 'size'\n",
      "* Evaluating with num_shots: 4\n",
      "Generating prompt templates for 4 shots with Headline_Details and Summarized_label\n"
     ]
    },
    {
     "name": "stderr",
     "output_type": "stream",
     "text": [
      "100%|██████████| 1147/1147 [13:57<00:00,  1.37it/s]\n"
     ]
    },
    {
     "name": "stdout",
     "output_type": "stream",
     "text": [
      "*** Execution time for num_shots 4: 837.88 seconds\n",
      "'float' object has no attribute 'size'\n",
      "* Evaluating with num_shots: 8\n",
      "Generating prompt templates for 8 shots with Headline_Details and Summarized_label\n"
     ]
    },
    {
     "name": "stderr",
     "output_type": "stream",
     "text": [
      "100%|██████████| 1147/1147 [14:19<00:00,  1.33it/s]\n"
     ]
    },
    {
     "name": "stdout",
     "output_type": "stream",
     "text": [
      "*** Execution time for num_shots 8: 859.86 seconds\n",
      "category not in json: {}\n",
      "'float' object has no attribute 'size'\n",
      "* Evaluating with num_shots: 10\n",
      "Generating prompt templates for 10 shots with Headline_Details and Summarized_label\n"
     ]
    },
    {
     "name": "stderr",
     "output_type": "stream",
     "text": [
      "100%|██████████| 1147/1147 [14:27<00:00,  1.32it/s]\n"
     ]
    },
    {
     "name": "stdout",
     "output_type": "stream",
     "text": [
      "*** Execution time for num_shots 10: 867.44 seconds\n",
      "'float' object has no attribute 'size'\n",
      "Evaluating model: qwen2.5:3b-instruct-fp16\n",
      "loading train/test data files\n",
      "DatasetDict({\n",
      "    train: Dataset({\n",
      "        features: ['id', 'Headline', 'Details', 'Severity', 'Region', 'Datetime', 'lat', 'lon', 'maritime_label', 'found_ports', 'contains_port_info', 'if_labeled', 'Headline_Details', 'Year', 'Month', 'Week', 'Details_cleaned', 'Category', 'Summarized_label', 'gpt-4o_label'],\n",
      "        num_rows: 4594\n",
      "    })\n",
      "    test: Dataset({\n",
      "        features: ['id', 'Headline', 'Details', 'Severity', 'Region', 'Datetime', 'lat', 'lon', 'maritime_label', 'found_ports', 'contains_port_info', 'if_labeled', 'Headline_Details', 'Year', 'Month', 'Week', 'Details_cleaned', 'Category', 'Summarized_label', 'gpt-4o_label'],\n",
      "        num_rows: 1147\n",
      "    })\n",
      "})\n",
      "* Evaluating with num_shots: 0\n",
      "Generating prompt templates for 0 shots with Headline_Details and Summarized_label\n"
     ]
    },
    {
     "name": "stderr",
     "output_type": "stream",
     "text": [
      "100%|██████████| 1147/1147 [13:02<00:00,  1.47it/s]\n"
     ]
    },
    {
     "name": "stdout",
     "output_type": "stream",
     "text": [
      "*** Execution time for num_shots 0: 782.25 seconds\n",
      "'float' object has no attribute 'size'\n",
      "* Evaluating with num_shots: 1\n",
      "Generating prompt templates for 1 shots with Headline_Details and Summarized_label\n"
     ]
    },
    {
     "name": "stderr",
     "output_type": "stream",
     "text": [
      "100%|██████████| 1147/1147 [12:19<00:00,  1.55it/s]\n"
     ]
    },
    {
     "name": "stdout",
     "output_type": "stream",
     "text": [
      "*** Execution time for num_shots 1: 739.19 seconds\n",
      "'float' object has no attribute 'size'\n",
      "* Evaluating with num_shots: 2\n",
      "Generating prompt templates for 2 shots with Headline_Details and Summarized_label\n"
     ]
    },
    {
     "name": "stderr",
     "output_type": "stream",
     "text": [
      "100%|██████████| 1147/1147 [12:24<00:00,  1.54it/s]\n"
     ]
    },
    {
     "name": "stdout",
     "output_type": "stream",
     "text": [
      "*** Execution time for num_shots 2: 744.18 seconds\n",
      "'float' object has no attribute 'size'\n",
      "* Evaluating with num_shots: 4\n",
      "Generating prompt templates for 4 shots with Headline_Details and Summarized_label\n"
     ]
    },
    {
     "name": "stderr",
     "output_type": "stream",
     "text": [
      "100%|██████████| 1147/1147 [12:28<00:00,  1.53it/s]\n"
     ]
    },
    {
     "name": "stdout",
     "output_type": "stream",
     "text": [
      "*** Execution time for num_shots 4: 748.26 seconds\n",
      "'float' object has no attribute 'size'\n",
      "* Evaluating with num_shots: 8\n",
      "Generating prompt templates for 8 shots with Headline_Details and Summarized_label\n"
     ]
    },
    {
     "name": "stderr",
     "output_type": "stream",
     "text": [
      "100%|██████████| 1147/1147 [12:45<00:00,  1.50it/s]\n"
     ]
    },
    {
     "name": "stdout",
     "output_type": "stream",
     "text": [
      "*** Execution time for num_shots 8: 765.28 seconds\n",
      "'float' object has no attribute 'size'\n",
      "* Evaluating with num_shots: 10\n",
      "Generating prompt templates for 10 shots with Headline_Details and Summarized_label\n"
     ]
    },
    {
     "name": "stderr",
     "output_type": "stream",
     "text": [
      "100%|██████████| 1147/1147 [12:56<00:00,  1.48it/s]\n"
     ]
    },
    {
     "name": "stdout",
     "output_type": "stream",
     "text": [
      "*** Execution time for num_shots 10: 776.44 seconds\n",
      "'float' object has no attribute 'size'\n",
      "Evaluating model: qwen2.5:7b-instruct-fp16\n",
      "loading train/test data files\n",
      "DatasetDict({\n",
      "    train: Dataset({\n",
      "        features: ['id', 'Headline', 'Details', 'Severity', 'Region', 'Datetime', 'lat', 'lon', 'maritime_label', 'found_ports', 'contains_port_info', 'if_labeled', 'Headline_Details', 'Year', 'Month', 'Week', 'Details_cleaned', 'Category', 'Summarized_label', 'gpt-4o_label'],\n",
      "        num_rows: 4594\n",
      "    })\n",
      "    test: Dataset({\n",
      "        features: ['id', 'Headline', 'Details', 'Severity', 'Region', 'Datetime', 'lat', 'lon', 'maritime_label', 'found_ports', 'contains_port_info', 'if_labeled', 'Headline_Details', 'Year', 'Month', 'Week', 'Details_cleaned', 'Category', 'Summarized_label', 'gpt-4o_label'],\n",
      "        num_rows: 1147\n",
      "    })\n",
      "})\n",
      "* Evaluating with num_shots: 0\n",
      "Generating prompt templates for 0 shots with Headline_Details and Summarized_label\n"
     ]
    },
    {
     "name": "stderr",
     "output_type": "stream",
     "text": [
      "100%|██████████| 1147/1147 [26:25<00:00,  1.38s/it]\n"
     ]
    },
    {
     "name": "stdout",
     "output_type": "stream",
     "text": [
      "*** Execution time for num_shots 0: 1585.92 seconds\n",
      "'float' object has no attribute 'size'\n",
      "* Evaluating with num_shots: 1\n",
      "Generating prompt templates for 1 shots with Headline_Details and Summarized_label\n"
     ]
    },
    {
     "name": "stderr",
     "output_type": "stream",
     "text": [
      "100%|██████████| 1147/1147 [41:04<00:00,  2.15s/it] \n"
     ]
    },
    {
     "name": "stdout",
     "output_type": "stream",
     "text": [
      "*** Execution time for num_shots 1: 2464.91 seconds\n",
      "'float' object has no attribute 'size'\n",
      "* Evaluating with num_shots: 2\n",
      "Generating prompt templates for 2 shots with Headline_Details and Summarized_label\n"
     ]
    },
    {
     "name": "stderr",
     "output_type": "stream",
     "text": [
      "100%|██████████| 1147/1147 [1:19:26<00:00,  4.16s/it] \n"
     ]
    },
    {
     "name": "stdout",
     "output_type": "stream",
     "text": [
      "*** Execution time for num_shots 2: 4766.45 seconds\n",
      "'float' object has no attribute 'size'\n",
      "* Evaluating with num_shots: 4\n",
      "Generating prompt templates for 4 shots with Headline_Details and Summarized_label\n"
     ]
    },
    {
     "name": "stderr",
     "output_type": "stream",
     "text": [
      "100%|██████████| 1147/1147 [25:55<00:00,  1.36s/it]\n"
     ]
    },
    {
     "name": "stdout",
     "output_type": "stream",
     "text": [
      "*** Execution time for num_shots 4: 1555.24 seconds\n",
      "'float' object has no attribute 'size'\n",
      "* Evaluating with num_shots: 8\n",
      "Generating prompt templates for 8 shots with Headline_Details and Summarized_label\n"
     ]
    },
    {
     "name": "stderr",
     "output_type": "stream",
     "text": [
      "100%|██████████| 1147/1147 [26:10<00:00,  1.37s/it]\n"
     ]
    },
    {
     "name": "stdout",
     "output_type": "stream",
     "text": [
      "*** Execution time for num_shots 8: 1570.16 seconds\n",
      "'float' object has no attribute 'size'\n",
      "* Evaluating with num_shots: 10\n",
      "Generating prompt templates for 10 shots with Headline_Details and Summarized_label\n"
     ]
    },
    {
     "name": "stderr",
     "output_type": "stream",
     "text": [
      "100%|██████████| 1147/1147 [26:36<00:00,  1.39s/it]\n"
     ]
    },
    {
     "name": "stdout",
     "output_type": "stream",
     "text": [
      "*** Execution time for num_shots 10: 1596.85 seconds\n",
      "'float' object has no attribute 'size'\n",
      "Evaluating model: llama3.1:8b-instruct-fp16\n",
      "loading train/test data files\n",
      "DatasetDict({\n",
      "    train: Dataset({\n",
      "        features: ['id', 'Headline', 'Details', 'Severity', 'Region', 'Datetime', 'lat', 'lon', 'maritime_label', 'found_ports', 'contains_port_info', 'if_labeled', 'Headline_Details', 'Year', 'Month', 'Week', 'Details_cleaned', 'Category', 'Summarized_label', 'gpt-4o_label'],\n",
      "        num_rows: 4594\n",
      "    })\n",
      "    test: Dataset({\n",
      "        features: ['id', 'Headline', 'Details', 'Severity', 'Region', 'Datetime', 'lat', 'lon', 'maritime_label', 'found_ports', 'contains_port_info', 'if_labeled', 'Headline_Details', 'Year', 'Month', 'Week', 'Details_cleaned', 'Category', 'Summarized_label', 'gpt-4o_label'],\n",
      "        num_rows: 1147\n",
      "    })\n",
      "})\n",
      "* Evaluating with num_shots: 0\n",
      "Generating prompt templates for 0 shots with Headline_Details and Summarized_label\n"
     ]
    },
    {
     "name": "stderr",
     "output_type": "stream",
     "text": [
      "100%|██████████| 1147/1147 [28:45<00:00,  1.50s/it]\n"
     ]
    },
    {
     "name": "stdout",
     "output_type": "stream",
     "text": [
      "*** Execution time for num_shots 0: 1725.20 seconds\n",
      "'float' object has no attribute 'size'\n",
      "* Evaluating with num_shots: 1\n",
      "Generating prompt templates for 1 shots with Headline_Details and Summarized_label\n"
     ]
    },
    {
     "name": "stderr",
     "output_type": "stream",
     "text": [
      "100%|██████████| 1147/1147 [24:22<00:00,  1.27s/it]\n"
     ]
    },
    {
     "name": "stdout",
     "output_type": "stream",
     "text": [
      "*** Execution time for num_shots 1: 1462.17 seconds\n",
      "'float' object has no attribute 'size'\n",
      "* Evaluating with num_shots: 2\n",
      "Generating prompt templates for 2 shots with Headline_Details and Summarized_label\n"
     ]
    },
    {
     "name": "stderr",
     "output_type": "stream",
     "text": [
      "100%|██████████| 1147/1147 [25:18<00:00,  1.32s/it]\n"
     ]
    },
    {
     "name": "stdout",
     "output_type": "stream",
     "text": [
      "*** Execution time for num_shots 2: 1518.25 seconds\n",
      "'float' object has no attribute 'size'\n",
      "* Evaluating with num_shots: 4\n",
      "Generating prompt templates for 4 shots with Headline_Details and Summarized_label\n"
     ]
    },
    {
     "name": "stderr",
     "output_type": "stream",
     "text": [
      "100%|██████████| 1147/1147 [25:27<00:00,  1.33s/it]\n"
     ]
    },
    {
     "name": "stdout",
     "output_type": "stream",
     "text": [
      "*** Execution time for num_shots 4: 1527.42 seconds\n",
      "'float' object has no attribute 'size'\n",
      "* Evaluating with num_shots: 8\n",
      "Generating prompt templates for 8 shots with Headline_Details and Summarized_label\n"
     ]
    },
    {
     "name": "stderr",
     "output_type": "stream",
     "text": [
      "100%|██████████| 1147/1147 [25:41<00:00,  1.34s/it]\n"
     ]
    },
    {
     "name": "stdout",
     "output_type": "stream",
     "text": [
      "*** Execution time for num_shots 8: 1541.14 seconds\n",
      "'float' object has no attribute 'size'\n",
      "* Evaluating with num_shots: 10\n",
      "Generating prompt templates for 10 shots with Headline_Details and Summarized_label\n"
     ]
    },
    {
     "name": "stderr",
     "output_type": "stream",
     "text": [
      "100%|██████████| 1147/1147 [26:06<00:00,  1.37s/it]\n"
     ]
    },
    {
     "name": "stdout",
     "output_type": "stream",
     "text": [
      "*** Execution time for num_shots 10: 1566.67 seconds\n",
      "'float' object has no attribute 'size'\n",
      "Evaluating model: llama3.2-vision:11b-instruct-fp16\n",
      "loading train/test data files\n",
      "DatasetDict({\n",
      "    train: Dataset({\n",
      "        features: ['id', 'Headline', 'Details', 'Severity', 'Region', 'Datetime', 'lat', 'lon', 'maritime_label', 'found_ports', 'contains_port_info', 'if_labeled', 'Headline_Details', 'Year', 'Month', 'Week', 'Details_cleaned', 'Category', 'Summarized_label', 'gpt-4o_label'],\n",
      "        num_rows: 4594\n",
      "    })\n",
      "    test: Dataset({\n",
      "        features: ['id', 'Headline', 'Details', 'Severity', 'Region', 'Datetime', 'lat', 'lon', 'maritime_label', 'found_ports', 'contains_port_info', 'if_labeled', 'Headline_Details', 'Year', 'Month', 'Week', 'Details_cleaned', 'Category', 'Summarized_label', 'gpt-4o_label'],\n",
      "        num_rows: 1147\n",
      "    })\n",
      "})\n",
      "* Evaluating with num_shots: 0\n",
      "Generating prompt templates for 0 shots with Headline_Details and Summarized_label\n"
     ]
    },
    {
     "name": "stderr",
     "output_type": "stream",
     "text": [
      "100%|██████████| 1147/1147 [30:07<00:00,  1.58s/it]\n"
     ]
    },
    {
     "name": "stdout",
     "output_type": "stream",
     "text": [
      "*** Execution time for num_shots 0: 1807.09 seconds\n",
      "'float' object has no attribute 'size'\n",
      "* Evaluating with num_shots: 1\n",
      "Generating prompt templates for 1 shots with Headline_Details and Summarized_label\n"
     ]
    },
    {
     "name": "stderr",
     "output_type": "stream",
     "text": [
      "100%|██████████| 1147/1147 [24:56<00:00,  1.30s/it]\n"
     ]
    },
    {
     "name": "stdout",
     "output_type": "stream",
     "text": [
      "*** Execution time for num_shots 1: 1496.35 seconds\n",
      "'float' object has no attribute 'size'\n",
      "* Evaluating with num_shots: 2\n",
      "Generating prompt templates for 2 shots with Headline_Details and Summarized_label\n"
     ]
    },
    {
     "name": "stderr",
     "output_type": "stream",
     "text": [
      "100%|██████████| 1147/1147 [25:52<00:00,  1.35s/it]\n"
     ]
    },
    {
     "name": "stdout",
     "output_type": "stream",
     "text": [
      "*** Execution time for num_shots 2: 1552.33 seconds\n",
      "'float' object has no attribute 'size'\n",
      "* Evaluating with num_shots: 4\n",
      "Generating prompt templates for 4 shots with Headline_Details and Summarized_label\n"
     ]
    },
    {
     "name": "stderr",
     "output_type": "stream",
     "text": [
      "100%|██████████| 1147/1147 [25:58<00:00,  1.36s/it]\n"
     ]
    },
    {
     "name": "stdout",
     "output_type": "stream",
     "text": [
      "*** Execution time for num_shots 4: 1558.72 seconds\n",
      "'float' object has no attribute 'size'\n",
      "* Evaluating with num_shots: 8\n",
      "Generating prompt templates for 8 shots with Headline_Details and Summarized_label\n"
     ]
    },
    {
     "name": "stderr",
     "output_type": "stream",
     "text": [
      "100%|██████████| 1147/1147 [26:27<00:00,  1.38s/it]\n"
     ]
    },
    {
     "name": "stdout",
     "output_type": "stream",
     "text": [
      "*** Execution time for num_shots 8: 1587.68 seconds\n",
      "'float' object has no attribute 'size'\n",
      "* Evaluating with num_shots: 10\n",
      "Generating prompt templates for 10 shots with Headline_Details and Summarized_label\n"
     ]
    },
    {
     "name": "stderr",
     "output_type": "stream",
     "text": [
      "100%|██████████| 1147/1147 [26:47<00:00,  1.40s/it]\n"
     ]
    },
    {
     "name": "stdout",
     "output_type": "stream",
     "text": [
      "*** Execution time for num_shots 10: 1607.12 seconds\n",
      "'float' object has no attribute 'size'\n",
      "Evaluating model: qwen2.5:14b-instruct-fp16\n",
      "loading train/test data files\n",
      "DatasetDict({\n",
      "    train: Dataset({\n",
      "        features: ['id', 'Headline', 'Details', 'Severity', 'Region', 'Datetime', 'lat', 'lon', 'maritime_label', 'found_ports', 'contains_port_info', 'if_labeled', 'Headline_Details', 'Year', 'Month', 'Week', 'Details_cleaned', 'Category', 'Summarized_label', 'gpt-4o_label'],\n",
      "        num_rows: 4594\n",
      "    })\n",
      "    test: Dataset({\n",
      "        features: ['id', 'Headline', 'Details', 'Severity', 'Region', 'Datetime', 'lat', 'lon', 'maritime_label', 'found_ports', 'contains_port_info', 'if_labeled', 'Headline_Details', 'Year', 'Month', 'Week', 'Details_cleaned', 'Category', 'Summarized_label', 'gpt-4o_label'],\n",
      "        num_rows: 1147\n",
      "    })\n",
      "})\n",
      "* Evaluating with num_shots: 0\n",
      "Generating prompt templates for 0 shots with Headline_Details and Summarized_label\n"
     ]
    },
    {
     "name": "stderr",
     "output_type": "stream",
     "text": [
      "100%|██████████| 1147/1147 [56:59<00:00,  2.98s/it] \n"
     ]
    },
    {
     "name": "stdout",
     "output_type": "stream",
     "text": [
      "*** Execution time for num_shots 0: 3419.68 seconds\n",
      "'float' object has no attribute 'size'\n",
      "* Evaluating with num_shots: 1\n",
      "Generating prompt templates for 1 shots with Headline_Details and Summarized_label\n"
     ]
    },
    {
     "name": "stderr",
     "output_type": "stream",
     "text": [
      "100%|██████████| 1147/1147 [53:32<00:00,  2.80s/it] \n"
     ]
    },
    {
     "name": "stdout",
     "output_type": "stream",
     "text": [
      "*** Execution time for num_shots 1: 3212.56 seconds\n",
      "'float' object has no attribute 'size'\n",
      "* Evaluating with num_shots: 2\n",
      "Generating prompt templates for 2 shots with Headline_Details and Summarized_label\n"
     ]
    },
    {
     "name": "stderr",
     "output_type": "stream",
     "text": [
      "100%|██████████| 1147/1147 [1:38:08<00:00,  5.13s/it] \n"
     ]
    },
    {
     "name": "stdout",
     "output_type": "stream",
     "text": [
      "*** Execution time for num_shots 2: 5888.03 seconds\n",
      "'float' object has no attribute 'size'\n",
      "* Evaluating with num_shots: 4\n",
      "Generating prompt templates for 4 shots with Headline_Details and Summarized_label\n"
     ]
    },
    {
     "name": "stderr",
     "output_type": "stream",
     "text": [
      "100%|██████████| 1147/1147 [2:21:27<00:00,  7.40s/it]   \n"
     ]
    },
    {
     "name": "stdout",
     "output_type": "stream",
     "text": [
      "*** Execution time for num_shots 4: 8487.94 seconds\n",
      "'float' object has no attribute 'size'\n",
      "* Evaluating with num_shots: 8\n",
      "Generating prompt templates for 8 shots with Headline_Details and Summarized_label\n"
     ]
    },
    {
     "name": "stderr",
     "output_type": "stream",
     "text": [
      "100%|██████████| 1147/1147 [58:48<00:00,  3.08s/it] \n"
     ]
    },
    {
     "name": "stdout",
     "output_type": "stream",
     "text": [
      "*** Execution time for num_shots 8: 3528.64 seconds\n",
      "'float' object has no attribute 'size'\n",
      "* Evaluating with num_shots: 10\n",
      "Generating prompt templates for 10 shots with Headline_Details and Summarized_label\n"
     ]
    },
    {
     "name": "stderr",
     "output_type": "stream",
     "text": [
      "100%|██████████| 1147/1147 [59:50<00:00,  3.13s/it] \n"
     ]
    },
    {
     "name": "stdout",
     "output_type": "stream",
     "text": [
      "*** Execution time for num_shots 10: 3590.54 seconds\n",
      "'float' object has no attribute 'size'\n"
     ]
    }
   ],
   "source": [
    "all_models = [\n",
    "    \"qwen2.5:0.5b-instruct-fp16\",\n",
    "    \"llama3.2:1b-instruct-fp16\",\n",
    "    \"qwen2.5:1.5b-instruct-fp16\",\n",
    "    \"llama3.2:3b-instruct-fp16\",\n",
    "    \"qwen2.5:3b-instruct-fp16\",\n",
    "    \"qwen2.5:7b-instruct-fp16\",\n",
    "    \"llama3.1:8b-instruct-fp16\",\n",
    "    \"llama3.2-vision:11b-instruct-fp16\",\n",
    "    \"qwen2.5:14b-instruct-fp16\",\n",
    "]\n",
    "\n",
    "for model in all_models:\n",
    "    evaluate_model_with_num_shots(\n",
    "        model,\n",
    "        data_path,\n",
    "        results_path=results_path,\n",
    "        ollama=True,\n",
    "        range_num_shots=[0, 1, 2, 4, 8, 10],\n",
    "    )"
   ]
  },
  {
   "cell_type": "markdown",
   "id": "5bfc24fc",
   "metadata": {},
   "source": [
    "## System Info"
   ]
  },
  {
   "cell_type": "code",
   "execution_count": 27,
   "id": "3727bd0a",
   "metadata": {},
   "outputs": [
    {
     "name": "stdout",
     "output_type": "stream",
     "text": [
      "loading env vars from: /Users/inflaton/code/papers/maritime-incidents-ai-agents/.env.example\n",
      "Adding /Users/inflaton/code/papers/maritime-incidents-ai-agents to sys.path\n"
     ]
    },
    {
     "name": "stderr",
     "output_type": "stream",
     "text": [
      "python(13916) MallocStackLogging: can't turn off malloc stack logging because it was not enabled.\n"
     ]
    }
   ],
   "source": [
    "!pip install -q psutil"
   ]
  },
  {
   "cell_type": "code",
   "execution_count": 28,
   "id": "0cbce17b",
   "metadata": {},
   "outputs": [
    {
     "name": "stdout",
     "output_type": "stream",
     "text": [
      "Total memory: 48.00 GB\n",
      "Available memory: 13.33 GB\n",
      "Used memory: 29.85 GB\n",
      "Memory percentage: 72.2%\n"
     ]
    }
   ],
   "source": [
    "import psutil\n",
    "\n",
    "# Get the system memory information\n",
    "memory_info = psutil.virtual_memory()\n",
    "\n",
    "# Print the total, available, and used memory\n",
    "print(f\"Total memory: {memory_info.total / (1024 ** 3):.2f} GB\")\n",
    "print(f\"Available memory: {memory_info.available / (1024 ** 3):.2f} GB\")\n",
    "print(f\"Used memory: {memory_info.used / (1024 ** 3):.2f} GB\")\n",
    "print(f\"Memory percentage: {memory_info.percent}%\")"
   ]
  },
  {
   "cell_type": "code",
   "execution_count": 29,
   "id": "9ef7ae4c",
   "metadata": {},
   "outputs": [
    {
     "name": "stdout",
     "output_type": "stream",
     "text": [
      "System: Darwin\n",
      "Node Name: Donghaos-MacBook-Pro.local\n",
      "Release: 24.1.0\n",
      "Version: Darwin Kernel Version 24.1.0: Thu Oct 10 21:06:57 PDT 2024; root:xnu-11215.41.3~3/RELEASE_ARM64_T6041\n",
      "Machine: arm64\n",
      "Processor: arm\n"
     ]
    }
   ],
   "source": [
    "import platform\n",
    "\n",
    "\n",
    "def get_os_info():\n",
    "    os_info = {\n",
    "        \"System\": platform.system(),\n",
    "        \"Node Name\": platform.node(),\n",
    "        \"Release\": platform.release(),\n",
    "        \"Version\": platform.version(),\n",
    "        \"Machine\": platform.machine(),\n",
    "        \"Processor\": platform.processor(),\n",
    "    }\n",
    "    return os_info\n",
    "\n",
    "\n",
    "os_info = get_os_info()\n",
    "for key, value in os_info.items():\n",
    "    print(f\"{key}: {value}\")"
   ]
  },
  {
   "cell_type": "code",
   "execution_count": 30,
   "id": "1e6d9b2d",
   "metadata": {},
   "outputs": [
    {
     "name": "stdout",
     "output_type": "stream",
     "text": [
      "Current date/time: 2024-12-20 22:06:23.400096\n"
     ]
    }
   ],
   "source": [
    "# printe current date & time\n",
    "from datetime import datetime\n",
    "\n",
    "now = datetime.now()\n",
    "print(\"Current date/time:\", now)"
   ]
  }
 ],
 "metadata": {
  "kernelspec": {
   "display_name": "maritime",
   "language": "python",
   "name": "python3"
  },
  "language_info": {
   "codemirror_mode": {
    "name": "ipython",
    "version": 3
   },
   "file_extension": ".py",
   "mimetype": "text/x-python",
   "name": "python",
   "nbconvert_exporter": "python",
   "pygments_lexer": "ipython3",
   "version": "3.11.11"
  }
 },
 "nbformat": 4,
 "nbformat_minor": 5
}
